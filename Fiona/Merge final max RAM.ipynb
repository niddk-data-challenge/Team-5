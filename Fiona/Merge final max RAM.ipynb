{
 "cells": [
  {
   "cell_type": "code",
   "execution_count": 3,
   "id": "1cbc0bb5",
   "metadata": {},
   "outputs": [],
   "source": [
    "import pandas as pd\n",
    "path1='Processing data/TN01/TN_researchlabs.csv'\n",
    "path2='Processing data/TN01/TN_info.csv'\n",
    "path3='Processing data/TN01/TN.csv',"
   ]
  },
  {
   "cell_type": "code",
   "execution_count": 2,
   "id": "b5418542",
   "metadata": {},
   "outputs": [],
   "source": [
    "chunk_size = 10000  # Adjust this to an appropriate size"
   ]
  },
  {
   "cell_type": "code",
   "execution_count": 3,
   "id": "0a2a2ab9",
   "metadata": {},
   "outputs": [
    {
     "name": "stdout",
     "output_type": "stream",
     "text": [
      "(1803533, 14)\n"
     ]
    },
    {
     "ename": "AttributeError",
     "evalue": "'TextFileReader' object has no attribute 'shape'",
     "output_type": "error",
     "traceback": [
      "\u001b[0;31m---------------------------------------------------------------------------\u001b[0m",
      "\u001b[0;31mAttributeError\u001b[0m                            Traceback (most recent call last)",
      "Cell \u001b[0;32mIn[3], line 4\u001b[0m\n\u001b[1;32m      2\u001b[0m merged_df_info\u001b[38;5;241m=\u001b[39mpd\u001b[38;5;241m.\u001b[39mread_csv(\u001b[38;5;124m'\u001b[39m\u001b[38;5;124mProcessing data/TN01/TN_info.csv\u001b[39m\u001b[38;5;124m'\u001b[39m, chunksize\u001b[38;5;241m=\u001b[39mchunk_size)\n\u001b[1;32m      3\u001b[0m \u001b[38;5;28mprint\u001b[39m(merged_df_lab\u001b[38;5;241m.\u001b[39mshape)\n\u001b[0;32m----> 4\u001b[0m \u001b[38;5;28mprint\u001b[39m(\u001b[43mmerged_df_info\u001b[49m\u001b[38;5;241;43m.\u001b[39;49m\u001b[43mshape\u001b[49m)\n",
      "\u001b[0;31mAttributeError\u001b[0m: 'TextFileReader' object has no attribute 'shape'"
     ]
    }
   ],
   "source": [
    "merged_df_lab=pd.read_csv('Processing data/TN01/TN_researchlabs.csv')\n",
    "merged_df_info=pd.read_csv('Processing data/TN01/TN_info.csv', chunksize=chunk_size)\n",
    "print(merged_df_lab.shape)\n",
    "print(merged_df_info.shape)"
   ]
  },
  {
   "cell_type": "code",
   "execution_count": null,
   "id": "ccdbd358",
   "metadata": {},
   "outputs": [],
   "source": [
    "merged_df_info = pd.concat([merged_df_info, merged_df_lab], ignore_index=True) \n",
    "print(merged_df_info.shape)\n",
    "merged_df.to_csv('Processing data/TN01/TN.csv', index=False)"
   ]
  },
  {
   "cell_type": "code",
   "execution_count": null,
   "id": "e888ba7c",
   "metadata": {},
   "outputs": [
    {
     "name": "stderr",
     "output_type": "stream",
     "text": [
      "/tmp/ipykernel_11652/1195795705.py:16: DtypeWarning: Columns (8,16,17,19,23,24) have mixed types. Specify dtype option on import or set low_memory=False.\n",
      "  for chunk in pd.read_csv(file2_path, chunksize=chunk_size):\n",
      "/tmp/ipykernel_11652/1195795705.py:16: DtypeWarning: Columns (3,16,17,19) have mixed types. Specify dtype option on import or set low_memory=False.\n",
      "  for chunk in pd.read_csv(file2_path, chunksize=chunk_size):\n",
      "/tmp/ipykernel_11652/1195795705.py:16: DtypeWarning: Columns (3,8,16,17,18,19) have mixed types. Specify dtype option on import or set low_memory=False.\n",
      "  for chunk in pd.read_csv(file2_path, chunksize=chunk_size):\n",
      "/tmp/ipykernel_11652/1195795705.py:16: DtypeWarning: Columns (3,16,17,19,23) have mixed types. Specify dtype option on import or set low_memory=False.\n",
      "  for chunk in pd.read_csv(file2_path, chunksize=chunk_size):\n",
      "/tmp/ipykernel_11652/1195795705.py:16: DtypeWarning: Columns (3,4,5,6,8,11,14,16,17,19,20,21,23,24,28,30,37,38,39,40,41,42,49,57,60,63,66,68,69,73,74,78,79,80,81,82,83,84,85,86,87,89,91) have mixed types. Specify dtype option on import or set low_memory=False.\n",
      "  for chunk in pd.read_csv(file2_path, chunksize=chunk_size):\n",
      "/tmp/ipykernel_11652/1195795705.py:16: DtypeWarning: Columns (6,20,24,89,91,98,103,110,111,114,115,118,119,122,123,126,127,130,131,134,135,138,139,143,144,148,149,153,154,158,159,163,164,167,169,170,171,172,173,174,176,178,179,180,181,183,186,187,189,190,193,194,195,197,198,199,202,203,204,206,207,213,214,218,219,220,221,222,223,224,225,226,228,230,231,233,235,237,239,241,243,245,247,249,252,254,256,258,259,264,265,271,280,292,293,294,296,307,308,309,310,311,312,313,314,315,316,317,318,319,320,322,325,326,327,328,331,332,333,334,338,339,340,341,345,346,347,348,352,353,354,355,358,360,363,366,367,368,370,371,379,392,393,394,395,396,397,398,399,400,402,404,407,411,413,414,415) have mixed types. Specify dtype option on import or set low_memory=False.\n",
      "  for chunk in pd.read_csv(file2_path, chunksize=chunk_size):\n",
      "/tmp/ipykernel_11652/1195795705.py:16: DtypeWarning: Columns (358,393,399,400,413,414,415) have mixed types. Specify dtype option on import or set low_memory=False.\n",
      "  for chunk in pd.read_csv(file2_path, chunksize=chunk_size):\n",
      "/tmp/ipykernel_11652/1195795705.py:16: DtypeWarning: Columns (358,395,396,397,399,400,404,413,414,415) have mixed types. Specify dtype option on import or set low_memory=False.\n",
      "  for chunk in pd.read_csv(file2_path, chunksize=chunk_size):\n",
      "/tmp/ipykernel_11652/1195795705.py:16: DtypeWarning: Columns (393,399,413,414,415) have mixed types. Specify dtype option on import or set low_memory=False.\n",
      "  for chunk in pd.read_csv(file2_path, chunksize=chunk_size):\n",
      "/tmp/ipykernel_11652/1195795705.py:16: DtypeWarning: Columns (20,358,395,396,397,399,400,413,414,415) have mixed types. Specify dtype option on import or set low_memory=False.\n",
      "  for chunk in pd.read_csv(file2_path, chunksize=chunk_size):\n",
      "/tmp/ipykernel_11652/1195795705.py:16: DtypeWarning: Columns (393,399,400,413,414,415) have mixed types. Specify dtype option on import or set low_memory=False.\n",
      "  for chunk in pd.read_csv(file2_path, chunksize=chunk_size):\n",
      "/tmp/ipykernel_11652/1195795705.py:16: DtypeWarning: Columns (358,393,399,413,414,415) have mixed types. Specify dtype option on import or set low_memory=False.\n",
      "  for chunk in pd.read_csv(file2_path, chunksize=chunk_size):\n",
      "/tmp/ipykernel_11652/1195795705.py:16: DtypeWarning: Columns (24,358,393,399,400,413,414,415) have mixed types. Specify dtype option on import or set low_memory=False.\n",
      "  for chunk in pd.read_csv(file2_path, chunksize=chunk_size):\n",
      "/tmp/ipykernel_11652/1195795705.py:16: DtypeWarning: Columns (20,24,358,393,399,400,413,414,415) have mixed types. Specify dtype option on import or set low_memory=False.\n",
      "  for chunk in pd.read_csv(file2_path, chunksize=chunk_size):\n",
      "/tmp/ipykernel_11652/1195795705.py:16: DtypeWarning: Columns (20,24,358,399,413,414,415) have mixed types. Specify dtype option on import or set low_memory=False.\n",
      "  for chunk in pd.read_csv(file2_path, chunksize=chunk_size):\n",
      "/tmp/ipykernel_11652/1195795705.py:16: DtypeWarning: Columns (20,358,395,396,397,399,400,404,413,414,415) have mixed types. Specify dtype option on import or set low_memory=False.\n",
      "  for chunk in pd.read_csv(file2_path, chunksize=chunk_size):\n",
      "/tmp/ipykernel_11652/1195795705.py:16: DtypeWarning: Columns (20,24,358,393,395,396,397,399,404,413,414,415) have mixed types. Specify dtype option on import or set low_memory=False.\n",
      "  for chunk in pd.read_csv(file2_path, chunksize=chunk_size):\n",
      "/tmp/ipykernel_11652/1195795705.py:16: DtypeWarning: Columns (20,24,358,393,399,400,413,414,415) have mixed types. Specify dtype option on import or set low_memory=False.\n",
      "  for chunk in pd.read_csv(file2_path, chunksize=chunk_size):\n",
      "/tmp/ipykernel_11652/1195795705.py:16: DtypeWarning: Columns (358,399,400,413,414,415) have mixed types. Specify dtype option on import or set low_memory=False.\n",
      "  for chunk in pd.read_csv(file2_path, chunksize=chunk_size):\n",
      "/tmp/ipykernel_11652/1195795705.py:16: DtypeWarning: Columns (20,358,393,399,400,413,414,415) have mixed types. Specify dtype option on import or set low_memory=False.\n",
      "  for chunk in pd.read_csv(file2_path, chunksize=chunk_size):\n",
      "/tmp/ipykernel_11652/1195795705.py:16: DtypeWarning: Columns (358,393,399,400,413,414,415) have mixed types. Specify dtype option on import or set low_memory=False.\n",
      "  for chunk in pd.read_csv(file2_path, chunksize=chunk_size):\n",
      "/tmp/ipykernel_11652/1195795705.py:16: DtypeWarning: Columns (20,24,358,393,399,413,414,415) have mixed types. Specify dtype option on import or set low_memory=False.\n",
      "  for chunk in pd.read_csv(file2_path, chunksize=chunk_size):\n",
      "/tmp/ipykernel_11652/1195795705.py:16: DtypeWarning: Columns (358,393,399,400,413,414,415) have mixed types. Specify dtype option on import or set low_memory=False.\n",
      "  for chunk in pd.read_csv(file2_path, chunksize=chunk_size):\n",
      "/tmp/ipykernel_11652/1195795705.py:16: DtypeWarning: Columns (358,393,399,400,404,413,414,415) have mixed types. Specify dtype option on import or set low_memory=False.\n",
      "  for chunk in pd.read_csv(file2_path, chunksize=chunk_size):\n",
      "/tmp/ipykernel_11652/1195795705.py:16: DtypeWarning: Columns (20,24,358,393,395,396,397,399,413,414,415) have mixed types. Specify dtype option on import or set low_memory=False.\n",
      "  for chunk in pd.read_csv(file2_path, chunksize=chunk_size):\n",
      "/tmp/ipykernel_11652/1195795705.py:16: DtypeWarning: Columns (20,24,358,395,396,397,399,400,404,413,414,415) have mixed types. Specify dtype option on import or set low_memory=False.\n",
      "  for chunk in pd.read_csv(file2_path, chunksize=chunk_size):\n",
      "/tmp/ipykernel_11652/1195795705.py:16: DtypeWarning: Columns (20,24,358,399,400,413,414,415) have mixed types. Specify dtype option on import or set low_memory=False.\n",
      "  for chunk in pd.read_csv(file2_path, chunksize=chunk_size):\n",
      "/tmp/ipykernel_11652/1195795705.py:16: DtypeWarning: Columns (24,358,399,400,413,414,415) have mixed types. Specify dtype option on import or set low_memory=False.\n",
      "  for chunk in pd.read_csv(file2_path, chunksize=chunk_size):\n",
      "/tmp/ipykernel_11652/1195795705.py:16: DtypeWarning: Columns (6,20,24,358,360,363,366,367,368,370,371,379,392,393,394,395,396,397,398,399,400,402,404,407,411,413,414,415,417,418,422,423,428) have mixed types. Specify dtype option on import or set low_memory=False.\n",
      "  for chunk in pd.read_csv(file2_path, chunksize=chunk_size):\n",
      "/tmp/ipykernel_11652/1195795705.py:16: DtypeWarning: Columns (422,423,427,428,432,433,437,438,442,443,447,448,452,453) have mixed types. Specify dtype option on import or set low_memory=False.\n",
      "  for chunk in pd.read_csv(file2_path, chunksize=chunk_size):\n",
      "/tmp/ipykernel_11652/1195795705.py:16: DtypeWarning: Columns (432,437,438,442,443,447,448,452,453,457,458,462) have mixed types. Specify dtype option on import or set low_memory=False.\n",
      "  for chunk in pd.read_csv(file2_path, chunksize=chunk_size):\n",
      "/tmp/ipykernel_11652/1195795705.py:16: DtypeWarning: Columns (427,428,432,433,437,438,442,443,447,448,452,453) have mixed types. Specify dtype option on import or set low_memory=False.\n",
      "  for chunk in pd.read_csv(file2_path, chunksize=chunk_size):\n",
      "/tmp/ipykernel_11652/1195795705.py:16: DtypeWarning: Columns (432,433,437,438,442,443,447,448,452,453) have mixed types. Specify dtype option on import or set low_memory=False.\n",
      "  for chunk in pd.read_csv(file2_path, chunksize=chunk_size):\n"
     ]
    },
    {
     "name": "stderr",
     "output_type": "stream",
     "text": [
      "/tmp/ipykernel_11652/1195795705.py:16: DtypeWarning: Columns (432,437,438,442,443,447,448,452,453) have mixed types. Specify dtype option on import or set low_memory=False.\n",
      "  for chunk in pd.read_csv(file2_path, chunksize=chunk_size):\n",
      "/tmp/ipykernel_11652/1195795705.py:16: DtypeWarning: Columns (432,433,437,438,442,443,447,448,452,453,457,458,462) have mixed types. Specify dtype option on import or set low_memory=False.\n",
      "  for chunk in pd.read_csv(file2_path, chunksize=chunk_size):\n",
      "/tmp/ipykernel_11652/1195795705.py:16: DtypeWarning: Columns (427,428,432,433,437,438,442,443,447,448,452,453) have mixed types. Specify dtype option on import or set low_memory=False.\n",
      "  for chunk in pd.read_csv(file2_path, chunksize=chunk_size):\n",
      "/tmp/ipykernel_11652/1195795705.py:16: DtypeWarning: Columns (427,428,432,433,437,438,442,443,447,448,452,453,457,463) have mixed types. Specify dtype option on import or set low_memory=False.\n",
      "  for chunk in pd.read_csv(file2_path, chunksize=chunk_size):\n",
      "/tmp/ipykernel_11652/1195795705.py:16: DtypeWarning: Columns (427,432,433,437,438,442,443,447,448,452,453,457,458,462) have mixed types. Specify dtype option on import or set low_memory=False.\n",
      "  for chunk in pd.read_csv(file2_path, chunksize=chunk_size):\n",
      "/tmp/ipykernel_11652/1195795705.py:16: DtypeWarning: Columns (427,428,432,433,437,438,442,443,447,448,452,453) have mixed types. Specify dtype option on import or set low_memory=False.\n",
      "  for chunk in pd.read_csv(file2_path, chunksize=chunk_size):\n",
      "/tmp/ipykernel_11652/1195795705.py:16: DtypeWarning: Columns (427,428,432,433,437,438,442,443,447,448,453) have mixed types. Specify dtype option on import or set low_memory=False.\n",
      "  for chunk in pd.read_csv(file2_path, chunksize=chunk_size):\n",
      "/tmp/ipykernel_11652/1195795705.py:16: DtypeWarning: Columns (432,433,437,438,442,443,447,448,452,453,457,458,462,463,464,468,469,470,474) have mixed types. Specify dtype option on import or set low_memory=False.\n",
      "  for chunk in pd.read_csv(file2_path, chunksize=chunk_size):\n",
      "/tmp/ipykernel_11652/1195795705.py:16: DtypeWarning: Columns (432,433,437,438,442,443,447,448,452,453,457,458) have mixed types. Specify dtype option on import or set low_memory=False.\n",
      "  for chunk in pd.read_csv(file2_path, chunksize=chunk_size):\n",
      "/tmp/ipykernel_11652/1195795705.py:16: DtypeWarning: Columns (432,433,437,438,442,443,447,448,452,453) have mixed types. Specify dtype option on import or set low_memory=False.\n",
      "  for chunk in pd.read_csv(file2_path, chunksize=chunk_size):\n",
      "/tmp/ipykernel_11652/1195795705.py:16: DtypeWarning: Columns (427,428,432,433,437,438,442,443,447,448,452,453) have mixed types. Specify dtype option on import or set low_memory=False.\n",
      "  for chunk in pd.read_csv(file2_path, chunksize=chunk_size):\n",
      "/tmp/ipykernel_11652/1195795705.py:16: DtypeWarning: Columns (427,428,432,433,437,438,442,443,447,448,452,453,457,458,462) have mixed types. Specify dtype option on import or set low_memory=False.\n",
      "  for chunk in pd.read_csv(file2_path, chunksize=chunk_size):\n",
      "/tmp/ipykernel_11652/1195795705.py:16: DtypeWarning: Columns (427,432,433,437,438,442,443,447,448,452,453,457,458,462,463,464,468,469,470,474,475,476,477,478,479,480,481,482,483) have mixed types. Specify dtype option on import or set low_memory=False.\n",
      "  for chunk in pd.read_csv(file2_path, chunksize=chunk_size):\n",
      "/tmp/ipykernel_11652/1195795705.py:16: DtypeWarning: Columns (432,433,437,438,442,443,447,448,452,453) have mixed types. Specify dtype option on import or set low_memory=False.\n",
      "  for chunk in pd.read_csv(file2_path, chunksize=chunk_size):\n",
      "/tmp/ipykernel_11652/1195795705.py:16: DtypeWarning: Columns (427,428,432,433,437,438,442,443,447,448,452,453) have mixed types. Specify dtype option on import or set low_memory=False.\n",
      "  for chunk in pd.read_csv(file2_path, chunksize=chunk_size):\n",
      "/tmp/ipykernel_11652/1195795705.py:16: DtypeWarning: Columns (432,433,437,438,442,443,447,448,452,453) have mixed types. Specify dtype option on import or set low_memory=False.\n",
      "  for chunk in pd.read_csv(file2_path, chunksize=chunk_size):\n",
      "/tmp/ipykernel_11652/1195795705.py:16: DtypeWarning: Columns (432,437,438,442,443,447,448,452,453) have mixed types. Specify dtype option on import or set low_memory=False.\n",
      "  for chunk in pd.read_csv(file2_path, chunksize=chunk_size):\n",
      "/tmp/ipykernel_11652/1195795705.py:16: DtypeWarning: Columns (437,438,442,443,447,448,452,453,457,458,463,464) have mixed types. Specify dtype option on import or set low_memory=False.\n",
      "  for chunk in pd.read_csv(file2_path, chunksize=chunk_size):\n",
      "/tmp/ipykernel_11652/1195795705.py:16: DtypeWarning: Columns (427,432,433,437,438,442,443,447,448,452,453,457,458) have mixed types. Specify dtype option on import or set low_memory=False.\n",
      "  for chunk in pd.read_csv(file2_path, chunksize=chunk_size):\n",
      "/tmp/ipykernel_11652/1195795705.py:16: DtypeWarning: Columns (24,358,404,407,413,414,417,418,422,423,427,428,432,433,437,442,447,484,485,486,487,488,489,491,493,494,495,496,497,498,499,500,501,502,503,504,505,506,507,508,509,510,511,512,513,514,521,522,523,524,525,526,527,528,529,530,531,532,533,534,535,536,537,538,539,540,541,542,543,544,545,546,547,548,549,550,551,552,553,554,555,556,557,558,559,560,561,562,563,564,565,566,567,568,569,570,571,577,580,586,587,588,589,590,591,592,593,594,595,596,597,598,599,600,601,602,603,604,605,606,607,608,609,610,611,612,613,614,615,616,617) have mixed types. Specify dtype option on import or set low_memory=False.\n",
      "  for chunk in pd.read_csv(file2_path, chunksize=chunk_size):\n",
      "/tmp/ipykernel_11652/1195795705.py:16: DtypeWarning: Columns (358,413,414,566,567,569,609,611) have mixed types. Specify dtype option on import or set low_memory=False.\n",
      "  for chunk in pd.read_csv(file2_path, chunksize=chunk_size):\n",
      "/tmp/ipykernel_11652/1195795705.py:16: DtypeWarning: Columns (358,407,413,414,484,485,487,489,491,498,514,527,528,529,530,531,535,537,538,539,540,542,544,546,551,553,554,555,561,562,563,566,567,568,569,577,580,586,587,588,589,590,591,592,593,594,595,596,597,598,599,600,601,602,603,604,605,606,607,608,609,610,611,612,613,614,615,616,617,618,619,620,621,622,623,624,625,626,627,629,632,635,637,639,641,643,644,647) have mixed types. Specify dtype option on import or set low_memory=False.\n",
      "  for chunk in pd.read_csv(file2_path, chunksize=chunk_size):\n",
      "/tmp/ipykernel_11652/1195795705.py:16: DtypeWarning: Columns (635,642,643,644) have mixed types. Specify dtype option on import or set low_memory=False.\n",
      "  for chunk in pd.read_csv(file2_path, chunksize=chunk_size):\n",
      "/tmp/ipykernel_11652/1195795705.py:16: DtypeWarning: Columns (629,632,635,637,639,641,642,643,644,647,650,652,653,655,658,660,663,665,666,668,669,671,672,674,675,677,678,682,683,686,690,693,697,700,704,707,711,714,718,721,725,728,732,734,735,737,741,743,744,746,750,752,753,755,759,761,762,764,768,770,771,773,777,779,780,782,786,788,789,791,795,797,798,800,804,806,807,809,811,813,814,819) have mixed types. Specify dtype option on import or set low_memory=False.\n",
      "  for chunk in pd.read_csv(file2_path, chunksize=chunk_size):\n",
      "/tmp/ipykernel_11652/1195795705.py:16: DtypeWarning: Columns (368,370,371,404,407,417,418,422,423,427,428,432,433,437,438,484,485,486,487,489,491,493,494,495,496,497,498,499,500,501,502,503,504,505,506,507,508,509,510,511,512,513,514,524,525,526,527,528,529,530,531,532,533,534,535,536,537,538,539,540,541,542,543,544,545,546,547,548,551,552,553,554,555,556,558,559,560,561,562,563,564,565,566,567,568,577,580,586,587,588,589,590,591,592,593,594,595,596,597,598,599,600,603,604,605,606,607,608,609,610,612,616,617,619,622,623,624,625,626,650,652,653,655,658,660,663,665,666,668,669,671,672,674,675,677,678,682,686,690,693,697,700,704,707,711,714,718,721,725,728,732,734,735,737,741,743,744,746,750,752,753,755,759,761,762,764,768,770,771,773,777,779,780,782,786,788,789,791,795,797,798,819,821,823,826,828,831,833,836,838,841,843,846,847,849,852,854,858,861,863,867,870,872,875,876,878,881,882,884,887,888,890,893,895,897,898,899,901,903,904,905,907,909,910,911,913,915,916,917,919,921,922,923,924,926,928,930,932,934,936,938,940,942,945,947,950,952,955,957,960,962,963,964,965,966,967,968,970,972,973,974,975,976,977,978,979,980,981,982,983,991,994,1000,1001,1002,1003,1004,1005,1006,1007,1008,1009,1010,1011,1012,1013,1014,1015,1016,1017,1018,1019,1020,1021,1022,1023,1024,1025,1026,1027,1028,1029,1030,1031,1032,1033,1034,1035,1036,1037,1038,1039,1040,1041,1042,1043,1044,1045,1046,1047,1048,1049,1050,1051,1052,1053,1054,1055,1056,1057,1058,1059,1060,1130,1131,1132,1133,1134,1135,1136,1137,1138,1139,1140,1141,1142,1143,1144,1145,1146,1147,1149,1151,1152,1153,1154) have mixed types. Specify dtype option on import or set low_memory=False.\n",
      "  for chunk in pd.read_csv(file2_path, chunksize=chunk_size):\n"
     ]
    },
    {
     "name": "stderr",
     "output_type": "stream",
     "text": [
      "/tmp/ipykernel_11652/1195795705.py:16: DtypeWarning: Columns (1154) have mixed types. Specify dtype option on import or set low_memory=False.\n",
      "  for chunk in pd.read_csv(file2_path, chunksize=chunk_size):\n",
      "/tmp/ipykernel_11652/1195795705.py:16: DtypeWarning: Columns (1154) have mixed types. Specify dtype option on import or set low_memory=False.\n",
      "  for chunk in pd.read_csv(file2_path, chunksize=chunk_size):\n",
      "/tmp/ipykernel_11652/1195795705.py:16: DtypeWarning: Columns (1154) have mixed types. Specify dtype option on import or set low_memory=False.\n",
      "  for chunk in pd.read_csv(file2_path, chunksize=chunk_size):\n",
      "/tmp/ipykernel_11652/1195795705.py:16: DtypeWarning: Columns (1154) have mixed types. Specify dtype option on import or set low_memory=False.\n",
      "  for chunk in pd.read_csv(file2_path, chunksize=chunk_size):\n",
      "/tmp/ipykernel_11652/1195795705.py:16: DtypeWarning: Columns (1154) have mixed types. Specify dtype option on import or set low_memory=False.\n",
      "  for chunk in pd.read_csv(file2_path, chunksize=chunk_size):\n",
      "/tmp/ipykernel_11652/1195795705.py:16: DtypeWarning: Columns (1154) have mixed types. Specify dtype option on import or set low_memory=False.\n",
      "  for chunk in pd.read_csv(file2_path, chunksize=chunk_size):\n",
      "/tmp/ipykernel_11652/1195795705.py:16: DtypeWarning: Columns (1153,1155,1156,1157) have mixed types. Specify dtype option on import or set low_memory=False.\n",
      "  for chunk in pd.read_csv(file2_path, chunksize=chunk_size):\n",
      "/tmp/ipykernel_11652/1195795705.py:16: DtypeWarning: Columns (22,74,78,1155,1156,1157,1159,1161,1162,1163,1164,1165) have mixed types. Specify dtype option on import or set low_memory=False.\n",
      "  for chunk in pd.read_csv(file2_path, chunksize=chunk_size):\n",
      "/tmp/ipykernel_11652/1195795705.py:16: DtypeWarning: Columns (1,2,22,1165,1166,1167,1168) have mixed types. Specify dtype option on import or set low_memory=False.\n",
      "  for chunk in pd.read_csv(file2_path, chunksize=chunk_size):\n",
      "/tmp/ipykernel_11652/1195795705.py:16: DtypeWarning: Columns (0,1,2,28,30,37,38,39,41,42,49,68,69,73,80,84,85,86,632,635,637,639,641,642,1166,1167,1168,1170,1171,1172,1174,1175,1176,1177,1178,1179,1180,1181,1182,1184,1186,1188) have mixed types. Specify dtype option on import or set low_memory=False.\n",
      "  for chunk in pd.read_csv(file2_path, chunksize=chunk_size):\n",
      "/tmp/ipykernel_11652/1195795705.py:16: DtypeWarning: Columns (1,2,22,28,38,39,42,68,73,74,80,98,103,110,111,114,115,118,119,122,123,125,126,127,129,130,131,133,134,135,138,139,142,143,144,147,148,149,152,153,154,157,158,159,162,163,164,223,228,259,264,292,296,307,308,309,371,637,639,641,1155,1156,1157,1159,1161,1162,1164,1166,1167,1168,1170,1172,1174,1175,1176,1177,1178,1179,1180,1181,1182,1184,1186,1188,1190,1191,1196,1202,1204,1206,1207,1208,1209,1211,1214,1217,1221,1223,1226,1228,1229,1232,1234,1236,1238,1239,1240,1247,1252,1257,1258,1261,1262,1264,1266,1267,1269,1271,1272,1273,1275,1276,1277,1279,1280,1281,1285,1286,1287,1288,1289,1290,1291,1292,1293,1297,1298,1299,1300,1301,1302,1303,1304,1305,1306,1307,1308,1309,1310,1311,1312,1313,1314,1315,1316,1317,1318,1324,1325,1326,1327,1328,1329,1330,1331,1334,1335,1336,1337,1338,1339,1340,1341,1342,1343,1344,1345,1346,1347,1348,1349,1350,1351,1352,1353,1354,1355,1356,1357,1358,1360,1362,1363,1364,1365,1366,1369,1370,1371,1372,1373,1374,1375,1376,1377,1378,1379,1380,1388,1389,1390,1391,1392,1393,1394,1395,1396,1397,1398,1399,1400,1401,1402,1403,1404,1405,1406,1407,1409,1411,1412,1413,1414,1417,1419,1421,1422,1425,1428,1431,1432,1433,1434,1435,1438,1441,1444,1445,1446,1448,1450,1452,1453,1494,1495,1496,1497,1498,1499,1500,1501,1502,1503,1504,1505,1506,1507,1508,1510,1512,1513,1514,1515,1516,1517,1518,1519,1520,1521,1522,1524,1525,1529,1530,1531,1534,1535,1536,1537,1551,1552,1553,1555,1559,1560,1563,1566,1567,1568,1570,1571,1572,1573,1819,1821,1823,1825,1827,1829,1831,1833,1835,1837,1838,1840,1844,1846,1847,1848,1875,1876,1895,1905,1921,1922,1926,1930) have mixed types. Specify dtype option on import or set low_memory=False.\n",
      "  for chunk in pd.read_csv(file2_path, chunksize=chunk_size):\n",
      "/tmp/ipykernel_11652/1195795705.py:16: DtypeWarning: Columns (1,2,28,38,39,40,42,68,73,80,98,100,101,103,105,106,107,108,109,110,111,112,113,114,115,116,117,118,119,120,121,122,123,124,125,126,127,128,129,130,131,132,133,134,135,136,137,138,139,140,141,142,143,144,145,146,147,148,149,150,151,152,153,154,155,156,157,158,159,160,161,162,163,164,314,315,584,585,608,609,628,630,632,634,635,636,637,638,639,640,641,645,646,650,652,653,655,665,666,668,669,671,672,674,675,728,732,734,735,737,741,743,744,746,750,752,753,755,759,761,762,819,1155,1156,1157,1166,1167,1170,1172,1173,1174,1175,1176,1177,1178,1179,1180,1181,1182,1183,1184,1185,1186,1187,1188,1189,1334,1335,1336,1337,1338,1339,1340,1341,1342,1343,1344,1345,1346,1347,1388,1389,1390,1391,1392,1393,1394,1395,1396,1397,1398,1399,1400,1401,1402,1403,1404,1405,1406,1407,1409,1411,1412,1413,1450,1452,1453,1495,1566,1567,1568,1569,1570,1571,1572,1573,1819,1821,1823,1825,1827,1829,1831,1833,1835,1837,1838,1840,1844,1846,1847,1848,1849,1850,1854,1858,1860,1864,1868,1869,1873,1874,1875,1876,1895,1905,1921,1922,1926,1930,1934,1938,1942,1946,1950,1951,1952,1953,1954,1955,1957,1958,1959,1960,1961,1962,1963,1964,1970,1971,1972,1973,1974,1975,1976,1977,1988,1989,1990,1991,1992,1993,1994,1995,1996,1997,1998,1999,2001,2005,2008,2012,2014,2015,2016,2017,2018,2043,2044,2045,2056,2057,2058,2059,2252,2255,2257,2258,2259,2260,2262,2263,2264,2266,2267,2268,2270,2271,2272,2274,2275,2276,2278,2279,2280,2282,2283,2284,2285,2286,2287,2288,2290,2291,2292,2294,2295,2296,2298,2299,2300,2302,2303,2304,2306,2307,2308,2310,2311,2312,2313,2314,2315,2316,2317,2318,2319,2322,2324,2325,2326,2327,2328,2329,2330,2331,2332,2333,2334,2335,2337,2338,2339,2340,2341,2342,2343,2344,2345,2346,2348,2349,2350,2351,2352,2353,2354,2355,2356,2357,2358,2360,2361,2362,2363,2364,2365,2366,2368,2369,2370,2371,2372,2373,2374,2376,2377,2378,2380,2381,2382,2383,2384,2385,2386,2388,2389,2390,2391,2392,2393,2394,2395,2396,2397,2398,2400,2401,2402,2403,2404,2405,2406,2407,2408,2409,2410,2411,2412,2413,2414,2415,2416,2417,2418,2419,2420,2421,2422,2423,2424,2425,2426,2427,2428,2430,2431,2432,2433,2434,2435,2436,2437,2438,2439,2440,2441,2442,2444,2445,2446,2447,2448,2449,2450,2451,2452,2453,2454,2455,2456,2457,2458,2459,2460,2461,2462,2463,2464,2465,2466,2467,2468,2469,2470,2471,2472,2473,2474,2475,2476,2477,2478,2479,2480,2481,2482,2483,2484,2485,2486,2487,2488,2489,2490,2491,2492,2493,2494,2495,2496,2497,2498,2499,2500,2501,2502,2503,2504,2505,2506,2507,2508,2509,2510,2511,2512,2513,2514,2515,2516,2517,2518,2519,2520,2521,2522,2523,2524,2526,2527,2528,2529,2530,2531,2532,2533,2534,2535,2536,2537,2538,2539,2540,2541,2542,2543,2544,2545,2548,2550,2551,2552,2553,2554,2555,2556,2558,2560,2561,2562,2563,2564) have mixed types. Specify dtype option on import or set low_memory=False.\n",
      "  for chunk in pd.read_csv(file2_path, chunksize=chunk_size):\n"
     ]
    }
   ],
   "source": [
    "\n",
    "# Specify the file paths for your two large CSV files\n",
    "file1_path = path1\n",
    "file2_path = path2\n",
    "\n",
    "# Specify the chunk size for reading the CSV files\n",
    "chunk_size = 10000  # Adjust as needed based on your available memory\n",
    "\n",
    "# Initialize an empty list to store the chunks\n",
    "chunks = []\n",
    "\n",
    "# Read and concatenate the first CSV file in chunks\n",
    "for chunk in pd.read_csv(file1_path, chunksize=chunk_size):\n",
    "    chunks.append(chunk)\n",
    "\n",
    "# Read and concatenate the second CSV file in chunks\n",
    "for chunk in pd.read_csv(file2_path, chunksize=chunk_size):\n",
    "    chunks.append(chunk)\n",
    "\n",
    "# Concatenate all the chunks into a single DataFrame\n",
    "concatenated_df = pd.concat(chunks, ignore_index=True)\n",
    "\n",
    "# Specify the file path for the concatenated CSV file\n",
    "output_csv_path = path3\n",
    "\n",
    "# Save the concatenated DataFrame to a CSV file\n",
    "concatenated_df.to_csv(output_csv_path, index=False)\n",
    "\n",
    "print(f\"Concatenated CSV file saved as '{output_csv_path}'\")\n"
   ]
  },
  {
   "cell_type": "code",
   "execution_count": null,
   "id": "f26a9288",
   "metadata": {},
   "outputs": [],
   "source": []
  }
 ],
 "metadata": {
  "kernelspec": {
   "display_name": "conda_python3",
   "language": "python",
   "name": "conda_python3"
  },
  "language_info": {
   "codemirror_mode": {
    "name": "ipython",
    "version": 3
   },
   "file_extension": ".py",
   "mimetype": "text/x-python",
   "name": "python",
   "nbconvert_exporter": "python",
   "pygments_lexer": "ipython3",
   "version": "3.10.13"
  }
 },
 "nbformat": 4,
 "nbformat_minor": 5
}
