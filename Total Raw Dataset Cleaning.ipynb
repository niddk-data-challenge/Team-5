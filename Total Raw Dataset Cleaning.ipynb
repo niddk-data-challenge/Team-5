{
 "cells": [
  {
   "cell_type": "code",
   "execution_count": 78,
   "id": "cd87a4fc",
   "metadata": {},
   "outputs": [],
   "source": [
    "import pandas as pd\n",
    "import numpy as np\n",
    "from sklearn.datasets import load_iris\n",
    "import matplotlib.pyplot as plt\n",
    "import seaborn as sns"
   ]
  },
  {
   "cell_type": "code",
   "execution_count": 79,
   "id": "7b22fe1e",
   "metadata": {},
   "outputs": [
    {
     "name": "stderr",
     "output_type": "stream",
     "text": [
      "/tmp/ipykernel_11566/2699864545.py:2: DtypeWarning: Columns (3,4,5,6,10,15,17,21,22,24,25,27,28,30,31,33,35,36,38,40,41,44,45,48,49,52,53,56,57,60,61,62,63,64,65,66,67,68,69,70,71,72,73,75,78,81,82,83,85,86,94,107,108,109,110,111,112,113,114,115,117,119,122,126,128,129,130,132,133,137,138,142,143,147,148,152,153,157,158,162,163,167,168,169,170,171,172,173,175,177,178,179,180,181,182,183,184,185,186,187,188,189,190,191,192,193,194,195,196,197,198,205,206,207,208,209,210,211,212,213,214,215,216,217,218,219,220,221,222,223,224,225,226,227,228,229,230,231,232,233,234,235,236,237,238,239,240,241,242,243,244,245,246,247,248,249,253,256,260,261,262,263,264,265,266,267,268,269,270,271,272,273,274,275,276,277,278,279,280,281,284,285,286,287,288,289,290,291,292,293,294,295,296,297,298,300,302,303,304,305,307,310,313,317,319,322,324,325,328,330,332,334,335,336,338,343,348,349,351,352,353,354,355,356,364,365,366,367,368,369,370,371,372,373,374,375,376,377,378,379,380,381,382,383,384,385,386,387,388,389,390,391,393,395,396,397,399,400,401,404,405,407,409,410,413,416,417,418,512,513,514,515,516,517,518,519,520,521,522,523,524,525,529,536,540,541,542,545,546,547,548,549,550,551,552,553,554,555,556,557,558,561,562,563,566,567,568,569,570,571,572,573,574,575,576,577,578,579,580,582,583,584,585,587,588,589,590,591,593,594,596,598,599,601,603,604,606,607,608,609,611,612,613,614,616,617,619,620,621,622,623,624,625,626) have mixed types. Specify dtype option on import or set low_memory=False.\n",
      "  df = pd.read_csv(raw_file)\n"
     ]
    }
   ],
   "source": [
    "raw_file = \"/home/ec2-user/SageMaker/Team-5/Fiona/TN_allinone0112.csv\"\n",
    "df = pd.read_csv(raw_file)"
   ]
  },
  {
   "cell_type": "code",
   "execution_count": 80,
   "id": "b65cc093",
   "metadata": {},
   "outputs": [],
   "source": [
    "# height_columns = df.columns[df.columns.str.contains('height', case=False)].tolist()\n",
    "# print(\"Columns with 'height' in the title:\")\n",
    "# print(height_columns)\n",
    "# print(\"\")\n",
    "# weight_columns = df.columns[df.columns.str.contains('weight', case=False)].tolist()\n",
    "# print(\"Columns with 'weight' in the title:\")\n",
    "# print(weight_columns)\n",
    "# print('')\n",
    "# gluc_columns = df.columns[df.columns.str.contains('gluc', case=False)].tolist()\n",
    "# print(\"Columns with 'gluc' in the title:\")\n",
    "# print(gluc_columns)\n",
    "# print('')\n",
    "\n",
    "# for column in df.columns:\n",
    "#     if 'mmol' in column.lower() or 'mgdl' in column.lower():\n",
    "#         print(f\"Unique values of '{column}':\")\n",
    "#         unique_values = df[column].unique()\n",
    "#         print(unique_values)\n",
    "#         print('')\n",
    "        \n",
    "# for column in df.columns:\n",
    "#     if any('mmol' in str(value).lower() for value in df[column]):\n",
    "#         unique_values = df[column].unique()\n",
    "#         print(f\"Unique values in {column}: {unique_values}\")\n",
    "        \n",
    "# print('')        \n",
    "# print('Has unit other than mdgl and under 45')        \n",
    "# for column in df.columns:\n",
    "#     if 'gluc' in column.lower():\n",
    "#         numeric_values = pd.to_numeric(df[column], errors='coerce')\n",
    "#         mask = (numeric_values.shift(1) < 45) & ~df[column].shift(1).astype(str).str.contains('mgdl', case=False)\n",
    "#         if mask.any():\n",
    "#             print(column)"
   ]
  },
  {
   "cell_type": "code",
   "execution_count": 81,
   "id": "b446a517",
   "metadata": {},
   "outputs": [],
   "source": [
    "df['Heightin_to_cm'] = df['Heightin'] * 2.53999863\n",
    "df['Height_cm'] = df['Heightin_to_cm'] + df['Heightcm']\n",
    "df.insert(df.columns.get_loc('Height_cm') + 1, 'Height_cm_units', 'cm')\n",
    "df.drop(['Heightin_to_cm', 'Heightcm', 'Heightin'], axis=1, inplace=True)\n",
    "\n",
    "df['Weightlbs_to_kg'] = df['Weightlbs'] * 0.45359237\n",
    "df['Weight_kg'] = df['Weightlbs_to_kg'] + df['Weightkg']\n",
    "df.insert(df.columns.get_loc('Weight_kg') + 1, 'Weight_kg_units', 'kg')\n",
    "df.drop(['Weightlbs_to_kg', 'Weightkg', 'Weightlbs'], axis=1, inplace=True)"
   ]
  },
  {
   "cell_type": "code",
   "execution_count": 82,
   "id": "f97fa5f3",
   "metadata": {},
   "outputs": [],
   "source": [
    "for column in df.columns:\n",
    "    if 'mmol' in column.lower() or 'mgdl' in column.lower():\n",
    "        new_column_name = column.replace('mmol', '_unit').replace('mgdl', '').replace('Mmoll', '_unit').replace('MgDL', '').replace('mmoll', '_unit')\n",
    "        df.rename(columns={column: new_column_name}, inplace=True)\n",
    "        \n",
    "columns_to_process = ['AvgRecordedFastingGlucoses', 'AvgAllRecordedGlucoses', 'LowestGlucose', 'HighestGlucose']\n",
    "df[columns_to_process] = df[columns_to_process].apply(lambda x: x.where(x >= 45, x * 18.018))\n",
    "\n",
    "columns_to_convert = ['AvgRecordedFastingGlucoses_unit', 'AvgAllRecordedGlucoses_unit', 'LowestGlucose_unitl', 'HighestGlucose_unit']\n",
    "df[columns_to_convert] = df[columns_to_convert].replace('mmol/L', 'mg/dL')\n",
    "\n",
    "column_to_move1 = 'AvgRecordedFastingGlucoses_unit'\n",
    "target_position1 = 'AvgRecordedFastingGlucoses'\n",
    "current_positions = df.columns.tolist()\n",
    "current_positions.remove(column_to_move1)\n",
    "target_index = current_positions.index(target_position1)\n",
    "new_positions = current_positions[:target_index + 1] + [column_to_move1] + current_positions[target_index + 1:]\n",
    "df = df[new_positions]\n",
    "\n",
    "column_to_move2 = 'AvgAllRecordedGlucoses_unit'\n",
    "target_position2 = 'AvgAllRecordedGlucoses'\n",
    "current_positions = df.columns.tolist()\n",
    "current_positions.remove(column_to_move2)\n",
    "target_index = current_positions.index(target_position2)\n",
    "new_positions = current_positions[:target_index + 1] + [column_to_move2] + current_positions[target_index + 1:]\n",
    "df = df[new_positions]"
   ]
  },
  {
   "cell_type": "code",
   "execution_count": 83,
   "id": "8b598afe",
   "metadata": {},
   "outputs": [],
   "source": [
    "# column_description = df['Height_2'].describe()\n",
    "# print(column_description)\n",
    "\n",
    "# specified_column = 'HemoglobinResultsNormal'\n",
    "# column_index = df.columns.get_loc(specified_column)\n",
    "\n",
    "# selected_columns = df.iloc[:, max(0, column_index - 1):column_index + 2]\n",
    "\n",
    "# print(selected_columns)\n",
    "\n",
    "# mask = (df[specified_column] == 'mmol/L')\n",
    "# values_to_right = df[specified_column].shift(-1)[mask]\n",
    "# print(f\"Values to the right of cells with 'mmol/L' in {specified_column}:\\n{values_to_right}\")\n",
    "\n",
    "# unique_values = df[specified_column].unique()\n",
    "# print(f\"Unique values in {specified_column}:\\n{unique_values}\")"
   ]
  },
  {
   "cell_type": "code",
   "execution_count": 84,
   "id": "c3f45034",
   "metadata": {},
   "outputs": [],
   "source": [
    "numeric_columns = df.select_dtypes(include=np.number).columns\n",
    "\n",
    "columns_to_skip = ['Rbcresults', 'HemoglobinResults']\n",
    "for column in numeric_columns:\n",
    "    if column not in columns_to_skip:\n",
    "        lower_bound = df[column].quantile(0.0025)\n",
    "        upper_bound = df[column].quantile(0.9975)\n",
    "        df[column] = np.where((df[column] < lower_bound) | (df[column] > upper_bound), np.nan, df[column])\n",
    "\n",
    "RBC_filtered_rows = df[df['RBCResultsNormal'] == 'Yes']\n",
    "Hemoglobin_filtered_rows = df[df['HemoglobinResultsNormal'] == 'Yes']\n",
    "\n",
    "RBC_condition = 'RBCResultsNormal'\n",
    "RBC_filter = 'Rbcresults'\n",
    "filtered_rows = df[df[RBC_condition] == 'Yes'].copy()\n",
    "lower_bound = filtered_rows[RBC_filter].quantile(0.0025)\n",
    "upper_bound = filtered_rows[RBC_filter].quantile(0.9975)\n",
    "filtered_rows.loc[\n",
    "    (filtered_rows[RBC_filter] < lower_bound) | (filtered_rows[RBC_filter] > upper_bound),\n",
    "    RBC_filter\n",
    "] = np.nan\n",
    "\n",
    "Hemoglobin_condition = 'HemoglobinResultsNormal'\n",
    "Hemoglobin_filter = 'HemoglobinResults'\n",
    "filtered_rows = df[df[Hemoglobin_condition] == 'Yes'].copy()\n",
    "lower_bound = filtered_rows[Hemoglobin_filter].quantile(0.0025)\n",
    "upper_bound = filtered_rows[Hemoglobin_filter].quantile(0.9975)\n",
    "filtered_rows.loc[\n",
    "    (filtered_rows[Hemoglobin_filter] < lower_bound) | (filtered_rows[Hemoglobin_filter] > upper_bound),\n",
    "    Hemoglobin_filter\n",
    "] = np.nan"
   ]
  },
  {
   "cell_type": "code",
   "execution_count": 85,
   "id": "4892142b",
   "metadata": {},
   "outputs": [
    {
     "name": "stdout",
     "output_type": "stream",
     "text": [
      "[nan 'Yes' 'No']\n"
     ]
    }
   ],
   "source": [
    "column_to_print = 'HemoglobinResultsNormal'\n",
    "\n",
    "# Print unique values of the specified column\n",
    "unique_values = df[column_to_print].unique()\n",
    "print(unique_values)"
   ]
  }
 ],
 "metadata": {
  "kernelspec": {
   "display_name": "conda_python3",
   "language": "python",
   "name": "conda_python3"
  },
  "language_info": {
   "codemirror_mode": {
    "name": "ipython",
    "version": 3
   },
   "file_extension": ".py",
   "mimetype": "text/x-python",
   "name": "python",
   "nbconvert_exporter": "python",
   "pygments_lexer": "ipython3",
   "version": "3.10.13"
  }
 },
 "nbformat": 4,
 "nbformat_minor": 5
}
