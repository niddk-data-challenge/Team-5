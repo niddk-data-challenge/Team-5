{
 "cells": [
  {
   "cell_type": "code",
   "execution_count": 2,
   "id": "b835a24c",
   "metadata": {},
   "outputs": [
    {
     "name": "stdout",
     "output_type": "stream",
     "text": [
      "<class 'pandas.core.frame.DataFrame'>\n",
      "RangeIndex: 559 entries, 0 to 558\n",
      "Data columns (total 2 columns):\n",
      " #   Column    Non-Null Count  Dtype \n",
      "---  ------    --------------  ----- \n",
      " 0   Variable  559 non-null    object\n",
      " 1   Label     559 non-null    object\n",
      "dtypes: object(2)\n",
      "memory usage: 8.9+ KB\n",
      "None\n"
     ]
    },
    {
     "data": {
      "text/html": [
       "<div>\n",
       "<style scoped>\n",
       "    .dataframe tbody tr th:only-of-type {\n",
       "        vertical-align: middle;\n",
       "    }\n",
       "\n",
       "    .dataframe tbody tr th {\n",
       "        vertical-align: top;\n",
       "    }\n",
       "\n",
       "    .dataframe thead th {\n",
       "        text-align: right;\n",
       "    }\n",
       "</style>\n",
       "<table border=\"1\" class=\"dataframe\">\n",
       "  <thead>\n",
       "    <tr style=\"text-align: right;\">\n",
       "      <th></th>\n",
       "      <th>Variable</th>\n",
       "      <th>Label</th>\n",
       "    </tr>\n",
       "  </thead>\n",
       "  <tbody>\n",
       "    <tr>\n",
       "      <th>0</th>\n",
       "      <td>MaskID</td>\n",
       "      <td>Participant Mask ID#</td>\n",
       "    </tr>\n",
       "    <tr>\n",
       "      <th>1</th>\n",
       "      <td>Visit</td>\n",
       "      <td>Visit</td>\n",
       "    </tr>\n",
       "    <tr>\n",
       "      <th>2</th>\n",
       "      <td>Status</td>\n",
       "      <td>Status</td>\n",
       "    </tr>\n",
       "    <tr>\n",
       "      <th>3</th>\n",
       "      <td>GAD65H</td>\n",
       "      <td>Anti-GAD65 autoantibody by NIDDK Harmonized ra...</td>\n",
       "    </tr>\n",
       "    <tr>\n",
       "      <th>4</th>\n",
       "      <td>AgeOfRelativeWithT1D1_1</td>\n",
       "      <td>Current Age of Relative</td>\n",
       "    </tr>\n",
       "  </tbody>\n",
       "</table>\n",
       "</div>"
      ],
      "text/plain": [
       "                  Variable                                              Label\n",
       "0                   MaskID                               Participant Mask ID#\n",
       "1                    Visit                                              Visit\n",
       "2                   Status                                             Status\n",
       "3                   GAD65H  Anti-GAD65 autoantibody by NIDDK Harmonized ra...\n",
       "4  AgeOfRelativeWithT1D1_1                            Current Age of Relative"
      ]
     },
     "execution_count": 2,
     "metadata": {},
     "output_type": "execute_result"
    }
   ],
   "source": [
    "import pandas as pd\n",
    "\n",
    "col_label = pd.read_csv('column and label.csv')\n",
    "print(col_label.info())\n",
    "col_label.head()"
   ]
  },
  {
   "cell_type": "code",
   "execution_count": 8,
   "id": "ff1483aa",
   "metadata": {},
   "outputs": [],
   "source": [
    "column_list = col_label['Variable'].tolist()\n",
    "label_list = col_label['Label'].tolist()"
   ]
  },
  {
   "cell_type": "code",
   "execution_count": 9,
   "id": "13549bc3",
   "metadata": {},
   "outputs": [
    {
     "name": "stdout",
     "output_type": "stream",
     "text": [
      "['MaskID', 'Visit', 'Status', 'GAD65H', 'AgeOfRelativeWithT1D1_1', 'hyperglycemia', 'DegreeOfRelative_1st', 'AgeOfRelativeWithT1D2_1', 'AgeOfRelativeWithT1D3_1', 'Race_AmericanIndianorAlaskaNat', 'AddisonsDiseaseWithinLast6Months', 'AgeOfRelativeWithT1D4_1', 'ProtocolVersion', 'FirstHearAboutTrialN_ExistingTri', 'FirstHearAboutTrialN_Brochure', 'FirstHearAboutTrialN_Poster', 'FirstHearAboutTrialN_RadioTV', 'SeatedArmBPSystolic', 'ScreeningSiteNumber', 'HighcholesterolEver', 'LimitedLifeExpectancyOrImmunos', 'AsthmaWithinLast6Months', 'IsHeightMeasured', 'HeightNotDone', 'Meglitinides', 'Hastheparticipanthadknownconta', 'selecttestkittype', 'EvidenceOfTuberculosisInfectio', 'Hastheparticipanthadknownconta2', 'participanthaveautoantibodies', 'UseImmunosuppressiveAgents', 'Hastheparticipantbeentestedfor', 'ComplicatedMedIssuesOrAbnormal', 'Hastheparticipanthadalossreduc', 'ReceivedInfluenzaVaccination', 'Abdomen', 'AbdomenFindings', 'Allergies', 'AntibodySampleCollected', 'HospitalizationsForHighGlucose', 'AreThere3GlucoseValuesAvailabl', 'InsulinPump', 'Asthma', 'Bilirubin', 'Blood', 'BloodForCellsSampleCollected', 'BllodForDNASampleCollected', 'BloodForRNASampleCollected', 'InflammatoryBowelDiseaseEver', 'InflammatoryBowelDiseaseWithin', 'Glucose', 'HbA1c', 'ICA', 'CD4P', 'CD4CD8', 'ColitisOrColonProblemsEver', 'CongenitalHeartDiseaseEver', 'InsulinRoutineDaily', 'NumOfRelativesWithT1D', '_15Aug2011ConsentForResidualSa', 'ConsenToContinuedStorageOfBloo', 'BloodSamplesFutureTestingPermi', 'PermissionToControlIfTheyTestA', 'ParticipateInDPT1', 'AnyProblemsRecievingStudyDrugt', 'ParticipantUsedImmunosuppresiv', 'systemicsteroids', 'ParticipantHasOneRelativeWithT', 'ParticipantHasKnownSevereActiv', 'ReproductiveChildbearingPotent', 'Doestheparticipanthavereproduc', 'Eczema', 'EosinophilsResultAbormalClinic', 'EpilepsyConvulsionsSeizuresEve', 'InfusionRelatedEventAnaphylaxi', 'DizyLightHeadedPresent', 'FatigueMalaisePresent', 'HeadcahePresent', 'HypertensionPresent', 'HypotensionPresent', 'IVinfiltrationPresent', 'NauseeVomitPresent', 'InfusionRelatedEventOther', 'SkinRashHypersentivityPresent', 'OtherInfections', 'Genitalia', 'GenitaliaFindings', 'AllergiesWithinLastYear', 'CongenitalHeartDiseaseWithinLa', 'EpilepsyConvulsionsSeizuresWit', 'AddisonsDiseaseEver', 'AddisonsDiseaseWithinLastYear', 'AllergiesEver', 'AlopeciaWithinLastYear', 'AlopeciaEver', 'AsthmaWithinLastYear', 'CancerWithinLastYear', 'CeliacDiseaseEver', 'CeliacDiseaseWithinLastYear', 'ColitisOrColonProblemsWithinLa', 'HepatitisOrLiverDiseaseWithinL', 'HighBPwithinLastYear', 'InfectiousMononucleosisWithinL', 'MultipleSclerosisEver', 'MultipleSclerosisWithinLastYea', 'OtherAutoimmuneDiseasesEver', 'OtherAutoimmuneDiseasesWithinL', 'PerniciousAnemiaWithinLastYear', 'PsoriasisWithinLastYear', 'PsoriasisEver', 'RheumatologicEver', 'RheumatologicWithinLastYear', 'ThyroidDiseaseEver', 'ThyroidDiseaseWithinLastYear', 'UlcerWithinLastYear', 'VitiligoWithinLastYear', 'VitiligoEver', 'CancerEver', 'HospitalizedOtherthanDiabetes', 'SelectStudyForPreventionOfT1D', 'ParticipantUsedInsulinOrOtherG', 'ExacerbationOfCRS', 'FebrileIllness10Days', 'OtherChronicDiseases', 'HbA1cSamplesCollected', 'Heart', 'HeartFindings', 'HEENT', 'HeentFindings', 'HematocritResultAbormalClinica', 'HemoglobinResultAbormalClinica', 'HepatitisOrLiverDiseaseEver', 'HighBPever', 'HLASamplesCollected', 'CommunicationWhenNegAutoantibo', 'InfectiousMononucleosisEver', 'EligibileToBeScreenedForTheStu', 'Gender', 'InsulDoseInfoAvailableFor3Days', 'ParticipantUsingImmunosuppresi', 'ParticipantPregnant', 'PotassiumDepletingDiurectics', 'BetaBlockers', 'Corticosteroids', 'Diphenylhydantoin', 'ImmunosuppressiveTherapies', 'Niacin', 'OtherGlucoseLoweringAgents', 'Thiazolidinediones', 'SubjectUsingCGMS', 'Ketones', 'Leukocytes', 'LotNumber1_1', 'LotNumber2_1', 'LotNumber3_1', 'Lungs', 'Lymphatics', 'LymphaticsFindings', 'LymphocytesResultAbormalClinic', 'MCHResultAbormalClinicallySign', 'MCVResultAbormalClinicallySign', 'MedicationPackNumber1_1', 'MIAA', 'MonocytesResultAbormalClinical', 'Musculoskeletal', 'MusculoskeletalFindings', 'NeckThyroid', 'NeckThyroidFindings', 'Neurologic', 'NeurologicFindings', 'NeutrophilsResultAbormalClinic', 'Nitrite', 'OGTTSampleCollected', 'OnlineScreeningReferralSource', 'Other', 'OtherFindings', 'Ethnicity', 'TestingPlaceForAutoAntibodyOut', 'PermissionForHLAgeneticTesting', 'PerniciousAnemiaEver', 'PlasmaSampleCollected', 'ParticipantLocation', 'Protein', 'Pulses', 'RBCResultAbormalClinicallySign', 'RelativeWithT1D1_1', 'RelativeWithT1D2_1', 'RelativeWithT1D3_1', 'RelativeWithT1D4_1', 'RelativeWithT1D5_1', 'SerumMechanisticSerumSampleCol', 'SerumForProteomicsSampleCollec', 'WholeBloodPBMCPlasmaSampleColl', 'SexOfRelativeWithT1D1_1', 'SexOfRelativeWithT1D2_1', 'SexOfRelativeWithT1D3_1', 'SexOfRelativeWithT1D4_1', 'SexOfRelativeWithT1D5_1', 'SexOfRelativeWithT1D6_1', 'SexOfRelativeWithT1D7_1', 'SexOfRelativeWithT1D8_1', 'Skin', 'SkinFindings', 'Specimencollectionkitshipmentd', 'STIstheparticipantcurrentlytak', 'STWastheparticipantcontactedat', 'STHavetherebeenanychangesincon', 'PermissionForSampleStorage', 'BloodTestForFindOut', 'UlcerEver', 'Urobilinogen', 'UrinePregnancyTest', 'Wasaurinepregnancytestcomplete', 'AcetaminophenGivenToParticipan', 'StudyDrugReturned', 'FullDoseInfused', 'AdmittedHospitalDiagnosis', 'UrinePregnancyTestPositive', 'IGRATestPositive', 'Wasthetestresultpositive', 'WBCResultAbormalClinicallySign', 'InformedTestResultWithin', 'RequiredSpecimensCollected', 'OtherProblems', 'InitialScreeningLocation', 'InitialScreeningLocationOtherS', 'WhichProtocolVersion', 'shipspecimencollectionkit', 'Visit_Dt', 'DateResultsReportedByLabUnknow', 'RBCResultsNormal', 'HemoglobinResultsNormal', 'HematocritResultsNormal', 'MCVresultsNormal', 'PlateletCountResultsNormal2', 'MCHresultsNormal', 'MCHCresultsNormal', 'WBCresultsNormal', 'NeutrophilsResultsNormal', 'LymphocytesResultsNormal', 'MonocytesResultsNormal', 'EosinophilsResultsNormal', 'BasophilsResultsNormal', 'Hastheparticipantbeentoahealth', 'Hastheparticipanthadafever', 'Hastheparticipanthadchillsasso', 'Hastheparticipanthadacough', 'Hastheparticipanthadanydifficu', 'Hastheparticipanthadanypersist', 'Hastheparticipantexperiencedvo', '_8Hastheparticipantbeendiagnos', 'Visit_Type', 'Age', 'RelativeWithT1D', 'DegreeOfRelative_2ndor3rd', 'HaveDiabetes', 'Sex', 'Race_Asian', 'Race_BlackorAfricanAmerican', 'Race_NativeHawaiianorOtherPaci', 'Race_Refused', 'Race_Unknownornotreported', 'Race_White', 'Relationship', 'FirstHearAboutTrialN_FamilyFrien', 'FirstHearAboutTrialN_Healthcarep', 'FirstHearAboutTrialN_Tollfreepho', 'FirstHearAboutTrialN_NewspaperMa', 'FirstHearAboutTrialN_Camp', 'FirstHearAboutTrialN_MeetingPres', 'FirstHearAboutTrialN_Internet', 'FirstHearAboutTrialN_Other', 'clinicalcenternumber', 'ScreeningSiteName', 'AgeOfOnsetInRelativeWithT1D1_1', 'AgeRelativeWithT1DStartedIn1_1', 'AgeOfOnsetInRelativeWithT1D2_1', 'AgeRelativeWithT1DStartedIn2_1', 'AgeOfOnsetInRelativeWithT1D3_1', 'AgeRelativeWithT1DStartedIn3_1', 'AgeOfOnsetInRelativeWithT1D4_1', 'AgeRelativeWithT1DStartedIn4_1', 'RelativeWithT1D6_1', 'RelativeWithT1D7_1', 'ParticipantDiagnosedWithT1D', 'AsthmaEver', 'SeatedArmBPDiastolic', 'EverParticipatedInPreventionSt', 'IVGTTSampleCollected', 'IsWeightMeasured', 'SeatedHeartRate', 'SeatedRespiratoryRate', 'CeliacDiseaseWithinLast6Months', 'VitiligoWithinLast6Months', 'ThyroidDiseaseWithinLast6Months', 'PsoriasisWithinLast6Months', 'AlopeciaWithinLast6Months', 'RheumatologicWithinLast6Months', 'AllergiesWithinLast6Months', 'CancerWithinLast6Months', 'UlcerWithinLast6Months', 'HighBPwithinLast6Months', 'PerniciousAnemiaWithinLast6Mo', 'MultipleSclerosisWithinLast6Mo', 'immunomodulatory', 'Metformin', 'AlphaGlucosidaseInhibitors', 'participantdiagnosedT1D', 'IsParticipantPregnant', 'SignedMonitoringConsentProtoco', 'HighCholesterolWithinLast6Months', 'HighCholestrolWithinLast6Months', 'Meglinitides', 'CurrentPhase', 'Date_of_Registration', 'HospitalizedSinceLastVisit', 'HaveHadComplicationsFromYourDi', 'HowIsWeightObtained', 'HowIsHeightObtained', 'AvgRecordedFastingGlucoses_unit', 'AvgAllRecordedGlucoses_unit', 'LowestGlucose_unit', 'HighestGlucose_unit', 'RememberDateOfMostRecentHbA1c', 'RememberValueOfMostRecentHbA1c', 'SeizuresFaintingLowBloodGlucos', 'IfSpecimensNotCollec_Other', 'OGTTCollected', 'MMTTCollected', 'AreYouUsingInjections', 'DiagnosedAutoImmuneDisease', 'PlateletCountNotDone', 'MCHNotDone', 'MCHCNotDone', 'NeutrophilsNotDone', 'LymphocytesNotDone', 'MonocytesNotDone', 'EosinophilsNotDone', 'BasophilsNotDone', 'DateOfRegistration', 'Subject18', 'CollectBloodSamples', 'SexGenderPerson', 'DiabeticKetoacidosisTimeOfDiag', 'PregTestPos', 'FeverPresent', 'MethylprednisoneGivenDoseTimeM', 'DiphenhydramineDoseGiven', 'AnyOtherMedications', 'Color', 'Appearance', 'Rbcnotdone', 'HemoglobinNotDone', 'HematocritNotDone', 'MCVNotDone', 'WBCNotDone', 'bloodpressureDiastolicNotDone', 'WeightNotDone', 'Wasaphysicalexamperformedatthi', 'GivenStudyDrugDoseInClinic', 'SignsOfHypoglycemia', 'StudyDrugDispensed', 'ParticipantReceiveStudyDrug', 'MedicationPackNumber2_1', 'MedicationPackNumber3_1', 'UnusualCircumstances', 'STHavetherebeenanychangesinhea', 'INST-10', 'PEP120', 'GLU60', 'PEP60', 'INST0', 'INST60', 'GLU30', 'PEP30', 'INST30', 'GLU0', 'PEP0', 'INST120', 'GLU-10', 'GLU90', 'PEP-10', 'PEP90', 'GLU120', 'INST90', 'GLU15', 'PEP15', 'PEP240', 'GLU240', 'ZNT8', 'PEP150', 'GLU180', 'IA-2H', 'PEP180', 'GLU150', 'PEP210', 'EBVVL', 'GLU210', 'CD8P', 'CD8A', 'CD4A', 'TPRO', 'TBIL', 'SOD', 'POT', 'GLU', 'GLOIgG', 'DBIL', 'CREA', 'CHL', 'BIC', 'ALT', 'ALP', 'ALB', 'UREA', 'AST', 'CPEP', 'INST', 'ICA512', 'GAD65', 'INS0', 'INS120', 'INS-10', 'INS60', 'INS30', 'INS90', 'Height_cm_units', 'Weight_kg_units', 'Spring2019ConsentDateDate', 'DateOfBloodDrawDate', 'DateReportedDate', 'ScreeningDate', 'ConsentSignedDate', 'DateConsentSignedDate', 'SamplesCollectionDate', 'LastHbA1cDate', 'WrittenInformedConsentDate', 'Type1DiabetesDiagnosisDate', 'FluVaccinationDateDate', 'DateTestsRunDate', 'StudyDrugReturnedDate', 'StudyDrugDispensedDate', 'BirthDate', 'DateOfBirthDate', 'HbA1crecordDateDate', 'DateRecordedDate1', 'DateRecordedDate2', 'DateRecordedDate3', 'ParticipantDateDispensedDate1_1', 'ParticipantDateDispensedDate2_1', 'ParticipantDateDispensedDate3_1', 'MechanisticSampleCollectionDate', 'DateSignedInformedConsentFormDate', 'DateSignedNEWInformedConsentFoDate', 'InterferonGammaReleaseAssayIGRDate', 'OGTTTestStartTime', 'MMTTTestStartTime', 'TimeOfCollection', 'TimeResultsProcessedByLab', 'clinicalcenternumber_missing_indicator', 'AgeOfRelativeWithT1D2_1_missing_indicator', 'AgeOfOnsetInRelativeWithT1D2_1_missing_indicator', 'AgeRelativeWithT1DStartedIn2_1_missing_indicator', 'AgeOfRelativeWithT1D3_1_missing_indicator', 'AgeOfOnsetInRelativeWithT1D3_1_missing_indicator', 'AgeRelativeWithT1DStartedIn3_1_missing_indicator', 'AgeOfRelativeWithT1D4_1_missing_indicator', 'AgeOfOnsetInRelativeWithT1D4_1_missing_indicator', 'AgeRelativeWithT1DStartedIn4_1_missing_indicator', 'SeatedArmBPSystolic_missing_indicator', 'SeatedArmBPDiastolic_missing_indicator', 'SeatedHeartRate_missing_indicator', 'SeatedRespiratoryRate_missing_indicator', 'EosinophilsResultsOR', 'Weight_kg_missing_indicator', 'BasophilsResults', 'MCHCresults_missing_indicator', 'EosinophilsResults_missing_indicator', 'InsulinDoseLast24Hrs', 'PlateletCountResultsNormal_missing_indicator', 'AverageUnitsOfItermediateInsul', 'NeutrophilsResults_missing_indicator', 'LymphocytesResultsOR', 'AvgUnitsShortActingInsulin_missing_indicator', 'AgeRelativeWithT1DStartedIn6_1_missing_indicator', 'HematocritResults_missing_indicator', 'Weight_kg', 'AvgRecordedFastingGlucoses_missing_indicator', 'LymphocytesResults', 'AvgAllRecordedGlucoses_missing_indicator', 'LastHbA1cValue', 'LymphocytesResults_missing_indicator', 'RandomizationNumber', 'CapsulesDispensed', 'Height_cm', 'AgeOfRelativeWithT1D5_1_missing_indicator', 'MCHCresults', 'MMTTAmountConsumed', 'MCHresults', 'RandomizationNumber_missing_indicator', 'TotalOfHomeBloodGlucoseOver3Da', 'Height_cm_missing_indicator', 'AgeOfRelativeWithT1D5_1', 'AvgAllRecordedGlucoses', 'AgeRelativeWithT1DStartedIn5_1', 'BasophilsResultsOR', 'MonocytesResultsOR', 'AgeRelativeWithT1DStartedIn5_1_missing_indicator', 'LowestGlucose_missing_indicator', 'TotalOfHBGMonitoringsLessThan6', 'HeightCm', 'LowestGlucose', 'HemoglobinResults', 'CapsulesDispensed_missing_indicator', 'HeightCm_missing_indicator', 'PlateletCountResultsNormal', 'AgeOfOnsetInRelativeWithT1D6_1', 'BasophilsResults_missing_indicator', 'HighestGlucose', 'EosinophilsResults', 'NeutrophilsResultsOR', 'AgeOfRelativeWithT1D6_1_missing_indicator', 'AgeRelativeWithT1DStartedIn6_1', 'HemoglobinResults_missing_indicator', 'TotalOfHomeBloodGlucoseOver3Da_missing_indicator', 'HighestGlucose_missing_indicator', 'WeightKg_missing_indicator', 'CapsulesReturned', 'HematocritResults', 'InsulinDoseLast24Hrs_missing_indicator', 'MCVresults', 'MMTTTimeToConsumeBoost', 'WBCresults_missing_indicator', 'MonocytesResults', 'MMTTTimeToConsumeBoost_missing_indicator', 'EosinophilsResultsOR_missing_indicator', 'AvgUnitsShortActingInsulin', 'AvgRecordedFastingGlucoses', 'BasophilsResultsOR_missing_indicator', 'LymphocytesResultsOR_missing_indicator', 'AverageUnitsOfItermediateInsul_missing_indicator', 'WeightKg', 'NeutrophilsResults', 'AgeOfOnsetInRelativeWithT1D5_1_missing_indicator', 'MonocytesResultsOR_missing_indicator', 'MCVresults_missing_indicator', 'Rbcresults_missing_indicator', 'MCHresults_missing_indicator', 'LastHbA1cValue_missing_indicator', 'AgeOfOnsetInRelativeWithT1D5_1', 'MonocytesResults_missing_indicator', 'WBCresults', 'NeutrophilsResultsOR_missing_indicator', 'TotalOfHBGMonitoringsLessThan6_missing_indicator', 'Rbcresults', 'MMTTAmountConsumed_missing_indicator', 'CapsulesReturned_missing_indicator', 'AgeOfRelativeWithT1D6_1', 'AgeOfOnsetInRelativeWithT1D6_1_missing_indicator']\n"
     ]
    }
   ],
   "source": [
    "print(column_list)"
   ]
  },
  {
   "cell_type": "code",
   "execution_count": 10,
   "id": "0f8a522f",
   "metadata": {
    "scrolled": false
   },
   "outputs": [
    {
     "name": "stdout",
     "output_type": "stream",
     "text": [
      "['Participant Mask ID#', 'Visit', 'Status', 'Anti-GAD65 autoantibody by NIDDK Harmonized radiobinding assay; positive >20 DK units', 'Current Age of Relative', 'Hyperglycemia', 'Degree of relative: 1st', 'Current Age of Relative', 'Current Age of Relative', 'Race: American Indian or Alaska Native', 'Addisons Disease Within Last 6 Months', 'Current Age of Relative', 'Protocol Version', 'How did you first hear about TrialNet: Existing TrialNet Site', 'How did you first hear about TrialNet: Brochure', 'How did you first hear about TrialNet: Poster', 'How did you first hear about TrialNet: Radio/TV', 'Collect the following assessments Seated arm blood pressure systolic', 'Collect the following assessments Seated arm blood pressure Diastolic', 'High Cholesterol ever', 'Limited Life Expectancy or immunosuppressive or immunomodulatory therapies', 'Asthma Within Last 6 Months', 'Is height self measured', 'Height Not Done', 'Is the participant taking Meglitinides', '2Has the participant had known contact with anyone with confirmed COVID19 since', '2If yes please select test kit type', '3 Subject has evidence of prior or current tuberculosis infection as assessed by', '3Has the participant had known contact with anyone with suspected COVID19 since', '4 Has the participant been found to have autoantibodies   outside of TrialNet', '4 Subject requires use of other immunosuppressive agents including chronic use of', '4Has the participant been tested for COVID19 since their previous study visitcontact', '6 Subject has any complicating medical issues or abnormal clinical laboratory', '6Has the participant had a lossreduction of their sense of taste andor smell', '7 Subject has received killed influenza vaccination at least 2 weeks prior to', 'Abdomen', 'Abdomen Findings', 'Allergies', 'Antibodies sample collected', 'Any emergency room visits or hospitalizations for high blood glucose or DKA', 'Are there atleast three glucose values available for atleast three days', 'Are you using an insulin pump', 'Asthma', 'Bilirubin', 'Blood eryuL', 'Blood for cells sample collected', 'Blood for DNA sample collected', 'Blood for RNA sample collected', 'bowel disease ever', 'bowel disease within the last year', 'GlucosemgdL', 'test name', 'test name', 'test name', 'test name', 'Colitis or colon problems ever', 'Congenital heart disease or heart problems ever', 'Daily insulin routines check one', 'deceased relatives', 'Did participant consent to continued storage of residual blood samples in the NIDDK', 'Did participant consent to continued storage of residual blood samples in the NIDDK', 'Did participant give permission for remaining blood samples to be stores for', 'Did participant give permission on the informed consent form to be a control if', 'Did the participant participate in DPT1', 'Did the subject experience any problems since receiving study drug  today or since', 'Does the participant currently use immunosuppressive or immunomodulatory therapies', 'Does the participant currently use immunosuppressive or immunomodulatory therapies', 'Does the participant have at least one blood relative living or deceased with type 1', 'Does the participant have known severe inactive diseases andor diseases which', 'Does the participant have reproductive or childbearing potential', 'Does the participant have reproductive or childbearing potential', 'Eczema', 'Eosinophils results abnormal clinically significant', 'Epilepsy convulsions or seizures ever', 'event Anaphylaxis', 'Event dizzylight headed', 'Event Fatiguemalaise', 'Event Headache', 'Event Hypertension', 'Event Hypotension', 'event IV infiltration', 'Event Nauseavomiting', 'event Other', 'Event Skin RashHypersensitivity', 'Frequent other infections', 'Genitalia', 'Genitalia Findings', 'Has the participant been told by a physician that they he/she has  allergies', 'Has the participant been told by a physician that they he/she has  congenital heart', 'Has the participant been told by a physician that they he/she has  epilepsy convulsions', 'Has the participant been told by a physician that they he/she has addisons disease', 'Has the participant been told by a physician that they he/she has Addisons disease', 'Has the participant been told by a physician that they he/she has allergies ever', 'Has the participant been told by a physician that they he/she has alopecia', 'Has the participant been told by a physician that they he/she has alopecia ever', 'Has the participant been told by a physician that they he/she has asthma', 'Has the participant been told by a physician that they he/she has cancer', 'Has the participant been told by a physician that they he/she has celiac disease', 'Has the participant been told by a physician that they he/she has celiac disease', 'Has the participant been told by a physician that they he/she has colitis or colon', 'Has the participant been told by a physician that they he/she has hepatitis or liver', 'Has the participant been told by a physician that they he/she has high blood pressure', 'Has the participant been told by a physician that they he/she has infectious', 'Has the participant been told by a physician that they he/she has multiple sclerosis', 'Has the participant been told by a physician that they he/she has multiple sclerosis', 'Has the participant been told by a physician that they he/she has other autoimmune', 'Has the participant been told by a physician that they he/she has other autoimmune', 'Has the participant been told by a physician that they he/she has pernicious anemia', 'Has the participant been told by a physician that they he/she has psoriasis', 'Has the participant been told by a physician that they he/she has psoriasis ever', 'Has the participant been told by a physician that they he/she has rheumatologic', 'Has the participant been told by a physician that they he/she has rheumatologic', 'Has the participant been told by a physician that they he/she has thyroid disease', 'Has the participant been told by a physician that they he/she has thyroid disease', 'Has the participant been told by a physician that they he/she has ulcer', 'Has the participant been told by a physician that they he/she has vitiligo', 'Has the participant been told by a physician that they he/she has vitiligo ever', 'Has the participant ever be', 'Has the participant ever been hospitalized other than for diabetes', 'Has the participant ever participated in an observational or prevention study for T1D If', 'Has the participant ever previously used or is currently using medications for the', 'Has the participant experienced exacerbation of Cytokine Release Syndrome CRS', 'Has the subject had a febrile illness within the last ten days', 'Have you been diagnosed with any new chronic diseases other than diabetes', 'HbA1c sample collected', 'Heart', 'Heart Findings', 'HEENT', 'HEENT Findings', 'Hematocrit results abnormal clinically significant', 'Hemoglobin results abnormal clinically significant', 'Hepatitis Liver disease ever', 'High blood pressure ever', 'HLA sample collected', 'If you are negative for autoantibodies we will inform you via', 'Infectious mononucleosis ever', 'Is participant eligible to be screened for the study', 'Is subject male or female', 'Is the insulin dose information available for atleast three days', 'Is the participant currently using immunosuppressive or immunomodulatory therapies', 'Is the participant knowingly pregnant', 'Is the participant taking  potassium depleting diuretics', 'Is the participant taking beta blockers', 'Is the participant taking corticosteroids', 'Is the participant taking diphenylhydantoin', 'Is the participant taking immunosuppressive therapies', 'Is the participant taking niacin', 'Is the participant taking other glucose lowering agents', 'Is the participant taking thiazolidinediones', 'Is the person using a Continuous Glucose Monitoring System CGMS', 'Ketones', 'Leukocytes', 'Lot Number', 'Lot Number', 'Lot Number', 'Lungs', 'Lymphatics', 'Lymphatics Findings', 'Lymphocytes results abnormal clinically significant', 'MCH results abnormal clinically significant', 'MCV results abnormal clinically significant', 'Medication Pack Number', 'Micro Insulin autoantibody by radiobinding assay; positive >0.010 (index)', 'Monocytes results abnormal clinically significant', 'Musculoskeletal', 'Musculoskeletal Findings', 'NeckThyroid', 'NeckThyroid Findings', 'Neurologic', 'Neurologic Findings', 'Neutrophils results abnormal clinically significant', 'Nitrite', 'OGTT sample collected', 'Online screening referral site', 'Other', 'Other Findings', 'Participant Ethnicity', 'Participant get autoantibody testing outside Trialnet', 'Permission for his/her blood to be tested for HLA genes', 'Pernicious anemia ever', 'Plasma Sample Collected', 'Please indicate participant location', 'ProteinmgdL', 'Pulses', 'RBC results abnormal clinically significant', 'Relative with Type 1 Diabetes', 'Relative with Type 1 Diabetes', 'Relative with Type 1 Diabetes', 'Relative with Type 1 Diabetes', 'Relative with Type 1 Diabetes', 'Sample collected for serum mechanistic', 'Sample collected for serum proteomics', 'Sample collected for whole blood PBMC plasma', 'Sex of Relative', 'Sex of Relative', 'Sex of Relative', 'Sex of Relative', 'Sex of Relative', 'Sex of Relative', 'Sex of Relative', 'Sex of Relative', 'Skin', 'Skin Findings', 'Specimen collection kit shipment date', 'ST Is the participant currently taking study drug', 'ST Was the participant contacted at a minimum of every other week between visits', 'STHave there been any changes in concomitant medications since the last', 'Storage of his/her samples for future testing', 'This blood test is being done to find out if', 'Ulcer stomach or duodenal  ever', 'UrobilinogenmgdL', 'Was a urine pregnancy test completed at this visit', 'Was a urine pregnancy test completed at this visit', 'Was Acetaminophen given to the participant', 'Was study drug returned', 'Was the full dose infused', 'Was the participant admitted to a hospital during the diagnosis period', 'Was the test result positive', 'Was the test result positive', 'Was the test result positive', 'WBC results abnormal clinically significant', 'We will let you know your test results within a duration of your blood draw', 'Were all required specimens collected for this visit', 'Were there any other problems during the observation period', 'Where did initial screening blood draw occur', 'Where did initial screening blood draw occur other specify', 'Which version of the Natural History protocol is your site using', 'Would you like the TrialNet Coordinating Center to ship an autoantibody', 'Date of visit', 'Date results reported by lab Unknown', 'RBC results normal', 'Hemoglobin Results Normal', 'Hematocrit results normal', 'MCV results normal', 'Platelet count results normal', 'MCH results normal', 'MCHC results', 'MCHC results normal', 'Neutrophils results normal', 'Lymphocytes results normal', 'Monocytes results normal', 'Eosinophils results normal', 'Basophils results normal', '1Has the participant been to a health clinic doctors office andor hospital for a sick visit', 'C1Has the participant had a fever', '2Has the participant had chills associated with fever', '3Has the participant had a cough', '4Has the participant had any difficulty breathing or shortness of breath', '5Has the participant had any persistent or prolonged fatigue', '6Has the participant had a lossreduction of their sense of taste andor smell', '8Has the participant been diagnosed with pneumonia', 'Visit Type', 'Age', 'Do you have a relative with T1D', 'Degree of relative: 2nd or 3rd', 'Do you have diabetes', 'Participant Sex', 'Race: Asian', 'Race: Black or African American', 'Race: Native Hawaiian or Other Pacific Islander', 'Race: Refused', 'Race: Unknown or not reported', 'Race: White', 'Relationship to participant', 'How did you first hear about TrialNet: Family/Friend', 'How did you first hear about TrialNet: Health care professional', 'How did you first hear about TrialNet: Toll free phone number', 'How did you first hear about TrialNet: Newspaper/Magazine', 'How did you first hear about TrialNet: Camp', 'How did you first hear about TrialNet: Meeting/Presentation', 'How did you first hear about TrialNet: Internet', 'How did you first hear about TrialNet: Other', 'Regional clinical center number', 'Screening site name', 'Age of Onset in Relative', 'Age Relative Started Insulin', 'Age of Onset in Relative', 'Age Relative Started Insulin', 'Age of Onset in Relative', 'Age Relative Started Insulin', 'Age of Onset in Relative', 'Age Relative Started Insulin', 'Relative with type 1 diabetes', 'Relative with type 1 diabetes', 'Has the participant been diagnosed with type 1 diabetes T1D', 'Asthma ever', 'Diastolic seated arm blood pressure', 'Has the participant ever participated in a prevention study for T1D', 'IVGTT sample collected', 'Is weight measured', 'Collect the following assessments Seated heart rate', 'Collect the following assessments Seated respiratory rate', 'Celiac Disease Within Last 6 Months', 'Vitiligo Within Last 6 Months', 'Thyroid Disease Within Last 6 Months', 'Psoriasis Within Last 6 Months', 'Alopecia Within Last 6 Months', 'Rheumatologic Within Last 6 Months', 'Allergies Within Last 6 Months', 'Cancer Within Last 6 Months', 'Ulcer Within Last 6 Months', 'High BP Within Last 6 Months', 'Pernicious Anemia Within Last 6 Month', 'Multiple Sclerosis Within Last 6 Months', 'immunomodulatory', 'Is the participant taking metformin', 'Is the participant taking alpha glucosidase inhibitors', 'Has the participant been diagnosed with type 1 diabetes (T1D)', 'Is the participant pregnant planning to become pregnant', 'Did the participant previously sign a monitoring consent form for protocol version 15Aug11', 'High Cholesterol Within Last 6 Months', 'High Cholestrol Within Last 6 Months', 'Is the participant taking meglinitides', 'On which study phase is this participant currently enrolled', 'Date of Registration', 'Have you been hospitalized for any reason since your last visitcontact', 'Have you ever been told that you have had complications from your diabetes that have affected the following areas', 'How is weight obtained', 'How is height obtained', 'Average of recorded fasting glucoses over three days units', 'Average of all recorded glucoses over three days units', 'Lowest recorded glucose over three days units', 'Highest recorded glucose over three days units', 'Do you remember the date of the most recent HbA1c', 'Do you remember the most recent HbA1c value', 'Any episodes of seizures or loss of consciousness from low blood glucose', 'IfSpecimensNotCollec: Other', 'Was OGTT collected', 'Was MMTT collected', 'AreYouUsingInjections', 'a Has the participant ever been diagnosed with an autoimmune diseases', 'Platelet count Not Done', 'MCH count Not Done', 'MCHC count Not Done', 'Neutrophils Not Done', 'Lymphocytes Not Done', 'Monocytes Not Done', 'Eosinophils Not Done', 'Basophils Not Done', 'Date of Registration', 'a Is subject 18 years of age', 'a Did the participant give permission to put any remaining blood samples including genetic samples in the NIDDK repository', 'Sex', 'Did the participant have Diabetic Ketoacidosis DKA at time of diagnosis', 'If FEMALE with reproductive or childbearing potential was the pregnancy test result positive', 'Event Fever', 'Was Methylprednisone given to the participant', 'Was Diphenhydramine given to the participant', 'Were any other medications given', 'Color', 'Appearance', 'RBC Not Done', 'Hemoglobin Not Done', 'Hematocrit Not Done', 'MCV Not Done', 'WBC Not Done', 'blood pressure Diastolic Not Done', 'Weight Not Done', 'Was a physical exam performed at this visit', 'Was the participant given their study drug dose in clinic', 'Were there any signs or symptoms of hypoglycemia during the observation period', 'Was study drug dispensed', 'How did the participant receive the study drug', 'Medication Pack Number', 'Medication Pack Number', 'Were there any unusual circumstances', 'ST Have there been any changes in health since the last scheduled visit', 'test name', 'test name', 'test name', 'test name', 'test name', 'test name', 'test name', 'test name', 'test name', 'test name', 'test name', 'test name', 'test name', 'test name', 'test name', 'test name', 'test name', 'test name', 'test name', 'test name', 'test name', 'test name', 'test name', 'test name', 'test name', 'test name', 'test name', 'test name', 'test name', 'test name', 'test name', 'test name', 'test name', 'test name', 'test name', 'test name', 'test name', 'test name', 'test name', 'test name', 'test name', 'test name', 'test name', 'test name', 'test name', 'test name', 'test name', 'test name', 'test name', 'test name', 'test name', 'test name', 'test name', 'test name', 'test name', 'test name', 'test name', 'test name', 'test name', 'unit of height', 'unit of weight', 'Consent Date 2019 Protocol Version', 'Date of blood draw', 'Date results reported by lab', 'Screening date', 'Informed consent signed date', 'Date signed informed consent form', 'Samples collection date', 'Last HbA1c date', '1 Date written informed consentassent was obtained', 'Date of diagnosis of type 1 diabetes', 'Date of Flu Vaccination', 'Date tests run', 'study drug returned date', 'Study drug dispensed date', 'Participant Birth month and year', 'Date of Birth Month and Year', 'If known record date HbA1c was measured', 'Dates glucoseinsulin recorded', 'Dates glucoseinsulin recorded', 'Dates glucoseinsulin recorded', 'Study drug dispensed to the participant Date Dispensed', 'Study drug dispensed to the participant Date Dispensed', 'Study drug dispensed to the participant Date Dispensed', 'Mechanistic Sample Collection Date', 'Monitoring informed consent form signed date', 'New informed consent form signed date', 'Date of InterferonGamma Release Assay IGRA test', 'OGTT Start Time of Tolerance Test', 'MMTT Start Time of Tolerance Test', 'Time of Collection', 'Time Results Processed by Lab', 'missing value indicator of clinicalcenternumber', 'missing value indicator of AgeOfRelativeWithT1D2_1', 'missing value indicator of AgeOfOnsetInRelativeWithT1D2_1', 'missing value indicator relative AgeRelativeWithT1DStartedIn2_1', 'missing value indicator of AgeOfRelativeWithT1D3_1', 'missing value indicator of AgeOfOnsetInRelativeWithT1D3_1', 'missing value indicator of AgeRelativeWithT1DStartedIn3_1', 'missing value indicator of AgeOfRelativeWithT1D4_1', 'missing value indicator of AgeOfOnsetInRelativeWithT1D4_1', 'missing value indicator of AgeRelativeWithT1DStartedIn4_1', 'missing value indicator of SeatedArmBPSystolic', 'missing value indicator of SeatedArmBPDiastolic', 'missing value indicator of SeatedHeartRate', 'missing value indicator of SeatedRespiratoryRate', 'Eosinophils results OR', 'missing value indicator of Weight_kg', 'Basophils results', 'missing value indicator of MCHCresults', 'missing value indicator of EosinophilsResults', 'What is your average total insulin dose in 24 hours', 'missing value indicator of PlateletCountResultsNormal', 'Average unitsday of intermediatelong acting insulin average over 3 day period', 'missing value indicator of NeutrophilsResults', 'Lymphocytes results OR', 'missing value indicator of AvgUnitsShortActingInsulin', 'missing value indicator of AgeRelativeWithT1DStartedIn6_1', 'missing value indicator of HematocritResults', 'weight in kg', 'missing value indicator of AvgRecordedFastingGlucoses', 'Lymphocytes results', 'missing value indicator of AvgAllRecordedGlucoses', 'Last HbA1c value', 'missing value indicator of LymphocytesResults', 'Record the Randomization Number used for study drug dispensation', 'Number of capsules dispensed', 'Collect the following assessments Height in cm', 'missing value indicator of AgeOfRelativeWithT1D5_1', 'MCHC results', 'MMTT What was the amount consumed', 'MCH results', 'missing value indicator of RandomizationNumber', 'Total number of home blood glucose monitorings over three days', 'missing value indicator of Height_cm', 'Current Age of Relative', 'Average of all recorded glucoses over three days', 'Age Relative Started Insulin', 'Basophils results OR', 'Monocytes results OR', 'missing value indicator of AgeRelativeWithT1DStartedIn5_1', 'missing value indicator of LowestGlucose', 'Number of home blood glucose monitorings over three days that were less than 65mgdl', 'Height cm', 'Lowest recorded glucose over three days', 'Hemoglobin Results', 'missing value indicator of CapsulesDispensed', 'missing value indicator of HeightCm', 'Platelet count results', 'Age of Onset in Relative', 'missing value indicator of BasophilsResults', 'Highest recorded glucose over three days', 'Eosinophils results', 'Neutrophils results OR', 'missing value indicator of AgeOfRelativeWithT1D6_1', 'Age Relative Started Insulin', 'missing value indicator of HemoglobinResults', 'missing value indicator of TotalOfHomeBloodGlucoseOver3Da', 'missing value indicator of HighestGlucose', 'missing value indicator of WeightKg', 'Number of capsules returned', 'Hematocrit results', 'missing value indicator of InsulinDoseLast24Hrs', 'MCV results', 'MMTT How long did it take for the participant to consume the Boost', 'missing value indicator of WBCresults', 'Monocytes results', 'missing value indicator of MMTTTimeToConsumeBoost', 'missing value indicator of EosinophilsResultsOR', 'Average unitsday of short acting insulin', 'Average of recorded fasting glucoses over three days', 'missing value indicator of BasophilsResultsOR', 'missing value indicator of LymphocytesResultsOR', 'missing value indicator of AverageUnitsOfItermediateInsul', 'WeightKGDouble', 'Neutrophils results', 'missing value indicator of AgeOfOnsetInRelativeWithT1D5_1', 'missing value indicator of MonocytesResultsOR', 'missing value indicator of MCVresults', 'missing value indicator of Rbcresults', 'missing value indicator of MCHresults', 'missing value indicator of LastHbA1cValue', 'Age of Onset in Relative', 'missing value indicator of MonocytesResults', 'WBC results', 'missing value indicator of NeutrophilsResultsOR', 'missing value indicator of TotalOfHBGMonitoringsLessThan6', 'RBC results', 'missing value indicator of MMTTAmountConsumed', 'missing value indicator of CapsulesReturned', 'Current Age of Relative', 'missing value indicator of AgeOfOnsetInRelativeWithT1D6_1']\n"
     ]
    }
   ],
   "source": [
    "print(label_list)"
   ]
  },
  {
   "cell_type": "code",
   "execution_count": null,
   "id": "b5823a38",
   "metadata": {},
   "outputs": [],
   "source": []
  },
  {
   "cell_type": "code",
   "execution_count": null,
   "id": "2718dc32",
   "metadata": {},
   "outputs": [],
   "source": []
  },
  {
   "cell_type": "markdown",
   "id": "ee8466c1",
   "metadata": {},
   "source": [
    "# New added columns (Jan 19)"
   ]
  },
  {
   "cell_type": "code",
   "execution_count": 1,
   "id": "6b6d6790",
   "metadata": {},
   "outputs": [
    {
     "name": "stdout",
     "output_type": "stream",
     "text": [
      "<class 'pandas.core.frame.DataFrame'>\n",
      "RangeIndex: 177 entries, 0 to 176\n",
      "Data columns (total 2 columns):\n",
      " #   Column    Non-Null Count  Dtype \n",
      "---  ------    --------------  ----- \n",
      " 0   Variable  177 non-null    object\n",
      " 1   Label     177 non-null    object\n",
      "dtypes: object(2)\n",
      "memory usage: 2.9+ KB\n",
      "None\n"
     ]
    },
    {
     "data": {
      "text/html": [
       "<div>\n",
       "<style scoped>\n",
       "    .dataframe tbody tr th:only-of-type {\n",
       "        vertical-align: middle;\n",
       "    }\n",
       "\n",
       "    .dataframe tbody tr th {\n",
       "        vertical-align: top;\n",
       "    }\n",
       "\n",
       "    .dataframe thead th {\n",
       "        text-align: right;\n",
       "    }\n",
       "</style>\n",
       "<table border=\"1\" class=\"dataframe\">\n",
       "  <thead>\n",
       "    <tr style=\"text-align: right;\">\n",
       "      <th></th>\n",
       "      <th>Variable</th>\n",
       "      <th>Label</th>\n",
       "    </tr>\n",
       "  </thead>\n",
       "  <tbody>\n",
       "    <tr>\n",
       "      <th>0</th>\n",
       "      <td>_15Aug2011VisitType</td>\n",
       "      <td>Visit type</td>\n",
       "    </tr>\n",
       "    <tr>\n",
       "      <th>1</th>\n",
       "      <td>StorageOfResidualsDuringTrialN</td>\n",
       "      <td>Did participant consent to current storage of ...</td>\n",
       "    </tr>\n",
       "    <tr>\n",
       "      <th>2</th>\n",
       "      <td>WhyAccessingParticipantRecord</td>\n",
       "      <td>Why are you accessing this participant record</td>\n",
       "    </tr>\n",
       "    <tr>\n",
       "      <th>3</th>\n",
       "      <td>WhichProtocolVersion2</td>\n",
       "      <td>Which protocol version has the participant con...</td>\n",
       "    </tr>\n",
       "    <tr>\n",
       "      <th>4</th>\n",
       "      <td>AETerm</td>\n",
       "      <td>AE Term</td>\n",
       "    </tr>\n",
       "  </tbody>\n",
       "</table>\n",
       "</div>"
      ],
      "text/plain": [
       "                         Variable  \\\n",
       "0             _15Aug2011VisitType   \n",
       "1  StorageOfResidualsDuringTrialN   \n",
       "2   WhyAccessingParticipantRecord   \n",
       "3           WhichProtocolVersion2   \n",
       "4                          AETerm   \n",
       "\n",
       "                                               Label  \n",
       "0                                         Visit type  \n",
       "1  Did participant consent to current storage of ...  \n",
       "2      Why are you accessing this participant record  \n",
       "3  Which protocol version has the participant con...  \n",
       "4                                            AE Term  "
      ]
     },
     "execution_count": 1,
     "metadata": {},
     "output_type": "execute_result"
    }
   ],
   "source": [
    "import pandas as pd\n",
    "\n",
    "col_label = pd.read_csv('col_label_2.csv')\n",
    "print(col_label.info())\n",
    "col_label.head()"
   ]
  },
  {
   "cell_type": "code",
   "execution_count": 2,
   "id": "817692b0",
   "metadata": {},
   "outputs": [
    {
     "name": "stdout",
     "output_type": "stream",
     "text": [
      "['_15Aug2011VisitType', 'StorageOfResidualsDuringTrialN', 'WhyAccessingParticipantRecord', 'WhichProtocolVersion2', 'AETerm', 'AECategory', 'AETreatLocation', 'AECausalityByReporter', 'Eventabateafterstoppingdrug', 'CentralIRBOrlocalIRB', 'centralIRBscriteria', 'Followupstatuscode', 'TN01ParticipantStatusSectionB', 'Rbcresults_Units', 'HemoglobinResults_Units', 'HematocritResults_Units', 'MCVresults_Units', 'MCHresults_Units', 'MCHCresults_Units', 'WBCresults_Units', 'NeutrophilsResults_Units', 'NeutrophilsResultsOR_Units', 'LymphocytesResults_Units', 'LymphocytesResultsOR_Units', 'MonocytesResults_Units', 'MonocytesResultsOR_Units', 'EosinophilsResults_Units', 'EosinophilsResultsOR_Units', 'BasophilsResults_Units', 'BasophilsResultsOR_Units', 'IndicateTheStudyParticipantWas', 'IsParticipantCurrentlyEligible', 'IsTheParticipantInterested', 'Havetherebeenanychangesinthepa', 'Participantisahotleadwarmleado', 'TN16TN19TN20EligibilityStatus', 'Pleaseselecttypeofcontactattem', 'FinalContactAttempt1_1', 'Istheparticipantinterestedinth', 'Didtheparticipantindicatetheym', 'Informationgatheredfrom', 'MethodofContact', 'ChangeOfStatusOccuring', 'ReasonForWithdrawal', 'ParticipantWillingToBeContacte', 'DiagnosisBy', 'DiagnosisByOthersSpecify', 'Polyuria', 'PolyuriaMonth', 'Polydipsia', 'PolydipsiaMonth', 'Polyphagia', 'Fatigue', 'UnexplainedWeightLoss', 'Ketoacidosis', 'Units1_1', 'GlucoseType1_1', 'MeasuredBy1_1', 'Units2_1', 'GlucoseType2_1', 'MeasuredBy2_1', 'Units3_1', 'GlucoseType3_1', 'MeasuredBy3_1', 'CriteriaParticipantDiagnosewit', 'H2OvernightHospitalization', 'H3AdmissionToICU', 'H5StartedInsulin', 'NotificationStatus', 'ParticipantContacted', 'ParticipantExpectedToContinue', 'Old_Site_Number', 'Current_Site_Number', 'Reason_for_Transfer', 'PInotified', 'ProtocolDeviation', 'ProtocolDeviationOtherSubcateg', 'SignedConsentFor2017Protocol', 'Medication', 'Units', 'ConMedsFrequencyChoices', 'ConMedsFrequencyOtherDetail', 'ConMedsIntervalChoices', 'ConMedsRoute', 'Indication', 'IsContinuing', 'LowestGlucose_unit', 'SelectTheTrialNetStudyInWhichT', 'SubjectHasSignedWrittenInforme', 'AllowToPutAnyRemainingBloodSam', 'TN16ProtocolDeviation', 'SelectTheVersionOfTN16', 'aereportdt', 'AE_Submitted', 'AEPrimarySecondary', 'AEexpected', 'aeresolvedt', 'AEPatientOutcome', 'Eventreappearafterreintroduct', 'AEReasonForFollowup', 'PhysicalExamFirstVisitYesNo', 'LungsFindings', 'PulsesFindings', 'PubicHairTannerStage', 'ConMedsIntervalOtherDetails', 'ExperiencedAnyHypoglycemicEven', 'VisitProtocolDeviationOccurred', 'ProtocolDeviationReasons', 'PINotified', 'AnyGrade3OrGreaterProblems', 'GCSFWassplenomegalyindicatedon', 'SubcutaneousInjectionGiven', 'ExperienceFollowingProblems', 'ExperienceOtherProblems', 'SpecificGravity', 'PlanPregnantWithinNextYear', 'BirthControlAbstinenceAcceptab', 'Event_Title', 'SampleMaskID', 'Description', 'HBsAb', 'consenttocontinuedstorageofres', 'WastheVolunteerUnderstandingAs', 'Hastheparticipantusedantibioti', 'firstorseconddegreerelativesbe', 'Hasanyoneintheparticipantfamil', 'Hastheparticipanteverbeendiagn', 'DescriptionDeviationCircumstan', 'Havetherebeenanychangesinhealt', 'Havetherebeenanychangesinconco', 'Istheparticipantcurrentlytakin', 'HbA1c_Units', 'willingToConsiderAtALaterTime', 'DateParticipantwascontacted1_2', 'HospitalizedAtDiagnosisTime', 'Date_of_Study_Start', 'Date_of_Diagnosis', 'aedate', 'AEFollowUpDate', 'Date_of_Draw', 'death_date', 'ReviewDate', 'Date_Run', 'Datewritteninformedconsentasse2', '_22Jul2009ConsentSignedDate', '_15Aug2011ConsentDateDate', 'Fall2017ConsentDateDate', 'DateStatusChangeDate', 'DoRDate', 'DoWDate', 'DiagnosisDate', 'InsulinTreatmentStartedDate', 'AdmissionDate', 'DischargeDate', 'GlucoseDate1_1', 'GlucoseDate2_1', 'GlucoseDate3_1', 'HbA1cDate', 'ProtcolDeviationDate', 'AssessDateDate', 'StartDateDate', 'StopDateDate', 'InformedConsentDate', 'DateProtocolDeviationDate', 'ContactDateDate', 'DateofAssessmentDate', 'DateCompletionDate', 'F2ClinicalDiagnosisDateDate', 'GAD65H_y', 'CMVVL', 'Dose', 'AnthopometricsWeightKg', 'SeatedArmBloodPressureSystolic', 'SeatedArmBloodPressureDiastoli', 'TemperatureDegreeCelcius', 'HeartRateBPM', 'RespiratoryRateBPM']\n"
     ]
    }
   ],
   "source": [
    "column_list = col_label['Variable'].tolist()\n",
    "label_list = col_label['Label'].tolist()\n",
    "\n",
    "print(column_list)"
   ]
  },
  {
   "cell_type": "code",
   "execution_count": 3,
   "id": "c17d4d01",
   "metadata": {},
   "outputs": [
    {
     "name": "stdout",
     "output_type": "stream",
     "text": [
      "['Visit type', 'Did participant consent to current storage of residual blood samples in the NIDDK repository during TrialNets existence', 'Why are you accessing this participant record', 'Which protocol version has the participant consented under', 'AE Term', 'Adverse event category', 'Location of event treatment', 'Causality by reported relative', 'Event abated after stopping drug', 'Central IRB or local IRB used for this protocol', 'Central IRB criteria', 'Followup status code', 'TN01 section b participant status section b', 'Unit of RBC results', 'Unit of HemoglobinResults', 'Unit of  HemoglobinResults', 'Unit of  HematocritResults', 'Unit of  MCVresults', 'Unit of  MCHresults', 'Unit of  MCHCresults', 'Unit of  WBCresults', 'Unit of  NeutrophilsResults', 'Unit of  NeutrophilsResultsOR', 'Unit of  LymphocytesResults', 'Unit of  LymphocytesResultsOR', 'Unit of  MonocytesResults', 'Unit of  MonocytesResultsOR', 'Unit of  EosinophilsResults', 'Unit of  EosinophilsResultsOR', 'Unit of  BasophilsResults', 'Unit of  BasophilsResultsOR', 'Is participant currently eligible', 'Is the participant interested in the selected study above', 'Have there been any changes in the past months', 'Indicate if the participant is a hot lead, warm lead or not eligible', 'TN16TN19TN20EligibilityStatus', 'Please select type of contact made', 'Final contact attempt', 'Is the participant interested in the study selected in question 1', 'Did the participant indicate they may be willing to consider', 'Information gathered from', '2Method of Contact check one', 'Change in status that has occurred', 'Record the primary reason for withdrawal', 'Is the participant still willing to be contacted', 'Diagnosis made by', 'If other facility specify', 'Did the participant experience Polyuria', 'Month polyuria experienced', 'Did the participant experience Polydipsia', 'Month polydipsia experienced', 'Did the participant experience Polyphagia', 'Did the participant experience fatigue 22', 'Did the participant experience unexplained weight loss', 'Did the participant experience ketoacidosis', 'Glucose level units', 'Glucose type', 'Glucose levels measured by', 'Glucose level units', 'Glucose type', 'Glucose levels measured by', 'Glucose level units', 'Glucose type', 'Glucose levels measured by', '1Select ONE set of criteria by which the participant was diagnosed with type 1 diabetes', 'H2Overnight Hospitalization', 'H3AdmissionToICU', 'H5Started Insulin', 'Notification Status', 'Was the participant contacted', 'Is the participant expected to continue with future followup visits', 'Old Primary Site Number', 'Current Site Number', 'Reason for Transfer', 'Was PI notified', 'Protocol Deviation', 'Protocol Deviation Other subcategory', 'Has this participant signed the consent for this protocol', 'Medication', 'Units', 'Frequency Choices', 'Frequency specify detail if OTHER is selected', 'Interval Choices', 'Route', 'Indication', 'Is Continuing', 'Unit of LowestGlucose', 'Select the TrialNet Study in which the subject last participated', 'Subject or Authorized Legal Representative has signed written informed consentassent as applicable', 'Is subject willing to allow TrialNet to put any remaining blood samples in the NIDDK repository', 'TN16 Protocol deviation', 'Select the version of TN16', 'Date AE Reported', 'Date AE Initially Submitted', 'Primary or Secondary Event', 'AE Expected?', 'Resolved Date', 'AE Patient Outcome', 'Did event/reaction reappear after reintroduction', 'AE Reason for followup', 'Was a physical exam performed at this visit', 'Lungs Findings', 'Pulses Findings', 'Pubic Hair both', 'Interval specify details if OTHER is selected', 'Have you experienced any sevre hypoglycemic events loss of consciousness seizure or assistance required from another person due to an altered state or consciousness since trhe last visit', 'Visit protocol deviation occurred', 'Protocol deviation check one', 'Was PI notified', 'Were there any grade 3 or greater problems with the previous infusion', 'GCSF Was splenomegaly indicated on the physical exam', 'Was subcutaneous injection given', 'Did the subject experience any problems following the drug administration', 'Did the subject experience any other problems during study drug administration', 'Specific Gravity', 'Does the subject plan to become pregnant within the next year', 'Is the subject using birth control abstinence or acceptable method', 'Specimen Collection Form', 'Sample Mask ID#', 'Treatment Description', 'Hepatitis B surface antibody result (mIU/mL)', 'On the consent form did the participantparticipants legal guardian consent to continued storage of residual blood samples in the NIDDK Repository after TrialNet has ended', 'WastheVolunteerUnderstandingAs', 'Has the participant used antibiotics in the past 3 months', 'Have any of your first or second degree relatives been diagnosed with Type 1 Diabetes T1D since the completion of the Natural History Family History Form NH01F', 'Has anyone in the participants family first or second degree relatives only ever been diagnosed with an autoimmune diseases', 'Has the participant ever been diagnosed with an autoimmune diseases', 'Description Deviation Circumstan', 'Have there been any changes in health since the last scheduled visit ', 'Have there been any changes in concomitant medication since the last scheduled', 'Is the participant currently taking study drug', 'Unit of HbA1c', 'Did the participant indicate they may be willing to consider participating in the study at a later time', 'Date participant was contacted', 'HospitalizedAtDiagnosisTime', 'Date of Study Start', 'Date of Diagnosis', 'Date of AE', 'Date of Follow-up', 'Date of Draw', 'Date of Death ', 'Review Date', 'Date Run', 'Date written informed consent assent obtained Month', 'Date Informed Consent signed for 22July2009 protocol version', 'Date Informed Consent signed for 15Aug2011 protocol version', 'Date Informed Consent signed for Fall2017 protocol version', 'Date change in status became effective', 'Date of reactivation', 'Date of withdrawal', 'Diagnosis Date', 'Date insulin treatment started', 'Date of admission', 'Date of discharge', 'Glucose date', 'Glucose date', 'Glucose date', 'Other laboratory values hba1c date', 'Protocol deviation date', 'Assessment date', 'Start date', 'Stop date', 'If yes date consentassent was obtained', 'Date protocol deviation occurred', 'Contact Date', 'Date of assessment', 'Date form completed', 'F2Clinical Diagnosis Date', 'Anti-GAD65 autoantibody by NIDDK Harmonized radiobinding assay; positive >20 DK units', 'test name', 'Dose', 'Weight kg', 'Seated arm blood pressure Systolic', 'Seated arm blood pressure Diastolic', 'Temperature Degree', 'Heart Rate bpm', 'Respiratory rate bpm']\n"
     ]
    }
   ],
   "source": [
    "print(label_list)"
   ]
  },
  {
   "cell_type": "code",
   "execution_count": null,
   "id": "6c9652a0",
   "metadata": {},
   "outputs": [],
   "source": []
  }
 ],
 "metadata": {
  "kernelspec": {
   "display_name": "conda_pytorch_p310",
   "language": "python",
   "name": "conda_pytorch_p310"
  },
  "language_info": {
   "codemirror_mode": {
    "name": "ipython",
    "version": 3
   },
   "file_extension": ".py",
   "mimetype": "text/x-python",
   "name": "python",
   "nbconvert_exporter": "python",
   "pygments_lexer": "ipython3",
   "version": "3.10.13"
  }
 },
 "nbformat": 4,
 "nbformat_minor": 5
}
