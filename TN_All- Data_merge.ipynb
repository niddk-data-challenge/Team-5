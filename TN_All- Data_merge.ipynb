{
 "cells": [
  {
   "cell_type": "markdown",
   "id": "411d1f2b",
   "metadata": {},
   "source": [
    "# 0. Try approaches to find an effective way to merge datasets"
   ]
  },
  {
   "cell_type": "code",
   "execution_count": 5,
   "id": "cbc4898e",
   "metadata": {},
   "outputs": [
    {
     "name": "stdout",
     "output_type": "stream",
     "text": [
      "2591\n",
      "['f3availableWeightDD', 'ZnT8ANotDone', 'OtherHeartRate8_1', 'IA2AInterpretation', 'Pulses', 'A24PPI614_CD95p_1', 'ParticipantDateDispensedYea4_1', 'AgeOfOnsetInRelativeWithT1D6_1', 'EligibileToBeScreenedForTheStu', 'Insulin_percent_CXCR3p', 'E1bDateOfOnsetDD', 'OtherDiastolic3_1', 'Neutrophil800', 'SexofRelative3_1', 'H2OvernightHospitalization', 'Samplescollectediner_OGTT', 'HaveHadComplications_Heart', 'D5MeterReadingYYYY3_1', 'Hastheparticipanthadalossreduc', 'HighCholesterolEver', 'HEENTABNORMAL', 'TN22ExclusionCriteri_G6PDdeficie', 'STHavetherebeenanychangesinhea', 'ReceivedInfluenzaVaccination', 'ContactDateDay', 'Neurologic', 'GlucoseYear10_1', 'SerumKetonesYear', 'A3CMVEBV_A24CMVEBV_Count', 'Specimencollectionkitshipmentd', 'StudyDrugStopDateDay1_1', 'A24PPI614_Q2CD45RApCCR7p', '_4HrsAftStartTimeMissedVital', 'OtherHeartRate11_1', 'Requiredstudyvisitpr_AEsnotasses', 'D3RandomPlasmaGlucUnits5_1', '_7Selectallthatapply_SoreThroat', 'RelativewithType1Diabetes3_1', 'SevereInfectionsWhatKind', 'D1FastingPlasmaGlucDD3_1', 'CeliacSprueGlutenDiagnosisMont', 'NumberOfReadingsWithSymptomsIn', 'OtherMin7_1', '_30MinAfteStartTimeMin', 'SignsOfHypoglycemiaDescribe', '_90MinAfteStartTimehour', 'AEAssociations_Isanotherconditio', 'OtherHour6_1', 'D5OtherTestResultYYYY10_1', 'ComplicatedMedIssuesOrAbnormal', 'D2aOGTTFastingGlucDD1_1', 'Samplescollectedouts_RNA', 'Number_of_viable_CD4pTCells', 'Sampleslost_Autoantibodies', 'InfusionStartTimeHour', 'IGRPp_IAPPp_Q2_CD45RAp_CCR7p', 'Comments2_1', '_7HrsAftStartTimeRespRate', 'VistMissed', 'D5OtherTestResultResult18_1', 'UnexplainedWeightLossMonth', 'A3CMVEBVA24_CMVEBVQ3CD45RACCR7', 'FirstHearAboutTrialN_Other', 'RandomFingerstickGluNotDone', 'B7PPI413_CD45RAnCXCR3p', 'SignsOrSymptomsOfAcuteInfectio', 'A3PPI3846_Q1CD45RAnCCR7p', 'D5OtherTestResultDD15_1', 'GlucoseDay7_1', 'ADHHypoparathyroidismDateofDia', 'Datewritteninformedconsentasse2', 'ECeDoestheparticipanthaveadise', 'OtherHeartRate10_1', 'ADHOtherSpecify2_1', 'AcetaminophenGivenDoseTimeM3_1', 'HypoparathyroidismYesNo', 'UrineKetonesMonth', 'HypotensionPresent', 'DoesNotWantToBeBlindedRank', 'centralIRBscriteria', '_120MinAfteStartTimeMin', 'ICAUnits', 'beta_cell_percent_CXCR3p', 'FluVaccinationDateYear', 'PatientInitialDiagno_Formaltesti', 'OGTTCollected', 'f1availableWeightUnits', 'OtherHour15_1', 'HighestGlucosemgdl', 'OtherTemp3_1', 'CD4PResult', 'GlucoseDay10_1', 'ParticipantPregnant', 'RheumatologicDiseaseDateofDiag3', 'Requiredstudyvisitpr_Physicalexa', 'GlucoseType10_1', 'DateParticipantwascontacted1_1', 'testName19_1', 'AdmittedHospitalDiagnosis', 'B8PPI210Q1_CD45RAnCCR7p', 'Datewritteninformedconsentasse3', 'LungsFindings', 'IA2APositivityThresholdTextVal', 'OtherDiseaseDateofDiagnosis1_2', 'death_date', 'PreInfusionRespRate', 'DateSignedNEWInformedConsentFo', 'WeightLostInLbs', 'DSMBReviewRequestDetails', 'AlopeciaWithinLastYear', 'MethodofContactA_Mail1_1', 'testName9_1', 'D1FastingPlasmaGlucYYYY2_1', 'D2b2HourGlucUnits3_1', 'Hastheparticipanthadanydifficu', 'PolyuriaYear', 'InsulinRoutineDaily', 'RespiratoryRateBPM', 'MultipleSclerosisYesNo', 'TypeofTestAdministered', 'OtherSystolic10_1', 'A3_PPI_79_88_Freq', 'D4HbA1cYYYY1_1', 'ADHLupusDateofDiagnosisYear', 'HaveYouSeenAnEyeSpecialist', 'PsoriasisEver', 'IgG2', 'InfusionRelatedEventOther', 'Didtheparticipantindicatetheym', 'SerumKetonesRefRangeHigh', 'Hastheparticipanteverbeendiagn', 'LymphocytesResults', 'B7_PPI_4_13_Freq', 'D5OtherTestResultDD21_1', 'f2availableWeightMM', '_120MinAfteStartTimeSystolic', 'AgeOfRelativeWithT1D4_1', 'HemoglobinNotDone', 'AEAssociations_Developmentofacon', '_9HrsAftStartTimeTemp', 'Leukocytes', 'A3PPI788_Q2CD45RApCCR7p', 'CurrentlyPregnant', 'AvgAllRecordedGlucosesMmoll', 'FearOfStudyDrugRisksRank', 'DateControlBecameAutoantibodyP2', 'OtherDiastolic9_1', 'HbA1crecordDateDay', 'IsParticipantCurrentlyEligible', 'AcetaminophenGivenDoseTimeM5_1', 'D4HbA1cResult2_1', 'AssessDateDay', 'D5MeterReadingMM3_1', 'beta_cell_percent_CCR7p', 'D5OtherTestResultDD6_1', 'D5MeterReadingMM5_1', 'ADHGravesDiseaseDateofDiagnosi', 'ImmunosuppressiveSteroids', 'AbdomenAbnormal', '_22Jul2009Phase3StorageConsent', 'LowestGlucosemmoll', 'CurrentlyTakingBirthControlMed', 'ProtocolVersion', 'D5OtherTestResultMM23_1', 'PercentDailyInsulinDoseBasal', 'AddisonDiseaseYesNo', 'Samplescollectediner_PBMC', 'OtherHeartRate13_1', 'ParticipantDateDispensedMon3_1', 'ProtcolDeviationYear', 'bloodpressureDiastolicNotDone', 'ChangeOfStatusOccuring', 'Ketones', 'D6OtherTestResultUnit22_1', 'Other_Specify', 'UrineKetonesUnits', 'MCHresults', 'Date_Received', 'AnyOtherMedicationsDosageMi3_1', 'AEDateDeathMonth', 'MMTTTimeToConsumeBoost', 'DiphenhydramineDoseGivenDos2_1', 'D5MeterReadingUnit3_1', 'HighcholesterolEver', 'A1FluCMVB7CMV_CD45RAnCXCR3p', 'Date_at_Evaluation', 'HighCholestrolWithinLast6Months', 'SerumKetonesday', 'OGTTTestStartTimeMins', 'OtherRespRate2_1', '_120MinAfteStartTimeRespRate', 'BasophilsResultsOR', 'LimitedLifeExpectancyOrImmunno', 'DateOfBirthYear', 'HbA1cResult', 'D5OtherTestResultResult11_1', 'StudyDrugDispensedYear', 'FirstHearAboutTrialN_FamilyFrien', 'ZnT8AInterpretation', '_90MinAfteStartTimeMin', 'InfectiousMononucleosisWithinL', 'Requiredsamplescolle_Participant', 'SteroidsSpecify', 'TimeResultsProcessedByLabMM', 'ParticipantLocation', 'PerniciousAnemiaEver', 'DateSignedInformedConsentFormY', 'ParticipantDateDispensedYea3_1', 'D2aFastingPlasmaGlucYYYY3_1', 'beta_cell_percent_RAp', 'PINotified', 'RandomizationNumber', 'D5OtherTestResultYYYY16_1', 'Participantisahotleadwarmleado', 'Age', 'HypogonadismorPrematureMenopau', '_4HrsAftStartTimeDiastolic', 'Freq_Other_beta_cell_specific', 'MeasuredBy6_1', 'BasophilsNotDone', 'WasBeingInTrialNetStudyAGoodDe', 'RequiredSampleVisitN_Participant', 'A3_PPI_38_46_Count', 'WillingToBeContacted', 'Frequentotherinfections', 'Total_Count', 'A3PPI3846_CD45RAnCXCR3p', 'B8_PPI_2_10', 'Hasthesubjectexperiencedblurre', '_5HrsAftStartTimeTemp', 'StudyDrugReturnedDay', 'H5StartedInsulin', 'Samplescollectedando_DNA', 'A1FluCMVA3EBVCMV_Q3CD45RApCCR7n', 'SiteEvaluationSickleCellCrisis', 'A1FluCMVB8EBV_CMVQ4CD45RAnCCR7n', 'TN16TN19TN20EligibilityStatus', '_90MinAfteStartTimesystolic', 'AcetaminophenGivenToPartici4_1', 'A1_Flu_CMV_B8_EBV_CMV_Freq', 'LowerReferenceRange8_1', 'BasophilsResultsNormal', 'D5OtherTestResultYYYY18_1', 'revised_long_description', 'Samplescollectediner_Autoantibod', 'D4HbA1cMM3_1', 'AgeofT1DOnsetinRelative2_1', 'D5OtherTestResultDD10_1', 'HadComplicationOfPreg', 'Samplescollectediner_DNA', 'HigherReferenceRange2_1', 'ReasonsNotInterested_LosttoFollo', 'CurrentAgeofRelative3_1', '_90MinAfteStartTimeHeartrate', 'DiagnosisYear', 'DiphenhydramineDosageTimeHo4_1', 'MethylprednisoneGivenDoseTi1_2', 'HaveYouHadRepeatedInfections', 'InsB_PPI_Count', 'AnthopometricsWeightNotDone', 'ADHMultipleSclerosisDateofDiag3', 'Result1_1', 'AnyOtherMedications', 'ProtcolDeviationDay', 'D2b2HourGlucYYYY2_1', 'BloodForCellsComment', 'OtherSystolic16_1', 'AdmissionMonth', 'NauseeVomitPresent', 'A3_PPI_38_46_Freq', 'PInotified', '_11HrsAftStartTimeHeartRate', '_15Aug2011ConsentDateYear', '_6HrsAftStartTimeTemp', 'F1DateStudyEndpointMetDD', 'AdmissionDay', 'ADHInflammatoryBowelDiseaseDat', 'StudyDrugStartDateYear1_1', 'AlopeciaWithinLast6Months', 'severity', 'DiphenhydramineDoseGivenDos1_1', 'D6OtherTestResultUnit7_1', 'SexOfRelativeWithT1D3_1', 'DateRecordedYYYY1', 'H3AdmissionToICU', 'D5OtherTestResultResult8_1', 'D5OtherTestResultYYYY12_1', 'AvgTotalInsulinUnknown', 'AESerious', 'SubcutaneousInjectionGiven', 'InfusionStartTimeMissedVital', 'AEReporterStaffCode', 'SelectStudyForPreventionOfT1D', 'Antibodycomment', 'SampleNotCollected_MechanisticSe', 'IsContinuing', 'Whatwastheduration', 'PlasmaGlucoseResult', 'UlcerWithinLast6Months', 'UnwillingToTakeInvestigational', 'D4HbA1cDD1_1', 'D5OtherTestResultMM22_1', 'D2aFastingPlasmaGlucMM3_1', 'OtherHeartRate9_1', 'NewSevereAllergiesWhatKind', 'D5OtherTestResultYYYY4_1', 'WrittenInformedConsentMonth', 'AllowToPutAnyRemainingBloodSam', 'HemoglobinResultsNormal', 'D5OtherTestResultMM8_1', 'AEReportDtYear', '_90MinAfteStartTimeMissedVital', 'ICAResult', 'Fall2017ConsentDateDay', 'D2aOGTTFastingGlucUnits2_1', 'D5MeterReadingDD5_1', 'D2aFastingPlasmaGlucDD3_1', 'SiteEvaluationSwellingDuration', 'ReasonsNotInterested_TimeCommitm', 'Grade3UnresolvedAbnormalities', 'ConsentFormChanges', 'D6OtherTestResultUnit8_1', 'HematocritResultAbormalClinica', 'DiphenhydramineDosageTimeHo3_1', 'MonitoringSchedulingChangeEffe3', 'Units1_1', 'A1Ins32_40CD95p', 'HowDoYouFeelAboutBeingInTrialN', 'IsParticipantWillingBeContacte', 'WBCResultAbormalClinicallySign', 'TN22ExclusionCriteri_Historyoftr', 'VitiligoWithinLast6Months', 'D3RandomPlasmaGlucMM3_1', 'D5OtherTestResultDD20_1', 'AEDateDeathDay', 'WhatwasthedurationUnknownNotSu', '_5HrsAftStartTimeHour', 'SiteEvaluationHeadacheGrade', '_30MinAfteStartTimeMissedVital', 'AgeofT1DOnsetinRelative3_1', 'Hasanyoneintheparticipantfamil', 'HbA1cDay', 'WastheVolunteerUnderstandingAs', 'RelativeWithT1D6_1', 'SiteEvaluationRespiratoryDistr4', 'pH', 'D5OtherTestResultResult6_1', 'AEPatientOutcome1_1', 'SampleNotCollected_CBCwdifferent', 'InfusionStartTimeHeartrate', 'RelativeComments5_1', 'GAD_IGRP_IAPP_Count', 'ADHHypoparathyroidismDateofDia2', 'PPIp_CD8_Count', 'Whatwastheduration6', 'Nitrite', 'ParticipantSymptomsT_Increasedth', 'DidPregnancyResultInMiscarriag', 'D2aOGTTFastingGlucYYYY1_1', 'AgeOfOnsetInRelativeWithT1D10_1', 'SeizuresFaintingLowBloodGlucos', 'MeasuredBy2_1', 'OtherGlucoseLoweringAgents', 'DateParticipantwascontacted1_2', 'DateConsentSignedDay', 'SexOfRelativeWithT1D7_1', 'InfusionStartTimeResprate', 'Wasthetestresultpositive', 'ADHRheumatologicDiseaseDateofD3', 'TestingPlaceForAutoAntibodyOut', '_15Aug2011ConsentDateDay', 'D5OtherTestResultMM21_1', 'Informationgatheredfrom', 'Old_Site_Number', 'MethodofContactA_Telephone1_1', 'GravesDiseaseDateofDiagnosisYe', 'MeasuredBy1_1', 'D5OtherTestResultYYYY7_1', 'E1aDKA', 'PPIp_CD8_Q4_CD45RAn_CCR7n', 'CongenitalHeartDiseaseWithinLa', 'BloodForRNAComment', 'OtherRespRate3_1', 'Havetherebeenanychangesinhealt', 'D6OtherTestResultUnit10_1', 'AEOccurDtMonth', 'A1Ins3240_Q2CD45RApCCR7p', 'SexOfRelativeWithT1D14_1', '_60MinAfteStartTimeHeartRate', 'SiteEvaluationItchingGrade', 'Niacin', 'E1aDateOfOnsetMM', 'OtherTemp8_1', 'B7PPI413PPI8_16CD95p', 'HematocritResultsNormal', 'RBCResultAbormalClinicallySign', 'InsBp_CD95p', 'CD8AResult', 'SelectTheVersionOfTN16', 'DatestudyendpointmetMM', 'D5MeterReadingMM7_1', 'MCVNotDone', '_3HrsAftStartTimeMissedVital', 'Whendidthefeveroccur', 'ADHLupusDateofDiagnosisMonth', 'SerumKetonesResult', 'HowIsWeightObtained', 'RememberValueOfMostRecentHbA1c', 'EventHypotensionGrade', 'AdverseEventID', 'testName22_1', 'AnyOtherMedicationsSpecify4_1', 'HbA1cMonth', 'Hasthesubjectexperiencedpolyur', 'DateresultsreportedbylabMonth', 'GlucoseYear3_1', 'DiagnosedAutoImmuneDisease', 'TotalOfHBGMonitoringsLessThan6', 'RelativeWithT1D5_1', 'NeurologicFindings', 'FullDoseInfused', 'F1DateStudyEndpointMetYYYY', 'RheumatologicDiagnosisDay', 'DoLMCMonth', 'OtherSystolic8_1', 'AgeOfRelativeWithT1D2_1', 'AgeOfRelativeWithT1D9_1', 'A1FluCMVA3EBVCMV_CD45RAnCXCR3p', 'FluVaccineYear', 'InsBp_Q1_CD45RAn_CCR7p', 'AnticipatesBecomingPregnant', 'Requiredsamplescolle_Otherdescri', 'D3RandomPlasmaGlucUnits1_1', 'AddisonsDiseaseDateofDiagnosis3', 'SampleOutsideWindow_WholeBloodCD', 'participantnoteligib_2Hasthepart', 'ToldYouHaveNewAutoimmuneDiseas', '_7HrsAftStartTimeMin', 'B7PPI413_Q4CD45RAnCCR7n', 'LowerReferenceRange4_1', 'AcetaminophenGivenDoseTimeH1_1', 'ParticipantDateDispensedDay3_1', '_2cTN18Exclusion_3Immunodeficien', 'D2aOGTTFastingGlucYYYY2_1', 'WhendidthesesymptomsOccur', 'D5OtherTestResultResult3_1', '_30MinAfteStartTimeTemp', 'FeverPresent', 'UrineKetonesRefRangeLow', 'HigherReferenceRange1_1', 'HaveYouLostSymptomsThatUsedToO', 'A3CMVEBVA24_CMVEBVQ4CD45RACCR7', 'InsulinPump', 'RBCResultsNormal', 'AnyOtherMedicationsDosageMi7_1', 'CD8_VIA', 'Status', 'GlucoseMonth4_1', 'InflammatoryBowelYesNo', 'StudyDrugStartDateMonth2_1', 'ADHHypogonadismorPrematureMeno', 'AnionGapResult', 'GlucoseType2_1', 'ADHAlopeciaDateofDiagnosisYear', 'DoDeliveryDay', 'LastAttendedVisitMonth', 'GlucoseType9_1', 'pHResult', 'mIAAIAANotDone', 'A3PPI_3846_Count', 'A24_PPI_614_Freq', 'testName3_1', 'OtherHeartRate15_1', 'PreDoseGlucose', 'DiphenhydramineDosageTimeMi2_1', 'GlucoseDay3_1', 'D5OtherTestResultYYYY14_1', 'Race_BlackorAfricanAmerican', 'firstorseconddegreerelativesbe', 'ContactDateMonth', 'MCHCresultsNormal', 'A24PPI614_CD45RAnCXCR3p', 'f2availableWeightUnits', 'f1availableWeightMM', '_9HrsAftStartTimeMissedVital', 'EventDizzyLightHeadedGrade', 'Wasaurinepregnancytestcomplete', 'HaveYouHadSevereInfections', 'A1_Flu_CMV_A3_EBV_CMV_Freq', 'A1_Flu_CMV_B8_EBV_CMV', 'VitiligoDiagnosisYear', 'Requiredstudyvisitpr_Studydrugno', 'MCVresultsNormal', 'SexOfRelativeWithT1D5_1', 'IA2AUnits', 'ConMedsIntervalChoices', 'UnusualCircumstances', 'SeatedHeartRate', 'revised_short_desc_checkbox', 'A1Ins32_40_Freq', 'D5MeterReadingLoc2_1', '_15Aug2011ConsentForResidualSa', 'PolydipsiaMonth', 'OtherTemp10_1', 'Lymphatics', 'ParticipantWasCo_ClinicalCen1_1', 'Race_NativeHawaiianorOtherPaci', 'PermissionToControlIfTheyTestA', 'InfusionStartTimeDiastolic', 'ADHPsoriasisDateofDiagnosisYea', 'Sex', 'D5MeterReadingYYYY2_1', 'InformedConsentYear', 'AvgBloodGlucoseValueForWeek', 'D6OtherTestResultUnit9_1', 'Result_Type', 'ATGweight', 'B8_PPI_2_10_Freq', 'PregnancyCompletionYear', 'ADHMultipleSclerosisDateofDiag2', 'A24CMVEBV_Q1CD45RAnCCR7p', 'PPIp_CD8_Q3_CD45RAp_CCR7n', 'A1FluCMVB8EBVCMV_CD45RAnCXCR3p', 'AutoimmuneThyroidDisease', 'PubicHairTannerStage', 'SampleNotCollected_HbA1c', 'Hastheparticipantexperiencedvo', 'D3RandomPlasmaGlucMM1_1', 'MeasuredBy3_1', 'VisitYear', 'MonocytesResultsOR', 'H1OtherSymptoms', 'IgGTotal', '_2cTN18Exclusion_1aAbnormalGluc1', 'RelativewithType1Diabetes1_1', 'ReasonsNotInterested_UnableUnwi1', 'SkinFindings', 'IfyesDateCOVID19TestAdminister2', 'D5MeterReadingResult7_1', 'OtherHour12_1', 'ParticipantWasContactedByOt1_1', 'SampleCollectedIncor_WholeBloodC', 'DateRecordedMM3', 'SpecifyStudyForPreventionOfT1D', 'VisitProtocolDeviationOccurred', 'SampleCollectedIncor_ChemistryP1', 'LupusYesNo', 'SampleOutsideWindow_HbA1c', 'IsWeightMeasured', 'ReasonAdverseEventSpecify', 'Heightcm', 'Requiredsamplescolle_ExceededGlu', '_30MinAfteStartTimeSystolic', 'OtherSystolic9_1', 'SkinAbnormal', 'D3RandomPlasmaGlucResult1_1', '_60MinAfteStartTimeMissedVital', 'OGTTComment', 'DiphenhydramineDoseGivenDos3_1', 'Appearance', 'ADHAutoimmuneThyroidDiseaseDat3', 'RelativeComments4_1', 'ADHCeliacDisease', 'D5OtherTestResultMM2_1', 'D5MeterReadingDD4_1', 'WouldYouRecommendBeingInATrial', 'TN22ExclusionCriteri_AbnormalGlu', 'UnitIfOtherSpecify', 'ReasonsNotInterested_BiweeklyInj', 'GlucoseDay2_1', 'GCSFweight', 'HowManyHypoglycemicEvents', 'GivenStudyDrugDoseInClinic', 'Flow_Date', 'LymphocytesResultAbormalClinic', 'AgeRelativeWithT1DStartedIn2_1', 'GlucoseType1_1', 'ExacerbationOfCRS', 'Studymedicationpharm_Otherdescri', 'OtherDiastolic17_1', 'UrineKetonesResult', 'SevereHypoglycemiaPastYear', 'InsBp_Q4_CD45RAn_CCR7n', 'MusculoskeletalAbnormal', 'SampleNotCollected_WholeBloodDNA', 'OtherSystolic2_1', 'ExperienceFollowingProblems', 'FormCompletionYear', 'OtherHour8_1', '_2cTN10Exclusion_18Chronicuseofs', 'AEReportDtDay', 'aereportdt', 'MaskID', 'ParticipantDateDispensedDay1_1', 'IVGTTSampleCollected', 'Influenza_percent_CCR4p', 'DateOfBloodDrawDay', 'StudyVisitProcedures_VitalSignsn', 'DateSignedNEWInformedConsentFo3', 'SerumKetonesRefRangeLow', 'E1aDateOfOnsetDD', 'PerniciousAnemiaYesNo', 'D5OtherTestResultDD11_1', '_10HrsAftStartTimeHour', 'D1FastingPlasmaGlucMM1_1', 'B7PPI413_Q1CD45RAnCCR7p', 'PlasmaGlucoseMonth', 'D4HbA1cResult4_1', '_9HrsAftStartTimeHour', 'B7_PPI8_16_Freq', '_7Selectallthatapply_Diarrhea', 'f3availableWeightMM', 'Hastheparticipantusedantibioti', 'Weightkg', 'A3CMVEBV_CD95p', 'A3PPI7988_CD45RAnCXCR3p_1', 'PolyphagiaMonth', 'IsThereChangeInStudyStatus', 'AgeOfRelativeWithT1D8_1', 'AnyOtherMedicationsDosage3_1', 'AnyOtherMedicationsSpecify2_1', 'EventFatigueMalaiseGrade', '_3HrsAftStartTimeTemp', 'TN01ParticipantStatusSectionB', 'Requiredstudyvisitpr_Otherdescri', 'A1FluCMVB7CMV_Q4CD45RAnCCR7n', 'A3PPI_7988_Count', 'FirstHearAboutTrialN_Internet', 'BicarbonateRefRangeLow', 'AgeOfRelativeWithT1D3_1', 'PotassiumDepletingDiurectics', 'Hastheparticipantbeentestedfor', 'B8PPI210_CD45RAnCXCR3p', 'LowestGlucosemgdl', 'OtherMin1_1', 'Date_of_Registration', 'PreInfusionTemperature', 'Rbcresults', 'BirthYear', 'AnyOtherMedicationsDosage1_1', 'D3RandomPlasmaGlucDD5_1', 'DateParticipantwascontacted1_3', 'B8PPI210Q4_CD45RAnCCR7n', 'ECL_GADA', 'OtherRespRate15_1', 'HbA1cSamplesCollected', 'AgeOfOnsetInRelativeWithT1D2_1', 'Height', 'OtherDiastolic15_1', 'EpilepsyConvulsionsSeizuresWit', 'SiteEvaluationAllergicReaction', 'AgeOfOnsetInRelativeWithT1D9_1', 'OtherHour11_1', 'HepatitisOrLiverDiseaseWithinL', 'AgeOfRelativeWithT1D6_1', 'IGRPp_IAPPp_Freq', 'TotalOfHomeBloodGlucoseOver3Da', 'OtherTemp2_1', 'A1FluCMVB8EBVCMV_CD95p', 'OtherSystolic14_1', 'SiteEvaluationBonePainDuration', 'A1FluCMVB8EBV_CMVQ3CD45RApCCR7n', 'LastHbA1cDay', 'AcetaminophenGivenDoseTimeM4_1', 'ConcernsAboutReceivingPlaceboR', 'WhyAccessingParticipantRecord', 'OtherHour17_1', 'A1Ins3240_Q4CD45RAnCCR7n', 'PatientInitialDiagno_Routinescre', 'A1FluCMVB8EBV_CMVQ1CD45RAnCCR7p', 'ICANotDone', 'ADHOther2_1', 'IsFemaleWithReproductivePotent', 'AntibodySampleCollected', 'DoLMCDay', 'Hastheparticipanthadchillsasso', '_22Jul2009ConsentSignedDay', 'GlucoseValueNotDone', 'OtherAutoimmuneDiseasesEver', 'MCHResultAbormalClinicallySign', 'RecentHbA1cDiagnosis', 'Race_Unknownornotreported', 'SiteEvaluationSwelling', 'SiteEvaluationHeadacheDuration', 'StudyDrugStartDateDay2_1', 'D4HbA1cResult1_1', 'AECategory', 'AnyOtherMedicationsDosageHo3_1', 'SHORT_DESCRIPTION', 'SubjecthistoryTriggeredChangeo', '_8HrsAftStartTimeHours', 'OtherHour1_1', 'A3PPI3846_Q4CD45RAnCCR7n', 'AutoimmuneHypothyroidismHashim4', 'Result9_1', 'HaveHadComplications_Kidneys', 'CapsulesDispensed', 'CPeptideLevelsMeasured', 'A1FluCMV_B7CMV_Freq', 'AddisonsDiseaseDateofDiagnosis', 'OtherMin9_1', 'pHMonth', 'Units5_1', 'OtherHour4_1', 'IgA_IAA', 'SampleOutsideWindow_CBCwdifferen', 'AnionGapMonth', 'Eventabateafterstoppingdrug', 'Fatigue', 'OtherTemp12_1', 'DateConsentSignedMonth', 'RelativeComments9_1', 'InsBp_CD45RAn_CXCR3p', 'Corticosteroids', 'Samplescollectedouts_Mechanistic', 'EvidenceOfTuberculosisInfectio', 'CeliacDiseaseWithinLast6Months', 'AnionGapDay', 'A3PPI7988_Q2CD45RApCCR7p', '_9HrsAftStartTimeHeartRate', 'VitiligoDateofDiagnosisDay', 'ThyroidDiseaseWithinLast6Months', 'DiphenhydramineDoseGivenDos5_1', 'CurrentAgeofRelative1_1', 'D5OtherTestResultYYYY8_1', 'ParticipantUsedImmunosuppresiv', 'GCSFdose', 'ParticipantDateDispensedMon4_1', 'DateReportedYear', 'SiteEvaluationRedness', 'D1FastingPlasmaGlucUnits3_1', 'f2availableWeightYYYY', 'E1eUnexplainedWeightLoss', 'A24PPI614_CD45RAnCXCR3p_1', 'OtherRespRate13_1', 'OtherHeartRate14_1', 'FluVaccinationDateDay', 'AgeOfRelativeWithT1D7_1', '_12HrsAftStartTimemin', 'HypoparathyroidismDateofDiagno3', 'Rbcnotdone', 'StudyDrugStopDateYear2_1', 'AnthopometricsHeightNotDone', 'AsthmaWithinLastYear', 'MedicationPackNumber3_1', 'MCHNotDone', 'SampleCollectedIncor_Urinalysis', 'D1FastingPlasmaGlucYYYY1_1', 'E1cDateofOnsetYYYY', 'HospitalizedAtDiagnosisTime', '_4HrsAftStartTimeRespRate', 'Requiredsamplesnotco_PBMC', 'CurrentWeightText', 'D5OtherTestResultYYYY9_1', 'HaveHadComplications_Nerves', 'D1FastingPlasmaGlucDD1_1', 'AnyOtherMedicationsSpecify7_1', 'A1FluCMV_CD45RAnCXCR3p', 'UrineKetonesRefRangeHigh', 'ModerateHypoglycemiaPastSixMon', 'ParticipantDateDispensedDay2_1', 'Spring2019ConsentDateDay', 'PlanPregnantWithinNextYear', 'STHavetherebeenanychangesincon', 'AcetaminophenGivenDoseTimeH5_1', 'ReasonsNotInterested_Doesnotwant', 'SexOfRelativeWithT1D9_1', 'Influenza_percent_RAp', 'StudyDrugReturnedYear', 'HEENT', 'HigherReferenceRange7_1', 'SexofRelative2_1', 'IfSpecimensNotCollec_Other', 'WithdrewConsentWhy', 'DiphenhydramineDosageTimeHo5_1', 'Polydipsiayear', 'SampleLost_MechanisticSerum', 'OtherMin13_1', 'TimeCommitmentRank', 'D5OtherTestResultResult21_1', 'MCVResultAbormalClinicallySign', 'WeightKg', 'A3_CMV_EBV_Count', 'SubjectUsingCGMS', 'B7PPI816_CD95p', 'Studymedicationpharm_Studydrugw1', 'HeartRateNotDone', 'Subject18', 'ATGdose', 'SampleNotCollected_Urinalysis', 'SamplesCollectionYear', 'CeliacDisease', 'Genitalia', 'HospitalizationsForHighGlucose', 'LymphocytesResultsNormal', 'SeatedRespiratoryRate', 'HigherReferenceRange4_1', 'StudyDrugDose', 'D5OtherTestResultMM4_1', 'HypoparathyroidismDateofDiagno2', 'B7PPI413_PPI816_Freq', 'A1FluCMVB7CMV_CD95p', 'AddtlVisitNotes', 'Influenza_percent_RAn_CD38p', 'MedicationPackNumber4_1', 'Hastheparticipantusedantibioti2', 'RequiredSpecimensCollected', 'B7PPI413_CD95p', 'immunomodulatory', 'Units4_1', 'MultipleSclerosis', 'GlucoseYear9_1', 'AETerm', 'Units8_1', '_6HrsAftStartTimeDiastolic', 'Sampleslost_RNA', 'DatethebloodsamplewasdrawnMont', 'AEFollowupDateYear', 'TemperatureDegreeNotDone', 'B7PPI413PPI816_Q1CD45RACCR7p', 'A24_PPI_614_Count', 'E1bPolyuria', 'DiagnosisMonth', 'IGRPp_IAPPp_Q4_CD45RAn_CCR7n', 'Whatwastheduration4', 'Glucose', 'DiphenhydramineDoseGivenDos4_1', 'Sampleslost_OGTT', 'D2b2HourGlucResult1_1', 'D6OtherTestResultUnit21_1', 'AEFollowupDateMonth', 'OtherAutoimmuneDiseasesWithinL', 'D5OtherTestResultDD9_1', 'AgeRelativeWithT1DStartedIn3_1', 'D6OtherTestResultUnit6_1', 'OtherRespRate6_1', 'OtherHour3_1', 'Participantisnoteligible', 'VitiligoWithinLastYear', 'RelativeComments3_1', 'AcetaminophenGivenToPartici2_1', 'ADHAddisonsDiseaseDateofDiagno', 'LowerReferenceRange2_1', 'AnyOtherMedicationsDosage4_1', 'D3RandomPlasmaGlucYYYY1_1', '_10HrsAftStartTimeSystolic', 'D5OtherTestResultDD5_1', 'RecordDoseOfDrugInfused', 'ParticipantDateDispensedDay5_1', 'A3CMVEBV_Q1CD45RAnCCR7p', 'OtherDiastolic7_1', 'OGTTAmountConsumed', 'BloodCellCountAbnormalitiesWha', '_11HrsAftStartTimeMissedVital', 'Doestheparticipanthavereproduc', 'A3PPI3846_CD95p', 'Weight', 'RelativeWithT1D11_1', 'IsWeightSelfReported', 'HBsAb', 'DateofAssessmentYYYY', 'A3PPI3846_Q3CD45RApCCR7n_1', 'TimeOfCollectionHH', 'ParticipantCompletedEntireStud', 'DateRecordedDD3', 'TimeDoseGivenMin', '_8HrsAftStartTimeTemp', 'InfusionStartTimeMin', 'B7PPI413PPI816_Q2CD45RApCCR7p', 'OtherProblemsDescribe', 'SampleNotCollected_4hourMMTT', 'DateStatusChangeMonth', 'OtherDiastolic12_1', 'D5OtherTestResultDD16_1', 'RelativeWithT1D8_1', 'D6OtherTestResultUnit1_1', 'ParticipantSymptomsT_Weightloss', 'Date_Shipped', 'InterferonGammaReleaseAssayIGR2', 'DoDeliveryMonth', 'ADHAlopeciaDateofDiagnosisDay', 'ComplicatedMedicalCOPD', 'AnyOtherMedicationsDosageMi4_1', 'HeartAbnormal', 'testName12_1', '_2aIfyes', 'H4DKA', 'A3CMVEBVB7CMV_Q1CD45RAnCCR7p', 'CommunicationWhenNegAutoantibo', 'ConMedsRoute', 'OtherinPhysicalExam1_1', 'D5MeterReadingDD3_1', 'OtherFindings', 'D5OtherTestResultDD17_1', 'Polyphagia', 'CapsulesReturned', 'Requiredsamplescolle_OGTTstarted', 'ProtocolChanges', 'OtherTemp9_1', 'CurrentPhase', 'Wasaphysicalexamperformedatthi', 'CurrentAgeofRelative2_1', 'MCHresultsNormal', '_30MinAfteStartTimeDiastolic', 'RememberDateOfMostRecentHbA1c', 'ADHAddisonsDiseaseDateofDiagno3', '_12HrsAftStartTimeRespRate', 'OtherHour7_1', 'Units9_1', 'StudyDrugStopDateMonth1_1', 'Medication', 'AnyOtherMedicationsSpecify5_1', 'AutoimmuneHypothyroidismHashim3', 'D5OtherTestResultDD8_1', 'SubjectRandomizedInelgibilityA', 'ReasonsNotInterested_Concernsabo', 'Howlongwasthedurationofthepart2', 'PregnantNursingOrPlanningChild', 'ConMedsIntervalOtherDetails', 'HeadcahePresent', 'ADHAddisonsDiseaseDateofDiagno2', 'Flu_EBV_CMVp_CD45RAn_CXCR3p', 'ParticipantWasContactedByOther', 'ZnT8AResult', 'BirthControlAbstinenceAcceptab', 'ParticipantAgreeToContinue', 'OtherDiastolic1_1', 'PPIp_CD8_Q2_CD45RAp_CCR7p', 'LowerReferenceRange3_1', 'OtherInfections', 'BreastFemaleTannerStage', 'AsthmaWithinLast6Months', 'Flu_EBV_CMVp_Q2_CD45RAp_CCR7p', 'MethylprednisoneGivenDoseTi3_2', 'B7PPI413PPI816_Q4CD45RAnCCR7n', 'hyperglycemia', '_10HrsAftStartTimeHeartRate2', 'MCVresults', 'Heightin', 'Date_of_Draw', 'AEReviewTreatmentUnblindedForC', '_8HrsAftStartTimeDiastolic', 'DoWMonth', 'CD8_VIA_Count', 'Date_at_Test_Results_Reported', 'SampleOutsideWindow_2hourMMTT', 'ParticipantSymptomsT_Blurredvisi', 'ADHHypogonadismorPrematureMeno3', 'A24CMVEBV_CD45RAnCXCR3p', 'OtherRespRate5_1', 'PerniciousAnemiaDateofDiagnosi2', 'MethylprednisoneGivenDose2_1', 'OtherSpecifyOneMonth', 'SubjectIsEligible', 'GlucoseType6_1', 'SampleCollectedIncor_CBCwdiffere', 'DoWYear', 'RelativeComments13_1', 'Samplescollectedando_HbA1c', 'EligibilityCommitteeReview', 'PotassiumDepletingDiurecticsSp', 'OtherDiastolic13_1', 'BllodForDNAComment', 'Followupstatuscode', 'GlucoseYear6_1', 'D5OtherTestResultDD23_1', 'BPDiatolic', 'SerumMechanisticSerumComment', 'AutoimmuneThyroidDiseaseDateof', 'PerniciousAnemiaDateofDiagnosi3', 'D6OtherTestResultUnit5_1', 'OtherHeartRate12_1', 'D5OtherTestResultYYYY15_1', 'MethodofContact', 'A3CMVEBV_B7CMVCD95p', 'AnyOtherMedicationsDosageMi1_1', 'LotNumber2_1', 'IsHeightMeasured', 'Requiredstudyvisitpr_Studydrugco', 'B8PPI210Q3_CD45RApCCR7n', 'WhatwasthemaximumtemperatureTe', 'AddInfoRequestDetails', 'HighBPwithinLast6Months', 'OtherHeartRate16_1', 'Alopecia', 'plateID', 'testName14_1', 'D3RandomPlasmaGlucResult3_1', 'willingToConsiderAtALaterTime', 'ConflictingResponsibilitiesRan', 'MethylprednisoneGivenDoseTi3_1', 'beta_cell_percent_CCR4p', '_9HrsAftStartTimeSystolic', 'StudyVisitProcedures_Studydrugno', 'NeckThyroidAbnormal', 'A3PPI7988_CD45RAnCXCR3p', 'PlasmaComment', 'AnyNewChronicDisease_Neurologica', 'NoSampleErrorNoFollo_WholeBloodC', 'IGRPp_IAPPp_CD95p', 'Test_Name', '_7Selectallthatapply_Headaches', 'OtherDiastolic4_1', 'Whendidthefatigueoccur', 'StorageOfResidualsDuringTrialN', 'Diphenylhydantoin', 'Units2_1', 'testName8_1', 'mIAAIAAPositivityThresholdText', 'GraveHyperthyroidismYesNo', 'Wastheparticipanthospitalizedd', 'Samplescollectedouts_OGTT', 'DateReportedMonth', 'DischargeYear', 'OtherDiseaseSpecify1_1', 'D5MeterReadingMM6_1', 'Eczema', 'CD4CD8NotDone', 'Samplescollectedando_PBMC', 'AgeOfOnsetInRelativeWithT1D3_1', 'PulsesAbnormal', '_11HrsAftStartTimeTemp', 'RequiredSampleVisitN_Other', 'MeasuredBy5_1', '_6HrsAftStartTimeRespRate', 'OtherTemp4_1', 'CD4CD8ResultInRange', 'RandomFingerstickGlu', 'LastHbA1cYear', 'EventHypertensionGrade', 'EvidenceOfHIVHepatitisBOrCInfe', 'DegreeOfRelative_2ndor3rd', 'OtherTemp15_1', 'A3PPI3846_Q4CD45RAnCCR7n_1', 'selecttestkittype', 'ZnT8APositivityThresholdTextVa', 'AutoimmuneThyroidDiseaseDateof2', 'SexOfRelativeWithT1D2_1', 'Metformin', 'RelativewithType1Diabetes2_1', 'Whatwastheseverity', 'MethylprednisoneGivenDoseTi2_2', 'ADHOtherDateofDiagnosisDay2_1', 'participantdiagnosedT1D', 'ADHHypoparathyroidismDateofDia3', 'D6OtherTestResultUnit13_1', 'SeatedArmBloodPressureSystolic', 'LONG_DESCRIPTION', 'ADHAutoimmuneThyroidDiseaseDat2', 'D5OtherTestResultMM3_1', 'ProtocolDeviation', '_22Jul2009ConsentSignedMonth', 'Sampleslost_HbA1c', 'OtherMin15_1', 'ScreeningMonth', 'PulsesFindings', 'OtherMin16_1', 'NewAutoimmuneDiseaseWhatKind', 'D5MeterReadingUnit4_1', 'FirstHearAboutTrialN_NewspaperMa', 'SexOfRelativeWithT1D10_1', 'ICAPositivityThresholdTextValu', 'IA2AUnitsOtherText', '_12HrsAftStartTimeHeartRate', 'B8PPI210_CD95p', 'GlucoseYear4_1', 'D5MeterReadingLoc4_1', 'testName18_1', 'OtherRespRate16_1', 'SexOfRelativeWithT1D6_1', 'MethylprednisoneGivenDoseTi1_1', 'DizyLightHeadedPresent', 'AlopeciaYesNo', 'Flu_EBV_CMVp_Count', 'LowerReferenceRange9_1', 'AnthopometricsHeightCM', 'AnyOtherMedicationsDosageMi5_1', 'D5OtherTestResultDD1_1', 'FirstHearAboutTrialN_Tollfreepho', 'mIAAIAAUnits', 'AbdomenFindings', 'D5MeterReadingLoc7_1', 'LowerReferenceRange6_1', 'StudyDrugStopDateDay2_1', 'testName4_1', 'LostToFollowUp', 'ProblemsConceivingAChild', 'AverageUnitsOfItermediateInsul', 'InfusionStartTimeSystolic', '_2cTN10Exclusion_25Anyconditiont', 'Visit_Dt', 'PerniciousAnemiaWithinLastYear', 'B7PPI413PPI816_Q3CD45RApCCR7n', 'ParticipantWasCo_ClinicalCen1_2', 'DateTestsRunYear', 'DateTestsRunDay', 'AgeOfOnsetInRelativeWithT1D4_1', 'D6OtherTestResultUnit14_1', 'A1FluCMVA3EBVCMV_Q4CD45RAnCCR7n', 'RheumatologicDiagnosisYear', 'PsoriasisWithinLast6Months', 'f3availableWeightWeight', 'ReasonsNotInterested_Refusednore', 'AnyNewChronicDisease_Other', 'AssessDateMonth', 'PregnancyCompletionDay', 'D2aOGTTFastingGlucMM1_1', 'testName23_1', 'A3CMVEBV_Q2CD45RApCCR7p', 'MonitoringSchedulingChangeSemi', 'ReasonsNotInterested_Conflicting', 'TreatmentAssignDate', 'IA2AResult', 'MHInflammatoryBowelDiseaseMont', 'ReasonsNotInterested_Familywishe', 'AEAssociations_Death', 'A3CMVEBVB7CMV_Q2CD45RApCCR7p', 'ReasonsNotInterested_Other', 'HematocritResults', 'Insulin_percent_RAn_CD38p', 'HeartRateBPM', 'OtherSystolic6_1', 'AgeRelativeWithT1DStartedIn10_1', 'GlucoseYear8_1', 'D5OtherTestResultResult15_1', 'PercentDailyInsulinDoseBolus', '_90MinAfteStartTimeRespRate', 'Number_Other_beta_cell_specific', '_3HoursSystolic', 'CurrentHeightSelection', 'OtherSpecifyOne', 'Requiredsamplescolle_OGTTperform', 'OtherHeartRate6_1', 'D6OtherTestResultUnit3_1', 'E1cDateofOnsetDD', 'CeliacDiseaseEver', 'LowerReferenceRange7_1', 'D3RandomPlasmaGlucYYYY3_1', 'UnexplainedWeightLoss', 'SeatedArmBloodPressureDiastoli', 'CD45p_Count', 'Visit', 'D5MeterReadingResult2_1', 'TN22ExclusionCriteri_Serologicev', 'ReasonStudyDrugStoppedOther', 'Hastheparticipanthadanypersist', 'Istheparticipantcurrentlytakin', 'WBCresultsNormal', 'E1cDateofOnsetMM', 'SexOfRelativeWithT1D13_1', 'AllergiesWithinLastYear', 'IVinfiltrationPresent', 'A1_Ins_32_40_Freq', 'ADHVitiligoDateofDiagnosisDay', 'MechanisticSampleCollectionDay', 'DiagnosisByOthersSpecify', 'HaveYouExperiencedNewSevereAll', 'StudyDrugDispensedMonth', 'InsulinTreatmentStartedDay', 'ConMedsFrequencyChoices', 'ParticipantSymptomsT_Frequentinf', '_3HrsAftStartTimeDiastolic', 'ReasonsNotInterested_Participant', 'OtherDiastolic5_1', 'SignedConsentFor2017Protocol', 'SexOfRelativeWithT1D4_1', 'A1Ins3240_CD45RAnCXCR3p', 'GenitailiaMaleTannerStage', 'WhatwasthedurationUnknownorNot', 'ReviewDate', 'D5OtherTestResultDD3_1', 'OtherDiastolic14_1', 'Virus_Count', 'CurrentlyUseBirthControl', 'OtherDiastolic6_1', 'D1FastingPlasmaGlucUnits2_1', 'OtherTemp14_1', 'UnableUnwillingToTravelRank', 'D5OtherTestResultResult10_1', 'AutoimmuneHypothyroidismHashim2', 'SiteEvaluationHeadacheTimePost', 'DateProtocolDeviationMonth', 'EBVPCRNegative', 'ParticipantWasContac_AffiliateS1', 'DoLMCYear', 'ECL_IAA', 'Hastheparticipantbeentoahealth', 'LymphocytesNotDone', 'ParticipantDiagnosedWithT1D', 'ADHHypoparathyroidism', 'BetaBlockersSpecify', 'SampleOutsideWindow_WholeBloodPB', 'DiphenhydramineDosageTimeHo2_1', 'D5MeterReadingResult4_1', 'CD8AResultUnit', 'PreInfusionSystolic', 'Eventreappearafterreintroducti', 'CD8ANotDone', '_12HrsAftStartTimeDiastolic', 'Requiredsamplescolle_Totalamount', 'FamilyWishesToWaitUntilOlderRa', 'A1Ins3240Q3_CD45RApCCR7n', 'ConsentSignedYear', 'D5OtherTestResultDD4_1', 'OtherMin10_1', 'AlopeciaDateofDiagnosisDay', 'ChangeInDrugStatusEffectiveday', 'E1dDateOfOnsetDD', 'SignsOfHypoglycemia', 'RelativeWithT1D1_1', 'PlateletCountResultsNormal2', 'MonocytesResultAbormalClinical', 'ParticipantWasCo_Other1_1', 'IAA_affinity', 'ParticipantHasKnownSevereActiv', 'D5OtherTestResultMM16_1', 'WBCNotDone', 'OtherRespRate1_1', 'InterferonGammaReleaseAssayIGR', 'GCSFANCFromPreviousCBCResult', 'MeasuredBy4_1', 'AvgUnitsShortActingInsulin', 'Insulin_percent_RAp', '_22Jul2009ScreeningInformedCon', 'MMTTCollected', 'SampleNotCollected_ChemistryPane', 'NeutrophilsResultAbormalClinic', 'SiteEvaluationHeadache', 'PPI_CD8_CD95p', 'OGTTTimeToConsumeGlucola', 'CorrectiveActionTaken', 'SelectTheTrialNetStudyInWhichT', 'GravesDisease', 'Race_Asian', 'RelativeWithT1D13_1', 'F2ClinicalDiagnosisDateYYYY', 'AnyOtherMedicationsSpecify6_1', 'A3PPI7988_CD95p', 'f2availableWeightWeight', 'OtherSystolic11_1', '_3HrsAftStartTimeMin', 'OtherSystolic17_1', 'FormCompletionMonth', 'E1dPolyphagia', 'Type1DiabetesDiagnosisMonth', 'A1FluCMV_B7CMV_Count', 'AcetaminophenGivenDoseTimeH3_1', 'RelativeComments1_1', 'D5OtherTestResultMM12_1', 'mIAAIAAResult', 'ChangeInDrugStatusEffectiveyea', 'D5MeterReadingDD7_1', 'A24CMVEBV_Q3CD45RApCCR7n', 'VitiligoYesNo', 'GlucoseDay5_1', 'RelativeComments14_1', 'LupusDateofDiagnosisYear', 'BasophilsResultAbormalClinical', 'f2availableWeightDD', 'Fall2017ConsentDateMonth', '_7HrsAftStartTimeTemperature', 'InsulinDoseLast24Hrs', 'StudyDrugDispensed', 'Result4_1', 'AutoimmuneThyroidDiseaseDateof3', 'D2aOGTTFastingGlucDD2_1', '_120MinAfteStartTimeHeartRate', 'AnyOtherMedicationsDosage6_1', 'Result5_1', 'OtherSpecifyOneDay', 'Result8_1', 'D2b2HourGlucYYYY3_1', 'DateOfBloodDrawYear', 'HaveHadComplications_Eyes', 'Result2_1', '_5HrsAftStartTimeHours', 'GlucoseType5_1', 'D5OtherTestResultDD19_1', 'EverPositiveForDiabetesAntibod', 'Onediabetesautoantibodies', 'TN01ControlSubjectAnnualorSemi', 'HbA1chigherrReferenceRange', 'DateCompletionMM', 'Type1DiabetesDiagnosisDay', 'HighCholesterolWithinLast6Months', 'OtherChronicDiseases', 'AEAssociations_OtherSeriousImpor', 'AgeofT1DOnsetinRelative1_1', 'A3PPI7988_Q2CD45RApCCR7p_1', '_2cTN18Exclusion_13Haveahistoryo', 'DiphenhydramineDosageTimeHo1_1', 'Samplescollectedando_Autoantibod', 'HeentFindings', 'BloodCellCountAbnormalities', 'HighestGlucosemmol', 'AcetaminophenGivenDoseTimeM1_1', 'CD8PResultInRange', 'StudyDrugReturnedMonth', 'GlucoseMonth9_1', 'RefusedPregnancyTestAtVisit', 'B7PPI413_PP816_Count', 'EventInfiltrationGrade', 'IgG3', 'BloodSamplesFutureTestingPermi', 'G1', 'DiphenhydramineDosageTimeMi4_1', 'Result', 'UrinePregnancyTest', 'ParticipantUsingImmunosuppresi', 'IgG1', 'GenitaliaAbnormal', 'D5MeterReadingMM2_1', 'D5OtherTestResultDD14_1', 'StudyDrugDispensedDay', 'UnexplainedWeightLossYear', 'D5OtherTestResultMM19_1', 'SiteEvaluationSwellingTimePost', '_60MinAfteStartTimeDiastolic', 'SubjectHasSignedWrittenInforme', 'InfusionStartTimeTemperature', 'RheumatologicEver', 'D4HbA1cDD2_1', 'OtherSystolic1_1', 'PlasmaGlucoseUnits', 'SiteEvaluationRednessDuration', 'DateRecordedDD1', '_12HrsAftStartTimeSystolic', 'Number_Insulin_specific_cells', 'StudyDrugStartDateDay1_1', 'AgeRelativeStartedInsulin3_1', 'ADHRheumatologicDisease', 'HbA1cLowerReferenceRange', 'D4HbA1cYYYY3_1', 'TN16ProtocolDeviation', 'OtherSpecifyOneYear', 'AnyNewChronicDisease_Autoimmuned', 'AETermOther', 'Requiredsamplesnotco_Autoantibod', '_8HrsAftStartTimeMin', 'PlateletCountResultsNormal', 'DPT1ParticipantIDNumber', 'GlucoseMonth6_1', 'Freq_Insulin_specific_cells', 'AnyOtherMedicationsDosageMi6_1', 'mIAA', 'DatebloodsamplewasdrawnDay', 'Whendidthedifficultlybreathing', 'AEAssociations_Developmentofaper', 'WasTheParticipantNotified', 'Current_Site_Number', 'TN22ExclusionCriteri_Historyofre', 'MechanisticSampleCollectionMon', 'BicarbonateUnits', 'AgeRelativeWithT1DStartedIn6_1', 'A3_PPI_79_88_Count', 'DailyInsulinDosePump', 'DateRecordedYYYY2', 'GlucoseValue', '_10HrsAftStartTimeHeartRate', 'D6OtherTestResultUnit20_1', 'GenitaliaFindings', 'RecommendConsentChange', 'ZnT8AUnitsOtherText', 'Flu_EBV_CMVp_CD95p', 'AreYouUsingInjections', 'D5OtherTestResultYYYY5_1', 'B7PPI816_CD45RAnCXCR3p', 'D2b2HourGlucResult2_1', 'DatebloodsamplewasdrawnYear', 'AddisonsDiseaseWithinLast6Months', 'AtLeast1DiabetesAutoantibodyPr', 'SexOfRelativeWithT1D11_1', '_22Jul2009Phase2StorageConsent', 'ThyroidDiseaseEver', 'OtherRespRate7_1', '_4Whatwastheduration', 'HematocritNotDone', 'OtherSystolic15_1', 'A3PPI3846_Q3CD45RApCCR7n', 'ReasonForWithdrawalOTHER', 'AnionGapUnits', 'OtherTemp13_1', 'StudyDrugStopDateMonth2_1', 'OtherSystolic12_1', 'ReasonsNotInterested_2weekInfusi', 'GAD_IGRP_IAPP_Freq_Parent', 'UseImmunosuppressiveAgents', 'GravesDiseaseDateofDiagnosisMo', 'GADAUnitsOtherText', 'D2b2HourGlucDD1_1', 'SampleOutsideWindow_WholeBloodEB', 'D5MeterReadingUnit1_1', 'participantnoteligib_4Doesthepar', 'D2b2HourGlucMM3_1', 'MultipleSclerosisWithinLast6Mo', 'E1cPolydipsia', '_15Aug2011VisitType', 'ADHCeliacDiseaseDateofDiagnosi', 'ADHGravesDiseaseDateofDiagnosi2', 'D5MeterReadingLoc6_1', 'DiabeticKetoacidosisTimeOfDiag', 'A3PPI7988_Q1CD45RAnCCR7p', 'D5OtherTestResultResult12_1', 'FinalContactAttempt1_1', 'AnyOtherMedicationsSpecify3_1', 'SampleCollectedIncor_WholeBloodP', 'ParticipantWasCo_AffiliateSi1_2', 'StudyDrugStopDateYear1_1', 'Ethnicity', 'AddInfoRequested', 'FormCompletionDay', 'ParticipantWillingToBeContacte', 'AEPrimarySecondary', 'pHUnits', 'PhysicalExamFirstVisitYesNo', 'E1bDateOfOnsetMM', 'F2ClinicalDiagnosisDateMM', 'GADAInterpretation', 'AddisonsDiseaseDateofDiagnosis2', 'CeliacDiseaseWithinLastYear', 'IfYesOutcomeofCOVID19Test', 'HaveYouHadEpisodesOfDKASinceLa', 'AcetaminophenGivenDoseTimeH2_1', 'ParticipantDateDispensedYea1_1', 'A3PPI7988_Q1CD45RAnCCR7p_1', 'NeutrophilsNotDone', 'LymphaticsFindings', 'Urobilinogen', 'ADHPerniciousAnemiaDateofDiagn2', 'D5OtherTestResultYYYY21_1', 'HaveDiabetes', 'BloodPressureNotDone', 'CeliacDiseaseDateofDiagnosisDa', 'AnyOtherMedicationsDosageHo6_1', '_3aIfyes', 'D3RandomPlasmaGlucUnits2_1', 'ColitisOrColonProblemsWithinLa', 'ExtentOfLowBloodSugarsBySympto', 'D5OtherTestResultResult5_1', 'SerumMechanisticSerumSampleCol', 'NumberOfUResponses', 'BirthMonth', 'ReasonsNotInterested_Pregnantnur', 'AgeOfOnsetInRelativeWithT1D7_1', 'AEOccurDtDay', 'WrittenInformedConsentDay', 'WholeBloodPBMCPlasmaComment', 'BllodForDNASampleCollected', 'A1_Ins_32_40', 'OnlineScreeningReferralSource', 'MeasuredBy7_1', 'ConsenToContinuedStorageOfBloo', 'ExperienceOtherProblems', 'MonetaryCompensationRank', 'CeliacDiseaseDateofDiagnosisMo', 'YESSpecify', 'HaveHadComplicationsFromYourDi', 'D5OtherTestResultDD2_1', '_2cTN18Exclusion_7Useofmedicatio', 'RequiredSampleVisitN_MMTTTimepoi', 'D5OtherTestResultMM6_1', 'Musculoskeletal', 'Platelet50000', '_3HrsAftStartTimeHour', 'MonitoringSchedulingChangeEffe2', 'Whatwastheseverity2', 'pHReferenceRangeHigh', 'Samplescollectediner_HbA1c', 'ParticipantExpectedToContinue', 'AcetaminophenGivenToPartici5_1', 'ADHPsoriasis', 'Requiredsamplesnotco_HbA1c', 'CD8_TCell_Count', 'Thiazolidinediones', 'OtherinPhysicalExamAbnormal1_1', 'Samplescollectedouts_Autoantibod', 'OtherHeartRate7_1', 'PolyuriaMonth', 'D2b2HourGlucResult3_1', 'MedicationPackNumber5_1', 'DateOfBirthMonth', '_2cTN18Exclusion_1aAbnormalGluc2', 'BloodTestForFindOut', 'LowerReferenceRange1_1', 'OtherMin3_1', 'AlopeciaDateofDiagnosisYear', 'MultipleSclerosisDateofDiagnos', 'PsoriasisYesNo', 'A3PPI_7988_Freq', 'ADHMultipleSclerosis', 'GravesDiseaseDateofDiagnosisDa', 'MonitoringSchedulingChangeEffe', 'LotNumber3_1', 'AgeOfRelativeWithT1D10_1', 'ParticipantDateDispensedDay4_1', 'ECiIstheparticipantdeemedunlik', 'InsB_PPI_Freq_Parent', 'ZnT8AUnits', 'CurrentWeightSelection', 'D5OtherTestResultYYYY3_1', 'CurrentHeightText', 'Virus_Freq_Parent', 'InsBp_Count', 'MeasuredBy10_1', '_4HrsAftStartTimeMissedHour', 'HigherReferenceRange9_1', 'DiphenhydramineDosageTimeMi1_1', 'NeckThyroid', 'ADHRheumatologicDiseaseDateofD', 'RequiredSampleVisitN_MMTTperform', 'D5MeterReadingYYYY7_1', 'SerumKetonesUnits', 'OtherRank', 'PreInfusionHeartRate', 'PerniciousAnemiaDateofDiagnosi', 'testName21_1', 'RelativeComments2_1', 'FirstHearAboutTrialN_Poster', 'Requiredsamplesnotco_OGTT', 'Test_HLA', 'OtherSystolic4_1', 'InfusionRelatedEventAnaphylaxi', 'F2ClinicalDiagnosisDateDD', 'UnusualCircumstancesDescribe', 'B7_PPI_4_13_Count', 'StartDateMonth', 'GlucoseYear7_1', 'CriteriaParticipantDiagnosewit', 'AEReviewPriorSimilarSAEs', '_4HrsAftStartTimeSystolic', 'AESelectTerm', 'InformedTestResultWithin', 'A3PPI3846_Q2CD45RApCCR7p', 'Units10_1', 'UlcerEver', 'ADHOtherDateofDiagnosisYear1_1', 'DatethebloodsamplewasdrawnDay', 'HowIsHeightObtained', 'MCHCresults', 'WBCresults', 'D5OtherTestResultYYYY17_1', 'GADAPositivityThresholdTextVal', 'ADHGravesDisease', 'Bilirubin', 'DateSignedInformedConsentFormM', 'FebrileIllness10Days', 'FirstHearAboutTrialN_ExistingTri', 'TN18Exclusion12bDoesthiscondit', 'D6OtherTestResultUnit12_1', '_30MinAfteStartTimeHeartRate', 'D5MeterReadingYYYY5_1', 'NumberOfRResponses', 'D5MeterReadingUnit7_1', 'testName17_1', 'SiteEvaluationRednessTimePostI', 'Result7_1', 'f1availableWeightYYYY', 'participantnoteligib_3Doesthepar', 'SampleNotCollected_InfectiousDis', 'D2aOGTTFastingGlucResult2_1', 'BPSystolic', 'DateStatusChangeYear', 'beta_cell_percent_RAn_CD38p', 'B7PPI413_Q2CD45RApCCR7p', 'HypogonadismorPrematureMenopau3', 'testName6_1', 'SamplesCollectionMonth', 'Race_AmericanIndianorAlaskaNat', 'DateRecordedMM1', 'AvgRecordedFastingGlucosesmgdl', 'AETreatLocation', 'OtherHeartRate1_1', 'RelativeComments12_1', 'PerniciousAnemia', 'STWastheparticipantcontactedat', 'Result10_1', 'D5MeterReadingYYYY1_1', 'HaveYouOrPartnerGottenPregnant', 'InformedConsentMonth', 'CD4PResultInRange', 'D5OtherTestResultResult19_1', 'MechanisticSampleCollectionYea', 'Other', 'OtherTemp11_1', 'AnyOtherMedicationsDosageHo5_1', 'Influenza_percent_CXCR3p', 'ParticipantSymptomsT_Frequenturi', 'OtherHeartRate3_1', 'StudyVisitProcedures_Other', 'FrequentotherinfectionsYes', 'SampleLost_ChemistryPanel', 'PlasmaGlucoseRefRangeHigh', 'RelativeWithT1D2_1', 'pHday', 'A24CMVEBV_Q2CD45RApCCR7p', 'bloodpressureSystolic', 'D5OtherTestResultYYYY22_1', 'NoSampleErrorNoFollo_Urinalysis', 'SiteEvaluationBonepainGrade', 'AddisonsDisease', 'HaveHadComplicationsFromYourDi3', 'Whatwasthemaximumtemperature', 'AnyOtherMedicationsDosageHo7_1', 'A3CMVEBV_Q4CD45RAnCCR7n', 'ADHOtherDateofDiagnosisMont1_1', 'EventFeverGrade', '_4HrsAftStartTimeHeartRate', 'AvgBloodGlucoseValue_BloodGlucos', '_5HrsAftStartTimeMin', 'D5MeterReadingUnit6_1', 'Samplescollectedando_RNA', 'testName1_1', 'A3PPI7988_Q3CD45RApCCR7n', 'TN16Exclusion_1Bedeemedunableoru', 'OtherAutoimmuneDiseasesSpecify', 'PsoriasisWithinLastYear', 'FirstHearAboutTrialN_Camp', 'ADHCeliacDiseaseDateofDiagnosi3', 'f1availableWeightWeight', 'UrineKetonesYear', 'ReasonsNotInterested_Unwillingto', 'ReasonsNotInterested_FearofStudy', 'LowerReferenceRange5_1', 'CancerWithinLast6Months', 'OtherHour14_1', 'IGRATestPositive', 'CancerWithinLastYear', 'IfSpecimensNotCollec_Unabletoobt', 'OtherMin17_1', 'TemperatureDegreeCelcius', '_10HrsAftStartTimeMin', 'SampleCollectedIncor_4hourMMTT', 'OtherRespRate17_1', 'ADHPsoriasisDateofDiagnosisMon', 'A3CMVEBVA24_CMVEBVQ1CD45RACCR7', 'A1FluCMV_CD95p', '_2cTN10Exclusion_11ApositivePPDt', 'HowDoYouTakeInsulin', 'AgeRelativeStartedInsulin1_1', 'VitiligoEver', '_120MinAfteStartTimeMissedVita', 'OtherDisease1_1', 'A3CMVEBVB7CMV_Q4CD45RAnCCR7n', 'AgeOfRelativeWithT1D5_1', 'B7PPI413_Q3CD45RApCCR7n', 'OtherRespRate11_1', 'AETreatLocationOther', 'SiteEvaluationItching', 'OtherSystolic3_1', 'BicarbonateYear', 'Race_White', 'Samplescollectedando_OGTT', 'D5OtherTestResultResult23_1', 'HeightCM', 'InsulinTreatmentStartedYear', 'HbA1cYear', 'DateOfBloodDrawMonth', 'D6OtherTestResultUnit11_1', 'Allergies', 'OtherHeartRate2_1', 'OtherMin4_1', 'CD4CD8Result', 'InsBp_Q2_CD45RAp_CCR7p', 'SexofRelative1_1', 'ParticipantHasOneRelativeWithT', 'E1dDateOfOnsetYYYY', 'OtherDiastolic10_1', 'InsulinTreatmentStartedMonth', 'D5OtherTestResultResult14_1', 'DateInsulinTreatmentStartedUnk', 'RheumatologicDiseaseDateofDiag', 'MethodofContactAttemptOther1_1', 'A3PPI7988_CD95p_1', 'D5MeterReadingResult5_1', 'ParticipantDateDispensedYea2_1', '_8HrsAftStartTimeMissedVital', 'GCSFWassplenomegalyindicatedon', 'StartDateDay', 'ADHLupus', '_2cTN10Exclusion_2If18yoDiabetes', 'D5MeterReadingLoc5_1', 'D3RandomPlasmaGlucResult5_1', 'SamplesCollectionDay', 'SexGenderPerson', 'D5MeterReadingMM4_1', 'D4HbA1cYYYY2_1', 'FatigueYear', 'Hypoparathyroidism', 'AcetaminophenGivenDoseTimeH4_1', 'GlucoseMonth10_1', 'HospitalizedSinceLastVisit', 'RheumatologicDisease', 'testName2_1', 'StopDateYear', 'ProtocolDeviationReasons', 'ADHOther1_1', 'ThyroidDiseaseWithinLastYear', 'A3CMVEBV_CD45RAnCXCR3p', 'D5MeterReadingDD2_1', 'WrittenInformedConsentYear', 'ScreeningSiteNumber', 'Hasthesubjectexperiencedpolydy', 'WhatwasthedurationUnknownorNot2', 'Hastheparticipanthadafever', 'mIAAIAAUnitsOtherText', 'A1FluCMV_Q3CD45RApCCR7n', 'D5OtherTestResultResult20_1', 'D2aFastingPlasmaGlucUnits3_1', 'RheumatologicWithinLast6Months', 'testName11_1', 'G4', 'TN22ExclusionCriteri_Deemedunlik', 'AcetaminophenGivenDoseTimeH6_1', 'ImmunosuppressiveTherapies', 'MCHCResultAbormalClinicallySig', '_2cTN20Exclusion_1DiagnosedwithD', 'BloodForCellsSampleCollected', 'A3PPI7988_Q3CD45RApCCR7n_1', 'HeightNotDone', 'SeatedArmBloodPressureNotDone', '_11HrsAftStartTimeRespRate', 'AcetaminophenGivenToPartici3_1', 'MMTTAmountConsumed', 'AgeRelativeWithT1DStartedIn4_1', 'Studymedicationpharmacyerror', 'IA_2H', 'AEPatientOutcome', 'RheumatologicDiseaseDateofDiag2', 'IfSpecimensNotCollec_Reachedmaxi', 'D5OtherTestResultDD18_1', 'UrinePregnancyTestPositive', 'HLAComment', 'TN10Exclusion25bDoesthiscondit', 'WastheparticipantplacedintheIC', 'AgeOfOnsetInRelativeWithT1D1_1', '_8HrsAftStartTimeHeartRate', 'GADAPositivityThreshold', 'LowBloodSugarToFeelSymptoms', 'Result6_1', 'AgeRelativeWithT1DStartedIn11_1', 'D5OtherTestResultMM15_1', 'ParticipateInDPT1', 'TotalLongActingInsulinDose', '_11HrsAftStartTimeHour', 'A3CMVEBV_A24CMVEBV_Freq', '_7HrsAftStartTimeDiastolic', 'LastHbA1cMonth', '_4HrsAftStartTimeMin', 'A1FluCMVB8EBV_CMVQ2CD45RApCCR7p', 'StudyDrugReturned', 'DSMBReview', 'CentralIRBOrlocalIRB', 'InitialScreeningLocationOtherS', 'AnyOtherMedicationsSpecify1_1', 'Description', '_8Hastheparticipantbeendiagnos', 'AEFollowUpDate', 'OtherMin12_1', 'DoesTheParticipantWishToContin', 'bloodpressureDiastolic', 'ParticipantWasContac_Other', 'D4HbA1cMM2_1', 'ADHInflammatoryBowelDiseaseDat3', 'DateresultsreportedbylabYear', '_5HrsAftStartTimeHeartRate', 'D5OtherTestResultYYYY23_1', 'ProtocolDeviationOtherSubcateg', '_5HrsAftStartTimeRespRate', 'LymphocytesResultsOR', 'GlucoseYear1_1', '_120MinAfteStartTimeDiastolic', 'OtherHeartRate17_1', 'Requiredstudyvisitpr_Vitalsignsn', 'D1FastingPlasmaGlucDD2_1', 'AcetaminophenGivenToPartici1_1', 'OtherSystolic7_1', 'A1_Flu_CMV_Count', 'ADHGravesDiseaseDateofDiagnosi3', 'AEFollowupDateDay', '_2dMailedLetter', 'GlucoseType4_1', 'LastHbA1cValue', 'ADHLupusDateofDiagnosisDay', 'D5OtherTestResultResult22_1', 'D2aOGTTFastingGlucUnits1_1', 'AcetaminophenGivenDoseTimeM2_1', 'D5OtherTestResultResult7_1', 'OtherHour16_1', 'AssessDateYear', 'OtherHour10_1', 'ADHHypogonadismorPrematureMeno2', 'AgeOfOnsetInRelativeWithT1D5_1', 'OtherRespRate4_1', 'ReasonsNotInterested_MonthlyInfu', 'ReasonForWithdrawal', 'Wastheparticipanttreatedwithme', 'UrineKetonesDay', 'OtherRespRate12_1', 'PsoriasisDateofDiagnosisDay', 'MHInflammatoryBowelDiseaseYear', 'A24PPI614_Q4CD45RAnCCR7n', 'AECausalityByReviewer', 'LupusDateofDiagnosisMonth', 'ParticipantCarryingPregnancyTo', 'A24PPI614_CD95p', 'D6OtherTestResultUnit18_1', 'systemicsteroids', 'D3RandomPlasmaGlucYYYY2_1', '_11HrsAftStartTimeMin', 'ParticipantDateDispensedMon2_1', 'MonocytesResultsNormal', 'MonocytesNotDone', 'AnyOtherMedicationsDosageHo2_1', 'MedicationPackNumber2_1', 'Date_of_Diagnosis', 'TuberculosisPPDInterferonGamma', 'OtherTemp6_1', 'HigherReferenceRange8_1', 'CollectBloodSamples', 'D4HbA1cMM1_1', 'A24_CMV_EBV_Count', 'A3CMVEBVB7CMV_Q3CD45RApCCR7n', 'F1DateStudyEndpointMetMM', 'f3availableWeightYYYY', 'MethylprednisoneGivenDose3_1', 'RheumatologicYesNo', 'WithdrewConsentWhyIfOther', 'D5MeterReadingLoc3_1', 'A24_CMV_EBV_Freq', 'DateControlBecameAutoantibodyP3', 'EyeSpecialistWasResultNormal', 'EBVPCRTestResultValueUnit', '_2WeekIfusionPeriodRank', 'IA2APositivityThreshold', 'HLASamplesCollected', 'GlucoseDay8_1', 'AvgRecordedFastingGlucosesmmol', 'participantnoteligib_5Forfemales', 'OtherHeartRate5_1', 'UlcerWithinLastYear', 'PregTestPos', 'A1Ins3240Q4_CD45RAnCCR7n', 'PlasmaGlucoseRefRangeLow', 'Comments1_1', 'AgeRelativeWithT1DStartedIn9_1', 'Istheparticipantinterestedinth', 'IfSpecimensNotCollec_RemoteVisit', 'SampleCollectedIncor_2hourMMTT', 'AutoimmuneHypothyroidismHashim', 'DateReportedDay', 'ADHOtherDateofDiagnosisYear2_1', 'RelativeWithT1D7_1', 'D5MeterReadingLoc1_1', 'pHReferenceRangeLow', 'GlucoseDay4_1', '_2cTN18Exclusion_1aAbnormalGluc3', 'D5OtherTestResultMM1_1', 'D5OtherTestResultResult4_1', 'IgG4', 'OtherMin2_1', 'aedate', '_120MinAfteStartTimeTemp', 'Howlongwasthedurationofthepart', 'Flu_EBV_CMVp_Freq', 'clinicalcenternumber', '_60MinAfteStartTimeRespRate', 'AcetaminophenGivenDoseTimeM6_1', 'PreDoseGlucoseNotDone', 'LymphaticsAbnormal', 'D5OtherTestResultMM17_1', 'ParticipantWasCo_AffiliateSi1_1', 'DateofAssessmentDD', 'pHYear', 'ReasonStudyDrugStopped', 'ParticipantSymptomsT_Nosymptoms', 'ADHOtherSpecify1_1', 'OtherHour9_1', 'NoSampleErrorNoFollo_4hourMMTT', '_6HrsAftStartTimeHeartRate', 'B7_PPI8_16_Count', 'RefusesPregnancyTestingOrRepor', 'Hasthesubjectprovidedcontinued', 'ProtcolDeviationMonth', 'A3CMVEBVA24_CMVEBVQ2CD45RACCR7', '_5HrsAftStartTimeSystolic', 'SiteEvaluationRespiratoryDistr', 'PPIp_CD8_Freq', 'AnyOtherMedicationsDosageHo1_1', 'Pleaseselecttypeofcontactattem', 'testName5_1', 'GADAResult', '_9HrsAftStartTimeRespRate', 'ADHInflammatoryBowelDisease', '_7Selectallthatapply_Vomiting', 'AEResolveDtDay', 'EventHeadacheGrade', 'LungsAbnormal', 'AgeOfRelativeWithT1D1_1', 'EverParticipatedInPreventionSt', 'Requiredsamplesnotco_DNA', 'StudyVisitProcedures_IGRATestnot', 'OtherRespRate14_1', 'CD4AResultUnit', 'B7PPI816_Q2CD45RApCCR7p', 'BiweeklyInjectionVisitSchedule', 'Randomizationofineligiblesubje', 'D3RandomPlasmaGlucDD2_1', '_10HrsAftStartTimeTemp', 'LastAttendedVisitDay', 'OtherRespRate10_1', 'D2aFastingPlasmaGlucResult3_1', 'DateRecordedYYYY3', 'DoRMonth', 'IsTheParticipantInterested', '_2cTN18Exclusion_12Haveanycompli', 'OtherSpecifyThreeYesNo', 'D5MeterReadingMM1_1', 'DoRYear', 'GlucoseMonth5_1', 'D5MeterReadingDD1_1', 'adverse_event_id', 'HypogonadismorPrematureMenopau2', 'DatestudyendpointmetDD', 'D3RandomPlasmaGlucResult2_1', 'OtherinPhysicalExamSpecify1_1', 'WhendidthelossreductionOccur', 'D2b2HourGlucMM2_1', 'WBC2000', 'ParticipantReceiveStudyDrug', 'SiteInvestigatorAckStudyEndPoi', 'mIAAIAAInterpretation', 'AEReviewReportingTimeframe', 'D2aOGTTFastingGlucResult1_1', 'Relationship', 'CD4AResult', 'testName13_1', 'Whatwastheduration3', 'DischargeMonth', 'Eventreappearafterreintroduct', 'SiteEvaluationRespiratoryDistr2', 'ScoringQ5AndQ6', 'MultipleSclerosisDateofDiagnos3', 'testName7_1', 'ADHAutoimmuneThyroidDisease', 'RelativeWithT1D9_1', 'ParticipantDateDispensedYea5_1', 'AlphaGlucosidaseInhibitors', 'A3PPI_3846_Freq', 'CancerEver', 'E1aDateofOnsetYYYY', 'D5MeterReadingResult3_1', 'Samplescollectedouts_HbA1c', 'PlateletCountNotDone', 'D4HbA1cYYYY4_1', 'Datewritteninformedconsentasse', 'D5OtherTestResultDD22_1', 'InflammatoryBowelDiseaseWithin', 'ConMedsRouteOtherDetails', 'Requiredsamplescolle_Incorrectdo', 'D5OtherTestResultMM9_1', 'BicarbonateMonth', 'A1FluCMVA3EBVCMV_Q2CD45RApCCR7p', 'StopDateDay', 'G3', 'OtherSpecifyTwoYesNo', 'DoPTMonth', 'A1Ins3240_Q3CD45RApCCR7n', 'LotNumber4_1', 'GlucoseMonth1_1', 'DischargeDay', 'comments', '_4HrsAftStartTimeTemp', 'D2b2HourGlucDD3_1', 'LimitedLifeExpectancyOrImmunos', 'DateofAssessmentMM', 'A3PPI7988_Q4CD45RAnCCR7n_1', 'testName10_1', 'D5OtherTestResultDD12_1', 'AvgBloodGlucoseValue_CGM', 'HypertensionPresent', 'WeightKG', 'OtherMin14_1', 'Requiredsamplesnotco_Mechanistic', 'AnyOtherMedicationsDosage2_1', 'ADHOtherDateofDiagnosisMont2_1', 'Indication', 'LabID', 'HigherReferenceRange3_1', 'WillingToContinueFUVisits', 'Whendidthechillsoccur', 'ParticpantsObCareProviderInfor', '_30MinAfteStartTimeHour', 'GlucoseYear2_1', 'SiteEvaluationDizziness', 'MMTTTestStartTimeMins', 'DoRDay', 'RelativeWithT1D4_1', 'BicarbonateDay', 'DateProtocolDeviationDay', 'PregnancyTestAtVisit', 'PlanOnBecomingPregnant', 'HbA1crecordDateYear', 'EBVPCRTestResultValue', 'RelativeWithT1D14_1', 'B8PPI210Q2_CD45RApCCR7p', 'Protein', 'AgeRelativeStartedInsulin2_1', 'MHInflammatoryBowelDisease', 'A1FluCMV_Q4CD45RAnCCR7n', '_9HrsAftStartTimeMin', 'TCells_Count', 'RecommendProtocolChange', 'PriorPregnancyNumberUnkown', 'CD8PResult', '_12HrsAftStartTimeHour', 'Spec_Name', 'Spring2019ConsentDateMonth', 'Requiredsamplescolle_Glucolacons', 'IsParticipantPregnant', 'HypogonadismorPrematureMenopau4', 'HospitalizedOtherthanDiabetes', 'Requiredsamplesnotco_RNA', 'Asthma', 'PermissionForHLAgeneticTesting', 'TimeResultsProcessedByLabHH', 'DateCompletionYYYY', 'A24PPI_614_Count', 'CurrentlyUsingCGM', 'GlucoseDay6_1', 'D5OtherTestResultMM11_1', 'D3RandomPlasmaGlucResult4_1', 'D5OtherTestResultYYYY1_1', 'Samplescollectedando_Mechanistic', 'DiphenhydramineDosageTimeMi3_1', 'D5MeterReadingUnit5_1', 'OtherMin11_1', 'AgeOfOnsetInRelativeWithT1D8_1', 'AEResolveDtYear', 'D5OtherTestResultYYYY20_1', 'A1_Ins_32_40_Count', 'RequiredSampleVisitN_ExceededBlo', 'Whatwastheduration2', 'A24PPI614_Q1CD45RAnCCR7p_1', 'AsthmaEver', 'A1FluCMVB7CMV_Q1CD45RAnCCR7p', 'D3RandomPlasmaGlucMM4_1', 'participanthaveautoantibodies', 'WasBabyBornWithDefects', 'ADHVitiligoDateofDiagnosisYear', 'D2b2HourGlucUnits1_1', '_15Aug2011ConsentDateMonth', 'MethodofContactA_Email1_1', 'ADHPerniciousAnemiaDateofDiagn', 'D5MeterReadingYYYY6_1', 'ICAUnitsOtherText', 'STIstheparticipantcurrentlytak', 'Skin', '_22Jul2009Phase2HLAConsent', 'InflammatoryBowelDiseaseEver', 'TreatmentDesc', 'AddisonsDiseaseWithinLastYear', 'SexOfRelativeWithT1D12_1', 'A1_Flu_CMV_Freq', 'PatientInitialDiagno_Symptomsofd', '_6HrsAftStartTimeMin', 'ADHPerniciousAnemiaDateofDiagn3', 'SiteEvaluationSwellingGrade', 'DateCompletionDD', 'D6OtherTestResultUnit2_1', 'NeutrophilsResultsOR', '_3HrsAftStartTimeHeartRate', 'SerumKetonesMonth', 'D1FastingPlasmaGlucMM3_1', 'ParticipantContacted', 'Studymedicationpharm_Studydrugw2', 'SerumForProteomicsComment', 'IfSpecimensNotCollec_Forgottocol', 'FirstHearAboutTrialN_Healthcarep', 'BicarbonateResult', 'NoSampleErrorNoFollo_CBCwdiffere', 'DateStatusChangeDay', 'BetaBlockers', 'ADHVitiligoDateofDiagnosisMont', 'D5OtherTestResultResult13_1', 'AnyOtherMedicationsDosage7_1', 'MMTTTestStartTimeHrs', 'D3RandomPlasmaGlucYYYY5_1', 'HypogonadismPrematureMenopause', 'D1FastingPlasmaGlucResult1_1', 'AlopeciaDateofDiagnosisMonth', 'NumberOfReadingsWithoutSymptom', 'NotificationStatus', 'D3RandomPlasmaGlucUnits3_1', 'D5OtherTestResultResult2_1', 'D5OtherTestResultMM7_1', 'OtherHour5_1', 'GlucoseMonth3_1', 'PatientInitialDiagno_Randomblood', 'ADHCeliacDiseaseDateofDiagnosi2', 'DateresultsreportedbylabDay', 'A24PPI614_Q3CD45RApCCR7n', 'shipspecimencollectionkit', 'OtherSystolic13_1', 'AEInitialAEID', 'MedicationPackNumber1_1', 'OtherSpecifyOneYesNo', 'CurrentlyBreastfeeding', 'OtherDiseaseDateofDiagnosis1_1', 'DateRecordedDD2', 'StudyVisitProcedures_TannerStage', 'ReasonWithdrewConsentSpecify', 'PlasmaGlucoseday', 'Freq_Influenza_specific_cells', 'f1availableWeightDD', 'AnyProblemsRecievingStudyDrugt', 'RelativeWithT1D12_1', 'Barcode', 'ExperiencedAnyHypoglycemicEven', 'MostRecentHbA1cText', 'CongenitalHeartDiseaseEver', 'Insulin_percent_CCR4p', '_11HrsAftStartTimeSystolic', 'AEAssociations_Lifethreatening', 'DateResultsReportedByLabUnknow', 'DoDeliveryYear', '_9HrsAftStartTimeDiastolic', 'Initials', 'RelativeWithT1D3_1', 'A3CMVEBV_B7CMV_Freq', 'NeutrophilsResultsNormal', 'StopDateMonth', 'AnyOtherMedicationsDosageHo4_1', 'D5MeterReadingResult1_1', 'D6OtherTestResultUnit4_1', 'DatestudyendpointmetYYYY', 'GlucoseDay1_1', 'NumberOfAResponses', 'RespiratoryRateNotDone', 'Meglinitides', 'BasophilsResults', 'GADAUnits', 'GAD65H', '_90MinAfteStartTimetemp', 'D4HbA1cDD3_1', 'D5OtherTestResultMM20_1', 'A1Ins32_40_Count', 'Meglitinides', 'D1FastingPlasmaGlucUnits1_1', 'MultipleSclerosisWithinLastYea', 'ParticipantUsedInsulinOrOtherG', 'AEReportType', 'OGTTTestStartTimeHrs', 'Flu_EBV_CMVp_Q4_CD45RAn_CCR7n', 'D5OtherTestResultDD7_1', 'D5OtherTestResultMM18_1', 'AEOccurDtYear', 'G2', 'Samplescollectedouts_PBMC', 'EpilepsyConvulsionsSeizuresEve', 'A1Ins3240_CD95p', 'StudyDrugStartDateYear2_1', '_8HrsAftStartTimeRespRate', 'D3RandomPlasmaGlucDD3_1', 'Wastheparticipantplacedonavent', 'Polyuria', 'SexOfRelativeWithT1D8_1', 'AEexpected', 'IGRPp_IAPPp_CD45RAn_CXCR3p', 'SignedMonitoringConsentProtoco', 'AgeRelativeWithT1DStartedIn8_1', 'DateSignedNEWInformedConsentFo2', 'OGTTSampleCollected', 'Sampleslost_MechanisticSerum', 'testName20_1', 'OtherDiastolic8_1', 'PPIp_CD8_Q1_CD45RAn_CCR7p', 'FatigueMonth', 'AddisonsDiseaseEver', 'D4HbA1cDD4_1', 'CategoryThatBestDescribesYou', 'PlasmaSampleCollected', 'NoSampleErrorNoFollo_WholeBloodP', 'InsBp_Freq', 'InsBp_Q3_CD45RAp_CCR7n', 'GlucoseMonth7_1', 'NeckThyroidFindings', 'TestResults', 'CeliacDiseaseDateofDiagnosisYe', 'DateProtocolDeviationYear', 'CodeFederalregulations', 'participantnoteligib_1Hasthepart', 'WhichProtocolVersion', 'TimeDoseGivenHr', 'A1Ins3240Q2_CD45RApCCR7p', 'GlucoseMonth2_1', 'ADHHypogonadismorPrematureMeno4', 'MostRecentHbA1cYear', '_60MinAfteStartTimeSystolic', 'SiteEvaluationBonepain', 'EventNauseaVomitingGrade', 'ADHPsoriasisDateofDiagnosisDay', 'StartDateYear', 'Flu_EBV_CMVp_Q1_CD45RAn_CCR7p', 'LupusDateofDiagnosisDay', 'AnionGapYear', 'EvidenceOfLiverDysfunction', 'WastheCOVID19diagnosissuspecte', 'ADHInflammatoryBowelDiseaseDat2', '_7HrsAftStartTimeHours', 'A3CMVEBVB7CMV_CD45RAnCXCR3p', '_22Jul2009ConsentSignedYear', 'HighBPever', 'D5OtherTestResultYYYY2_1', 'OtherHour13_1', 'IGRPp_IAPPP_Q1_CD45RAn_CCR7p', 'SiteEvaluationBonePainTimePost', 'D5MeterReadingYYYY4_1', 'A1FluCMVA3EBVCMV_CD95p', 'RelativeWithT1D', 'OtherSystolic5_1', 'aeresolvedt', 'A24PPI614_Q3CD45RApCCR7n_1', 'MultipleSclerosisEver', 'D5OtherTestResultMM13_1', 'ScreeningSiteName', 'D1FastingPlasmaGlucMM2_1', 'SeatedArmBPDiastolic', 'Whendidthepneumoniaoccur', 'D3RandomPlasmaGlucDD4_1', 'AnionGapRefRangeLow', 'SexuallyActiveAndRefusesToUseB', 'IfyesDateCOVID19TestAdminister3', 'D3RandomPlasmaGlucMM2_1', 'IfNOSpecifyWhy', 'IfMiscellaneousSpecify', 'OtherDiseaseDateofDiagnosis1_3', 'ConsentSignedMonth', 'AdmissionYear', 'HighBPwithinLastYear', 'AvgAllRecordedGlucosesMgDL', 'HbA1cComment', 'MultipleSclerosisDateofDiagnos2', 'Samplescollectediner_RNA', 'Whendidthecoughoccur', 'MethylprednisoneGivenDose1_1', 'ADHAutoimmuneThyroidDiseaseDat', '_6HrsAftStartTimeSystolic', 'TotalShortActingInsulinDose', 'Whatwastheduration5', '_8HrsAftStartTimeSystolic', 'LotNumber1_1', 'WhichProtocolVersion2', 'Date_of_Study_Start', 'HigherReferenceRange5_1', 'D5OtherTestResultDD13_1', 'D1FastingPlasmaGlucYYYY3_1', 'Flu_EBV_CMVp_Q3_CD45RAp_CCR7n', 'AcetaminophenGivenToPartici6_1', '_7HrsAftStartTimeSystolic', 'FluVaccineMonth', 'Spring2019ConsentDateYear', 'A3PPI3846_Q2CD45RApCCR7p_1', 'GlucoseMonth8_1', 'EBVPCRSeronegativeScreening', 'D5OtherTestResultMM10_1', '_12HrsAftStartTimeMissedVital', 'DateOfRegistration', 'A3PPI7988_Q4CD45RACCR7n', 'B7PPI413PPI816_CD45RAnCXCR3p', 'DescriptionDeviationCircumstan', 'Polydipsia', 'WeightLostInKgs', 'ImmunosuppressiveTherapiesSpec', 'GlucoseDay9_1', 'PreInfusionDiastolic', 'RelativeComments11_1', 'Hastheparticipanthadknownconta2', 'DoWDay', 'Weightlbs', 'DidPregnancyResultInStillbirth', 'PermissionForSampleStorage', 'ParticipantDateDispensedMon5_1', 'D5OtherTestResultMM5_1', 'WeightNotDone', 'PregnancyCompletionMonth', 'Samplescollectedouts_DNA', 'HaveHadComplications_Other', 'ICAPositivityThreshold', 'Hasthesubjectexperienceduninte', 'OtherHeartRate4_1', 'InfectiousMononucleosisEver', 'Hastheparticipanthadknownconta', 'CeliacSprueGlutenDiagnosisDay', 'OtherTemp1_1', 'D2aOGTTFastingGlucMM2_1', '_2cTN18Exclusion_2Insulinautoant', 'MostRecentHbA1cMonth', 'ADHPerniciousAnemia', 'D5OtherTestResultYYYY11_1', 'InitialScreeningLocation', 'B7PPI816_Q3CD45RApCCR7n', 'D2b2HourGlucDD2_1', 'AEResolveDtMonth', 'D4HbA1cMM4_1', 'TN22ExclusionCriteri_Ongoingoran', 'Ketoacidosis', '_2cTN20Exclusion_8Ongoinguseofme', 'ADHMultipleSclerosisDateofDiag', 'Sample_Recovery', 'IndicateTheStudyParticipantWas', 'IAA_capacity', '_12HrsAftStartTimeTemperature', 'howmanydoseshastheparticipantm', 'SampleMaskID', 'Event_Title', 'E1bDateOfOnsetYYYY', 'DateControlBecameAutoantibodyP', 'SampleOutsideWindow_4hourMMTT', 'A3CMVEBVA24_CMVEBVCD95p', 'MeasuredBy9_1', 'IsHeightSelfReported', 'Heart', 'VisitMonth', 'Date_Run', 'B7PPI816_Q4CD45RAnCCR7n', 'A24PPI614_Q2CD45RApCCR7p_1', 'DateRecordedMM2', 'MethylprednisoneGivenDoseTi2_1', 'EosinophilsResults', 'MonthlyInfusionVisitScheduleRa', 'AECausalityByReporter', 'D5MeterReadingUnit2_1', 'OtherTemp16_1', 'Sampleslost_DNA', 'MeasuredBy8_1', 'ContactDateYear', 'AnionGapRefRangeHigh', 'Dose', 'PotassiumDepletingDiuretics', 'FatigueMalaisePresent', 'ADHAlopecia', 'EosinophilsResultsNormal', 'Hastheparticipanthadacough', 'DatethebloodsamplewasdrawnYear', 'FirstHearAboutTrialN_Brochure', 'AEAssociations_Hospitalizationor', 'Gender', 'Insulin_percent_CCR7p', 'CyTOF_Date', 'EvidenceOfRenalDysfunction', 'Lupus', 'AEPrimarySecondary1_1', 'testName16_1', 'OtherTemp17_1', 'EventSkinRashHyperSensitivityG', 'KetoacidosisYear23', 'OtherMin6_1', 'AnthopometricsWeightKg', 'SiteEvaluationRednessGrade', '_5HrsAftStartTimeDiastolic', 'ConsentSignedDay', 'PreInfusionTimeMin', 'AgeRelativeWithT1DStartedIn1_1', 'ADHAddisonsDisease', 'D5OtherTestResultResult16_1', 'MonocytesResults', 'OtherProblems', 'TN22ExclusionCriteri_Ongoinguseo', 'AnyOtherMedicationsDosageMi2_1', 'HigherReferenceRange6_1', 'VitiligoDateofDiagnosisYear', 'HbA1crecordDateMonth', 'Units3_1', 'WholeBloodPBMCPlasmaSampleColl', 'HeartFindings', 'CeliacSprueGlutenDiagnosisYear', 'ChangeInDrugStatusEffectivemon', 'ChangeInDrugStatus', 'ADHVitiligo', 'Reason_for_Transfer', 'StudyVisitProcedures_PhysicalExa', 'IgM_IAA', 'AreThere3GlucoseValuesAvailabl', 'DatebloodsamplewasdrawnMonth', 'MusculoskeletalFindings', 'Fall2017ConsentDateYear', 'OtherSpecifydeviation', 'AEReportDtMonth', 'f3availableWeightUnits', 'PsoriasisDateofDiagnosisYear', 'NeurologicAbnormal', 'Type1DiabetesDiagnosisYear', 'GlucoseType8_1', 'A1FluCMVA3EBVCMV_Q1CD45RAnCCR7p', 'AEReasonForFollowup', 'D3RandomPlasmaGlucYYYY4_1', 'Number_Influenza_specific_cells', 'NeutrophilsResults', 'Influenza_percent_CCR7p', 'Race_Refused', 'ZnT8', 'HighCholesterolWithinLastYear', 'OtherMin8_1', '_10HrsAftStartTimeMissedVital', 'SkinRashHypersentivityPresent', 'LastAttendedVisitYear', 'ScreeningYear', 'D5OtherTestResultResult1_1', 'OtherTemp7_1', '_30MinAfteStartTimeRespRate', 'IfyesDateCOVID19TestAdminister', 'Visit_Type', 'OtherRespRate8_1', 'D3RandomPlasmaGlucMM5_1', 'Havetherebeenanychangesinconco', 'Units6_1', 'PerniciousAnemiaWithinLast6Mo', '_60MinAfteStartTimemin', 'PsoriasisDateofDiagnosisMonth', 'IfSpecimensNotCollec_Participant', 'D3RandomPlasmaGlucUnits4_1', 'D5MeterReadingDD6_1', 'D1FastingPlasmaGlucResult3_1', '_60MinAfteStartTimeHour', 'Units', 'AgeOfOnsetInRelativeWithT1D11_1', 'MHInflammatoryBowelDiseaseDay', '_7Selectallthatapply_MuscleAches', 'PPIp_CD8_CD45RAn_CXCR3p', 'CD4AResultInRange', 'StudyDrugStartDateMonth1_1', 'A24CMVEBV_Q4CD45RAnCCR7n', 'ReasonsNotInterested_MonetaryCom', 'ADHOtherDateofDiagnosisDay1_1', 'HospitalICUIntensive', 'AllergiesWithinLast6Months', 'Result3_1', 'DiagnosisBy', 'OtherTemp5_1', 'OtherDiastolic2_1', 'SiteEvaluationRespiratoryDistr3', 'DateTestsRunMonth', 'HepatitisOrLiverDiseaseEver', 'FluVaccineDay', 'A24PPI_614_Freq', 'FirstHearAboutTrialN_RadioTV', 'ParticipantSymptomsT_Increasedea', 'D1FastingPlasmaGlucResult2_1', 'A3CMVEBV_Q3CD45RApCCR7n', 'DoesNotTolerateOGTTRank', 'D2b2HourGlucYYYY1_1', 'OtherDiastolic11_1', 'ColitisOrColonProblemsEver', 'ZnT8APositivityThreshold', 'ReviewAddComments', 'A1FluCMVB7CMV_Q3CD45RApCCR7n', 'D5OtherTestResultYYYY13_1', 'ConditionCompromiseStudyResult', 'VitiligoDateofDiagnosisMonth', 'SerumForProteomicsSampleCollec', 'ConMedsFrequencyOtherDetail', 'AnyGrade3OrGreaterProblems', 'OtherMin5_1', 'testName15_1', 'DiphenhydramineDoseGiven', 'A1FluCMV_Q2CD45RApCCR7p', 'Units7_1', 'D3RandomPlasmaGlucDD1_1', 'D5OtherTestResultYYYY19_1', 'IGRPp_IAPPp_Q3_CD45RAp_CCR7n', 'PreInfusionTimeHour', 'Sample_Viability', 'EosinophilsNotDone', 'TimeOfCollectionMM', 'PlasmaGlucoseYear', '_3HrsAftStartTimeRespRate', 'RepeatedInfectionsWhatKind', 'SexOfRelativeWithT1D1_1', 'SeatedArmBPSystolic', 'InformedConsentDay', 'ADHRheumatologicDiseaseDateofD2', 'Sampleslost_PBMC', 'TrialnetEligibility', 'EventOtherGrade', 'FluVaccinationDateMonth', 'D5OtherTestResultYYYY6_1', 'ScreeningDay', 'DoPTYear', '_10HrsAftStartTimeDiastolic', 'DegreeOfRelative_1st', 'mIAAIAAPositivityThreshold', 'Comments3_1', 'Requiredstudyvisitpr_Pregnancyte', 'BicarbonateRefRangeHigh', 'RheumatologicDiagnosisMonth', 'AEFollowupNumber', 'HypoparathyroidismDateofDiagno', 'HeightCm', 'A1FluCMV_Q1CD45RAnCCR7p', 'KetoacidosisMonth23', 'CeliacSprueGlutenYesNo', 'EosinophilsResultAbormalClinic', 'FirstHearAboutTrialN_MeetingPres', 'D4HbA1cResult3_1', 'GlucoseType7_1', 'A24CMVEBV_CD95p', 'AnyNewChronicDisease_Cancer', 'Havetherebeenanychangesinthepa', 'consenttocontinuedstorageofres', 'PlateletCountResultAbormalClin', 'AgeRelativeWithT1DStartedIn5_1', 'ParticipantDateDispensedMon1_1', 'Vitiligo', 'D5MeterReadingResult6_1', 'AllergiesEver', 'GlucoseType3_1', 'AgeOfRelativeWithT1D11_1', 'Abdomen', 'AgeRelativeWithT1DStartedIn7_1', 'EosinophilsResultsOR', 'ReproductiveChildbearingPotent', 'Samplescollectediner_Mechanistic', 'IGRPp_IAPPp_Count', 'A3CMVEBV_B7CMV_Count', 'A24PPI614_Q4CD45RAnCCR7n_1', 'Color', '_11HrsAftStartTimeDiastolic', 'NumOfRelativesWithT1D', 'MethodofContactA_Other1_1', 'A1Ins3240Q1_CD45RAnCCR7p', 'Blood', 'Whatwastheseverity3', 'OtherRespRate9_1', 'Lungs', 'OtherDiastolic16_1', 'DoPTDay', 'D2b2HourGlucMM1_1', 'InterferonGammaReleaseAssayIGR3', 'A24PPI614_Q1CD45RAnCCR7p', 'InsulDoseInfoAvailableFor3Days', '_7HrsAftStartTimeHeart', 'D2b2HourGlucUnits2_1', 'TreatmentStartedDate', 'D5OtherTestResultResult9_1', 'AEDateDeathYear', 'AE_Submitted', 'AnyOtherMedicationsDosage5_1', 'ADHAlopeciaDateofDiagnosisMont', 'A3PPI7988_Q4CD45RAnCCR7n', 'A1Ins3240_Q1CD45RAnCCR7p', 'WillingToContinueAfterPregnanc', '_120MinAfteStartTimeHour', 'GlucoseYear5_1', 'BloodForRNASampleCollected', 'HemoglobinResults', 'DiphenhydramineDosageTimeMi5_1', 'RelativeWithT1D10_1', '_22Jul2009VisitType', '_60MinAfteStartTimeTemp', 'E1dDateOfOnsetMM', 'Psoriasis', 'A1FluCMVB7CMV_Q2CD45RApCCR7p', 'D5OtherTestResultMM14_1', 'A1_Flu_CMV_A3_EBV_CMV_Count', 'ParticipantWasContac_AffiliateS2', 'SpecificGravity', 'VisitDay', 'RheumatologicWithinLastYear', 'MethylprednisoneGivenDoseTimeM', 'MCHCNotDone', 'TRANSFER_TYPE', '_90MinAfteStartTimeDiastolic', 'AlopeciaEver', 'RelativeComments10_1', 'Requiredstudyvisitpr_Medicalhist', 'LotNumber5_1', 'AEAdditionalInfoRequested', 'B7PPI816_Q1CD45RAnCCR7p', 'CD8AResultInRange', 'DateSignedInformedConsentFormD', 'HemoglobinResultAbormalClinica', 'OtherHour2_1', 'AcetaminophenGivenToParticipan', 'IA2ANotDone', 'AEExpected1_1', 'MethodofContactOther', 'A3CMVEBVA24_CMVEBVCD45RAnCXCR3p', 'DateConsentSignedYear', 'DiagnosisDay', 'PolyphagiaYear', 'ICAInterpretation']\n"
     ]
    }
   ],
   "source": [
    "import pandas as pd\n",
    "\n",
    "# Names of the Excel files\n",
    "file_names = ['TN_01_column_headers.csv', 'TN_16_column_headers.csv', 'TN_19_column_headers.csv', 'TN_20_column_headers.csv']\n",
    "column_name = 'Column Header'  # Replace 'header' with the actual name of your column\n",
    "\n",
    "# Reading the specified column from each file and storing it in a list\n",
    "all_values = []\n",
    "for file in file_names:\n",
    "    df = pd.read_csv(file)\n",
    "    if column_name in df.columns:\n",
    "        all_values.extend(df[column_name].tolist())\n",
    "    else:\n",
    "        print(f\"Column '{column_name}' not found in {file}\")\n",
    "\n",
    "# Removing duplicates\n",
    "unique_values = list(set(all_values))\n",
    "\n",
    "print(len(unique_values))\n",
    "print(unique_values)"
   ]
  },
  {
   "cell_type": "code",
   "execution_count": null,
   "id": "b46f30b6",
   "metadata": {},
   "outputs": [],
   "source": []
  },
  {
   "cell_type": "code",
   "execution_count": null,
   "id": "56c58267",
   "metadata": {},
   "outputs": [],
   "source": []
  },
  {
   "cell_type": "code",
   "execution_count": 2,
   "id": "35cf2142",
   "metadata": {},
   "outputs": [
    {
     "name": "stderr",
     "output_type": "stream",
     "text": [
      "/home/ec2-user/anaconda3/envs/python3/lib/python3.10/site-packages/pandas/core/computation/expressions.py:21: UserWarning: Pandas requires version '2.8.0' or newer of 'numexpr' (version '2.7.3' currently installed).\n",
      "  from pandas.core.computation.check import NUMEXPR_INSTALLED\n"
     ]
    }
   ],
   "source": [
    "import pandas as pd\n",
    "\n",
    "def prepare_and_save_to_feather(df, file_name):\n",
    "    \"\"\"\n",
    "    Prepares a DataFrame for saving to a Feather file by ensuring consistent data types\n",
    "    and handling NaN values, then saves it to the specified file.\n",
    "\n",
    "    Parameters:\n",
    "    df (pd.DataFrame): The DataFrame to be saved.\n",
    "    file_name (str): The name of the Feather file to save.\n",
    "    \"\"\"\n",
    "    # Ensure all columns are of type 'str' to avoid mixed types.\n",
    "    # You can adjust this logic based on your specific data type needs.\n",
    "    for col in df.columns:\n",
    "        try:\n",
    "            df[col] = df[col].astype(str)\n",
    "        except Exception as e:\n",
    "            print(f\"Error converting column {col}: {e}\")\n",
    "            # Handle specific errors or fill NaN values if necessary\n",
    "            df[col] = df[col].fillna('Unknown').astype(str)\n",
    "\n",
    "    # Try saving the DataFrame to a Feather file\n",
    "    try:\n",
    "        df.to_feather(file_name)\n",
    "        print(f\"DataFrame successfully saved to {file_name}\")\n",
    "    except Exception as e:\n",
    "        print(f\"Error saving DataFrame to Feather: {e}\")\n"
   ]
  },
  {
   "cell_type": "code",
   "execution_count": null,
   "id": "7c154372",
   "metadata": {},
   "outputs": [],
   "source": [
    "tn_01_header"
   ]
  },
  {
   "cell_type": "code",
   "execution_count": null,
   "id": "37a1b731",
   "metadata": {},
   "outputs": [],
   "source": []
  },
  {
   "cell_type": "code",
   "execution_count": null,
   "id": "8e1c4b7d",
   "metadata": {},
   "outputs": [],
   "source": []
  },
  {
   "cell_type": "code",
   "execution_count": null,
   "id": "efaa893f",
   "metadata": {},
   "outputs": [],
   "source": []
  },
  {
   "cell_type": "code",
   "execution_count": null,
   "id": "d259ccd7",
   "metadata": {},
   "outputs": [],
   "source": []
  },
  {
   "cell_type": "code",
   "execution_count": null,
   "id": "f430d974",
   "metadata": {},
   "outputs": [],
   "source": []
  },
  {
   "cell_type": "code",
   "execution_count": null,
   "id": "b2401123",
   "metadata": {},
   "outputs": [],
   "source": []
  },
  {
   "cell_type": "markdown",
   "id": "cd430ce7",
   "metadata": {},
   "source": [
    "# 1. Load merged datasets"
   ]
  },
  {
   "cell_type": "markdown",
   "id": "60cc37b4",
   "metadata": {},
   "source": [
    "## 1.1 TN_01: Merging into one"
   ]
  },
  {
   "cell_type": "markdown",
   "id": "56cce62d",
   "metadata": {},
   "source": [
    "### 1.1.1 Data type transformation: string into category, float64 into float16"
   ]
  },
  {
   "cell_type": "code",
   "execution_count": 3,
   "id": "a75f9305",
   "metadata": {},
   "outputs": [],
   "source": [
    "import pandas as pd\n",
    "from pandas.core.computation.check import NUMEXPR_INSTALLED\n",
    "import numpy as np\n",
    "import warnings\n",
    "warnings.filterwarnings('ignore')\n",
    "\n",
    "# The following code is to merge the two datasets for TN_01, but will cause error or dead kernel. \n",
    "# Convert the 'ProtocolVersion' column to string in both DataFrames\n",
    "file_path_1 = \"TN_01_merged_data_1.csv\"\n",
    "file_path_2 = \"TN_01_merged_data_23.csv\"\n",
    "\n",
    "merged_first_part = pd.read_csv(file_path_1)\n",
    "merged_data_23 = pd.read_csv(file_path_2)"
   ]
  },
  {
   "cell_type": "code",
   "execution_count": 4,
   "id": "d57eb92b",
   "metadata": {},
   "outputs": [
    {
     "name": "stdout",
     "output_type": "stream",
     "text": [
      "DataFrame successfully saved to TN_01_merged_data_23.feather\n"
     ]
    }
   ],
   "source": [
    "# Example usage:\n",
    "prepare_and_save_to_feather(merged_data_23, \"TN_01_merged_data_23.feather\")"
   ]
  },
  {
   "cell_type": "code",
   "execution_count": null,
   "id": "827938a3",
   "metadata": {},
   "outputs": [],
   "source": [
    "# Example usage:\n",
    "prepare_and_save_to_feather(merged_first_part, \"TN_01_merged_data_1.feather\")"
   ]
  },
  {
   "cell_type": "code",
   "execution_count": 2,
   "id": "cf3d4ebd",
   "metadata": {},
   "outputs": [
    {
     "ename": "NameError",
     "evalue": "name 'merged_data_23' is not defined",
     "output_type": "error",
     "traceback": [
      "\u001b[0;31m---------------------------------------------------------------------------\u001b[0m",
      "\u001b[0;31mNameError\u001b[0m                                 Traceback (most recent call last)",
      "Cell \u001b[0;32mIn[2], line 1\u001b[0m\n\u001b[0;32m----> 1\u001b[0m \u001b[43mmerged_data_23\u001b[49m\u001b[38;5;241m.\u001b[39minfo()\n",
      "\u001b[0;31mNameError\u001b[0m: name 'merged_data_23' is not defined"
     ]
    }
   ],
   "source": [
    "merged_data_23.info()"
   ]
  },
  {
   "cell_type": "code",
   "execution_count": 3,
   "id": "fb99bd39",
   "metadata": {},
   "outputs": [
    {
     "name": "stdout",
     "output_type": "stream",
     "text": [
      "<class 'pandas.core.frame.DataFrame'>\n",
      "RangeIndex: 519750 entries, 0 to 519749\n",
      "Columns: 1563 entries, MaskID to SignedConsentFor2017Protocol\n",
      "dtypes: float64(665), int64(1), object(897)\n",
      "memory usage: 6.1+ GB\n",
      "None\n",
      "\n",
      "<class 'pandas.core.frame.DataFrame'>\n",
      "RangeIndex: 1968807 entries, 0 to 1968806\n",
      "Data columns (total 17 columns):\n",
      " #   Column                         Dtype  \n",
      "---  ------                         -----  \n",
      " 0   MaskID                         int64  \n",
      " 1   Date_of_Registration           object \n",
      " 2   Status                         object \n",
      " 3   Date_of_Study_Start            object \n",
      " 4   Date_of_Draw                   object \n",
      " 5   Event_Title                    object \n",
      " 6   Spec_Name                      object \n",
      " 7   SampleMaskID                   object \n",
      " 8   Test_Name                      object \n",
      " 9   Result                         object \n",
      " 10  Result_Type                    object \n",
      " 11  Visit                          object \n",
      " 12  Date_at_Test_Results_Reported  object \n",
      " 13  Date_at_Evaluation             object \n",
      " 14  Date_Received                  object \n",
      " 15  Date_Shipped                   object \n",
      " 16  LabID                          float64\n",
      "dtypes: float64(1), int64(1), object(15)\n",
      "memory usage: 255.4+ MB\n",
      "None\n"
     ]
    }
   ],
   "source": [
    "print(merged_first_part.info())\n",
    "print()\n",
    "print(merged_data_23.info())"
   ]
  },
  {
   "cell_type": "code",
   "execution_count": 4,
   "id": "2a61cdd7",
   "metadata": {},
   "outputs": [
    {
     "name": "stdout",
     "output_type": "stream",
     "text": [
      "17883089368\n",
      "\n",
      "1802078130\n"
     ]
    }
   ],
   "source": [
    "print(merged_first_part.memory_usage(deep=True).sum())\n",
    "print()\n",
    "print(merged_data_23.memory_usage(deep=True).sum())"
   ]
  },
  {
   "cell_type": "markdown",
   "id": "729bd822",
   "metadata": {},
   "source": [
    "##### By changing some columns from float64 to float 16. I checked the accuracy loss, which is minimal and negligible. "
   ]
  },
  {
   "cell_type": "code",
   "execution_count": null,
   "id": "dcf76d07",
   "metadata": {},
   "outputs": [],
   "source": [
    "import pandas as pd\n",
    "import numpy as np\n",
    "\n",
    "def transform_data_types(df):\n",
    "    for column in df.columns:\n",
    "        # Check for NaN values in the column\n",
    "        has_nan = df[column].isnull().any()\n",
    "\n",
    "        if df[column].dtype == 'float64':\n",
    "            # Convert to int16 if all values are integers and there are no NaN values\n",
    "            if not has_nan and all(df[column].dropna().apply(float.is_integer)):\n",
    "                df[column] = df[column].astype('int16')\n",
    "            else:\n",
    "                # Convert to float16 otherwise\n",
    "                df[column] = df[column].astype('float16')\n",
    "\n",
    "        elif df[column].dtype == 'object':\n",
    "            # Convert string columns to category\n",
    "            if all(df[column].apply(lambda x: isinstance(x, str) or pd.isnull(x))):\n",
    "                df[column] = df[column].astype('category')\n",
    "\n",
    "    return df"
   ]
  },
  {
   "cell_type": "code",
   "execution_count": 6,
   "id": "f371217c",
   "metadata": {},
   "outputs": [
    {
     "name": "stdout",
     "output_type": "stream",
     "text": [
      "1311209169\n",
      "\n",
      "245206343\n"
     ]
    }
   ],
   "source": [
    "merged_first_part = transform_data_types(merged_first_part)\n",
    "merged_second_part = transform_data_types(merged_data_23)\n",
    "\n",
    "print(merged_first_part.memory_usage(deep=True).sum())\n",
    "print()\n",
    "print(merged_second_part.memory_usage(deep=True).sum())"
   ]
  },
  {
   "cell_type": "code",
   "execution_count": 7,
   "id": "f80d11cc",
   "metadata": {},
   "outputs": [
    {
     "name": "stdout",
     "output_type": "stream",
     "text": [
      "<class 'pandas.core.frame.DataFrame'>\n",
      "RangeIndex: 519750 entries, 0 to 519749\n",
      "Columns: 1563 entries, MaskID to SignedConsentFor2017Protocol\n",
      "dtypes: category(888), float16(665), int64(1), object(9)\n",
      "memory usage: 1.1+ GB\n",
      "None\n",
      "\n",
      "<class 'pandas.core.frame.DataFrame'>\n",
      "RangeIndex: 1968807 entries, 0 to 1968806\n",
      "Data columns (total 17 columns):\n",
      " #   Column                         Dtype   \n",
      "---  ------                         -----   \n",
      " 0   MaskID                         int64   \n",
      " 1   Date_of_Registration           category\n",
      " 2   Status                         category\n",
      " 3   Date_of_Study_Start            category\n",
      " 4   Date_of_Draw                   category\n",
      " 5   Event_Title                    category\n",
      " 6   Spec_Name                      category\n",
      " 7   SampleMaskID                   category\n",
      " 8   Test_Name                      category\n",
      " 9   Result                         object  \n",
      " 10  Result_Type                    category\n",
      " 11  Visit                          category\n",
      " 12  Date_at_Test_Results_Reported  category\n",
      " 13  Date_at_Evaluation             category\n",
      " 14  Date_Received                  category\n",
      " 15  Date_Shipped                   category\n",
      " 16  LabID                          float16 \n",
      "dtypes: category(14), float16(1), int64(1), object(1)\n",
      "memory usage: 101.8+ MB\n",
      "None\n"
     ]
    }
   ],
   "source": [
    "print(merged_first_part.info())\n",
    "print()\n",
    "print(merged_second_part.info())"
   ]
  },
  {
   "cell_type": "markdown",
   "id": "e4b925ec",
   "metadata": {},
   "source": [
    "### 1.2.2 Data merge into one"
   ]
  },
  {
   "cell_type": "code",
   "execution_count": 8,
   "id": "f66d4c5f",
   "metadata": {},
   "outputs": [
    {
     "name": "stdout",
     "output_type": "stream",
     "text": [
      "<class 'pandas.core.frame.DataFrame'>\n",
      "RangeIndex: 2923848 entries, 0 to 2923847\n",
      "Columns: 1578 entries, MaskID to LabID\n",
      "dtypes: category(900), float16(666), int64(1), object(11)\n",
      "memory usage: 6.4+ GB\n",
      "None\n"
     ]
    },
    {
     "data": {
      "text/html": [
       "<div>\n",
       "<style scoped>\n",
       "    .dataframe tbody tr th:only-of-type {\n",
       "        vertical-align: middle;\n",
       "    }\n",
       "\n",
       "    .dataframe tbody tr th {\n",
       "        vertical-align: top;\n",
       "    }\n",
       "\n",
       "    .dataframe thead th {\n",
       "        text-align: right;\n",
       "    }\n",
       "</style>\n",
       "<table border=\"1\" class=\"dataframe\">\n",
       "  <thead>\n",
       "    <tr style=\"text-align: right;\">\n",
       "      <th></th>\n",
       "      <th>MaskID</th>\n",
       "      <th>Visit_Dt</th>\n",
       "      <th>Visit</th>\n",
       "      <th>_22Jul2009VisitType</th>\n",
       "      <th>_15Aug2011VisitType</th>\n",
       "      <th>StorageOfResidualsDuringTrialN</th>\n",
       "      <th>_15Aug2011ConsentForResidualSa</th>\n",
       "      <th>_22Jul2009ConsentSignedDay</th>\n",
       "      <th>_22Jul2009ConsentSignedMonth</th>\n",
       "      <th>_22Jul2009ConsentSignedYear</th>\n",
       "      <th>...</th>\n",
       "      <th>Spec_Name</th>\n",
       "      <th>SampleMaskID</th>\n",
       "      <th>Test_Name</th>\n",
       "      <th>Result</th>\n",
       "      <th>Result_Type</th>\n",
       "      <th>Date_at_Test_Results_Reported</th>\n",
       "      <th>Date_at_Evaluation</th>\n",
       "      <th>Date_Received</th>\n",
       "      <th>Date_Shipped</th>\n",
       "      <th>LabID</th>\n",
       "    </tr>\n",
       "  </thead>\n",
       "  <tbody>\n",
       "    <tr>\n",
       "      <th>0</th>\n",
       "      <td>200023</td>\n",
       "      <td>07/01/2015</td>\n",
       "      <td>PRN</td>\n",
       "      <td>NaN</td>\n",
       "      <td>Rescreen/Confirmatory Screening Visit</td>\n",
       "      <td>NaN</td>\n",
       "      <td>Yes</td>\n",
       "      <td>NaN</td>\n",
       "      <td>NaN</td>\n",
       "      <td>NaN</td>\n",
       "      <td>...</td>\n",
       "      <td>Serum - Autoantibodies</td>\n",
       "      <td>S3827078</td>\n",
       "      <td>GAD65H</td>\n",
       "      <td>0</td>\n",
       "      <td>RPTD</td>\n",
       "      <td>07/20/2015</td>\n",
       "      <td>07/14/2015</td>\n",
       "      <td>07/14/2015</td>\n",
       "      <td>07/08/2015</td>\n",
       "      <td>547.0</td>\n",
       "    </tr>\n",
       "    <tr>\n",
       "      <th>1</th>\n",
       "      <td>200023</td>\n",
       "      <td>07/01/2015</td>\n",
       "      <td>PRN</td>\n",
       "      <td>NaN</td>\n",
       "      <td>Rescreen/Confirmatory Screening Visit</td>\n",
       "      <td>NaN</td>\n",
       "      <td>Yes</td>\n",
       "      <td>NaN</td>\n",
       "      <td>NaN</td>\n",
       "      <td>NaN</td>\n",
       "      <td>...</td>\n",
       "      <td>Serum - Autoantibodies</td>\n",
       "      <td>S3827078</td>\n",
       "      <td>MIAA</td>\n",
       "      <td>0</td>\n",
       "      <td>RPTD</td>\n",
       "      <td>07/20/2015</td>\n",
       "      <td>07/14/2015</td>\n",
       "      <td>07/14/2015</td>\n",
       "      <td>07/08/2015</td>\n",
       "      <td>547.0</td>\n",
       "    </tr>\n",
       "    <tr>\n",
       "      <th>2</th>\n",
       "      <td>200023</td>\n",
       "      <td>07/01/2015</td>\n",
       "      <td>PRN</td>\n",
       "      <td>NaN</td>\n",
       "      <td>Rescreen/Confirmatory Screening Visit</td>\n",
       "      <td>NaN</td>\n",
       "      <td>Yes</td>\n",
       "      <td>NaN</td>\n",
       "      <td>NaN</td>\n",
       "      <td>NaN</td>\n",
       "      <td>...</td>\n",
       "      <td>Serum - Autoantibodies</td>\n",
       "      <td>S3827078</td>\n",
       "      <td>IA-2H</td>\n",
       "      <td>0</td>\n",
       "      <td>RPTD</td>\n",
       "      <td>07/20/2015</td>\n",
       "      <td>07/14/2015</td>\n",
       "      <td>07/14/2015</td>\n",
       "      <td>07/08/2015</td>\n",
       "      <td>547.0</td>\n",
       "    </tr>\n",
       "    <tr>\n",
       "      <th>3</th>\n",
       "      <td>200071</td>\n",
       "      <td>01/24/2018</td>\n",
       "      <td>PRN</td>\n",
       "      <td>NaN</td>\n",
       "      <td>Rescreen/Confirmatory Screening Visit</td>\n",
       "      <td>NaN</td>\n",
       "      <td>Yes</td>\n",
       "      <td>NaN</td>\n",
       "      <td>NaN</td>\n",
       "      <td>NaN</td>\n",
       "      <td>...</td>\n",
       "      <td>NaN</td>\n",
       "      <td>NaN</td>\n",
       "      <td>NaN</td>\n",
       "      <td>NaN</td>\n",
       "      <td>NaN</td>\n",
       "      <td>NaN</td>\n",
       "      <td>NaN</td>\n",
       "      <td>NaN</td>\n",
       "      <td>NaN</td>\n",
       "      <td>NaN</td>\n",
       "    </tr>\n",
       "    <tr>\n",
       "      <th>4</th>\n",
       "      <td>200071</td>\n",
       "      <td>01/14/2019</td>\n",
       "      <td>PRN</td>\n",
       "      <td>NaN</td>\n",
       "      <td>NaN</td>\n",
       "      <td>NaN</td>\n",
       "      <td>NaN</td>\n",
       "      <td>NaN</td>\n",
       "      <td>NaN</td>\n",
       "      <td>NaN</td>\n",
       "      <td>...</td>\n",
       "      <td>NaN</td>\n",
       "      <td>NaN</td>\n",
       "      <td>NaN</td>\n",
       "      <td>NaN</td>\n",
       "      <td>NaN</td>\n",
       "      <td>NaN</td>\n",
       "      <td>NaN</td>\n",
       "      <td>NaN</td>\n",
       "      <td>NaN</td>\n",
       "      <td>NaN</td>\n",
       "    </tr>\n",
       "  </tbody>\n",
       "</table>\n",
       "<p>5 rows × 1578 columns</p>\n",
       "</div>"
      ],
      "text/plain": [
       "   MaskID    Visit_Dt Visit _22Jul2009VisitType  \\\n",
       "0  200023  07/01/2015   PRN                 NaN   \n",
       "1  200023  07/01/2015   PRN                 NaN   \n",
       "2  200023  07/01/2015   PRN                 NaN   \n",
       "3  200071  01/24/2018   PRN                 NaN   \n",
       "4  200071  01/14/2019   PRN                 NaN   \n",
       "\n",
       "                     _15Aug2011VisitType StorageOfResidualsDuringTrialN  \\\n",
       "0  Rescreen/Confirmatory Screening Visit                            NaN   \n",
       "1  Rescreen/Confirmatory Screening Visit                            NaN   \n",
       "2  Rescreen/Confirmatory Screening Visit                            NaN   \n",
       "3  Rescreen/Confirmatory Screening Visit                            NaN   \n",
       "4                                    NaN                            NaN   \n",
       "\n",
       "  _15Aug2011ConsentForResidualSa  _22Jul2009ConsentSignedDay  \\\n",
       "0                            Yes                         NaN   \n",
       "1                            Yes                         NaN   \n",
       "2                            Yes                         NaN   \n",
       "3                            Yes                         NaN   \n",
       "4                            NaN                         NaN   \n",
       "\n",
       "  _22Jul2009ConsentSignedMonth  _22Jul2009ConsentSignedYear  ...  \\\n",
       "0                          NaN                          NaN  ...   \n",
       "1                          NaN                          NaN  ...   \n",
       "2                          NaN                          NaN  ...   \n",
       "3                          NaN                          NaN  ...   \n",
       "4                          NaN                          NaN  ...   \n",
       "\n",
       "                Spec_Name SampleMaskID  Test_Name  Result Result_Type  \\\n",
       "0  Serum - Autoantibodies     S3827078     GAD65H       0        RPTD   \n",
       "1  Serum - Autoantibodies     S3827078       MIAA       0        RPTD   \n",
       "2  Serum - Autoantibodies     S3827078      IA-2H       0        RPTD   \n",
       "3                     NaN          NaN        NaN     NaN         NaN   \n",
       "4                     NaN          NaN        NaN     NaN         NaN   \n",
       "\n",
       "   Date_at_Test_Results_Reported Date_at_Evaluation Date_Received  \\\n",
       "0                     07/20/2015         07/14/2015    07/14/2015   \n",
       "1                     07/20/2015         07/14/2015    07/14/2015   \n",
       "2                     07/20/2015         07/14/2015    07/14/2015   \n",
       "3                            NaN                NaN           NaN   \n",
       "4                            NaN                NaN           NaN   \n",
       "\n",
       "  Date_Shipped  LabID  \n",
       "0   07/08/2015  547.0  \n",
       "1   07/08/2015  547.0  \n",
       "2   07/08/2015  547.0  \n",
       "3          NaN    NaN  \n",
       "4          NaN    NaN  \n",
       "\n",
       "[5 rows x 1578 columns]"
      ]
     },
     "execution_count": 8,
     "metadata": {},
     "output_type": "execute_result"
    }
   ],
   "source": [
    "common_headers_123 = set.intersection(set(merged_first_part.columns), set(merged_second_part.columns))\n",
    "\n",
    "# Merge the first two DataFrames on common headers using outer join\n",
    "TN_01_merged_data = pd.merge(merged_first_part, merged_second_part, on=list(common_headers_123), how='outer', \n",
    "                            suffixes=('_dup_x', '_dup_y'))\n",
    "\n",
    "print(TN_01_merged_data.info())\n",
    "TN_01_merged_data.head()"
   ]
  },
  {
   "cell_type": "code",
   "execution_count": 1,
   "id": "d6fa995c",
   "metadata": {},
   "outputs": [
    {
     "ename": "NameError",
     "evalue": "name 'TN_01_merged_data' is not defined",
     "output_type": "error",
     "traceback": [
      "\u001b[0;31m---------------------------------------------------------------------------\u001b[0m",
      "\u001b[0;31mNameError\u001b[0m                                 Traceback (most recent call last)",
      "Cell \u001b[0;32mIn[1], line 1\u001b[0m\n\u001b[0;32m----> 1\u001b[0m \u001b[43mTN_01_merged_data\u001b[49m\u001b[38;5;241m.\u001b[39mhead()\n",
      "\u001b[0;31mNameError\u001b[0m: name 'TN_01_merged_data' is not defined"
     ]
    }
   ],
   "source": [
    "TN_01_merged_data.head()"
   ]
  },
  {
   "cell_type": "code",
   "execution_count": null,
   "id": "35ffb4ea",
   "metadata": {},
   "outputs": [],
   "source": [
    "import pandas as pd\n",
    "\n",
    "def prepare_and_save_to_feather(df, file_name):\n",
    "    \"\"\"\n",
    "    Prepares a DataFrame for saving to a Feather file by ensuring consistent data types\n",
    "    and handling NaN values, then saves it to the specified file.\n",
    "\n",
    "    Parameters:\n",
    "    df (pd.DataFrame): The DataFrame to be saved.\n",
    "    file_name (str): The name of the Feather file to save.\n",
    "    \"\"\"\n",
    "    # Ensure all columns are of type 'str' to avoid mixed types.\n",
    "    # You can adjust this logic based on your specific data type needs.\n",
    "    for col in df.columns:\n",
    "        try:\n",
    "            df[col] = df[col].astype(str)\n",
    "        except Exception as e:\n",
    "            print(f\"Error converting column {col}: {e}\")\n",
    "            # Handle specific errors or fill NaN values if necessary\n",
    "            df[col] = df[col].fillna('Unknown').astype(str)\n",
    "\n",
    "    # Try saving the DataFrame to a Feather file\n",
    "    try:\n",
    "        df.to_feather(file_name)\n",
    "        print(f\"DataFrame successfully saved to {file_name}\")\n",
    "    except Exception as e:\n",
    "        print(f\"Error saving DataFrame to Feather: {e}\")\n",
    "\n",
    "# Example usage:\n",
    "prepare_and_save_to_feather(TN_01_merged_data, \"TN_01_merged_data.feather\")\n"
   ]
  },
  {
   "cell_type": "code",
   "execution_count": 13,
   "id": "52188c16",
   "metadata": {},
   "outputs": [
    {
     "ename": "ArrowTypeError",
     "evalue": "(\"Expected bytes, got a 'float' object\", 'Conversion failed for column TestingPlaceForAutoAntibodyOut with type object')",
     "output_type": "error",
     "traceback": [
      "\u001b[0;31m---------------------------------------------------------------------------\u001b[0m",
      "\u001b[0;31mArrowTypeError\u001b[0m                            Traceback (most recent call last)",
      "Cell \u001b[0;32mIn[13], line 5\u001b[0m\n\u001b[1;32m      2\u001b[0m TN_01_merged_data[\u001b[38;5;124m'\u001b[39m\u001b[38;5;124mDPT1ParticipantIDNumber\u001b[39m\u001b[38;5;124m'\u001b[39m] \u001b[38;5;241m=\u001b[39m TN_01_merged_data[\u001b[38;5;124m'\u001b[39m\u001b[38;5;124mDPT1ParticipantIDNumber\u001b[39m\u001b[38;5;124m'\u001b[39m]\u001b[38;5;241m.\u001b[39mastype(\u001b[38;5;28mstr\u001b[39m)\n\u001b[1;32m      3\u001b[0m TN_01_merged_data[\u001b[38;5;124m'\u001b[39m\u001b[38;5;124mSelectStudyForPreventionOfT1D\u001b[39m\u001b[38;5;124m'\u001b[39m] \u001b[38;5;241m=\u001b[39m TN_01_merged_data[\u001b[38;5;124m'\u001b[39m\u001b[38;5;124mSelectStudyForPreventionOfT1D\u001b[39m\u001b[38;5;124m'\u001b[39m]\u001b[38;5;241m.\u001b[39mastype(\u001b[38;5;28mstr\u001b[39m)\n\u001b[0;32m----> 5\u001b[0m \u001b[43mTN_01_merged_data\u001b[49m\u001b[38;5;241;43m.\u001b[39;49m\u001b[43mto_feather\u001b[49m\u001b[43m(\u001b[49m\u001b[38;5;124;43m\"\u001b[39;49m\u001b[38;5;124;43mTN_01_merged_data.feather\u001b[39;49m\u001b[38;5;124;43m\"\u001b[39;49m\u001b[43m)\u001b[49m\n",
      "File \u001b[0;32m~/anaconda3/envs/python3/lib/python3.10/site-packages/pandas/core/frame.py:2797\u001b[0m, in \u001b[0;36mDataFrame.to_feather\u001b[0;34m(self, path, **kwargs)\u001b[0m\n\u001b[1;32m   2769\u001b[0m \u001b[38;5;250m\u001b[39m\u001b[38;5;124;03m\"\"\"\u001b[39;00m\n\u001b[1;32m   2770\u001b[0m \u001b[38;5;124;03mWrite a DataFrame to the binary Feather format.\u001b[39;00m\n\u001b[1;32m   2771\u001b[0m \n\u001b[0;32m   (...)\u001b[0m\n\u001b[1;32m   2793\u001b[0m \u001b[38;5;124;03m>>> df.to_feather(\"file.feather\")  # doctest: +SKIP\u001b[39;00m\n\u001b[1;32m   2794\u001b[0m \u001b[38;5;124;03m\"\"\"\u001b[39;00m\n\u001b[1;32m   2795\u001b[0m \u001b[38;5;28;01mfrom\u001b[39;00m \u001b[38;5;21;01mpandas\u001b[39;00m\u001b[38;5;21;01m.\u001b[39;00m\u001b[38;5;21;01mio\u001b[39;00m\u001b[38;5;21;01m.\u001b[39;00m\u001b[38;5;21;01mfeather_format\u001b[39;00m \u001b[38;5;28;01mimport\u001b[39;00m to_feather\n\u001b[0;32m-> 2797\u001b[0m \u001b[43mto_feather\u001b[49m\u001b[43m(\u001b[49m\u001b[38;5;28;43mself\u001b[39;49m\u001b[43m,\u001b[49m\u001b[43m \u001b[49m\u001b[43mpath\u001b[49m\u001b[43m,\u001b[49m\u001b[43m \u001b[49m\u001b[38;5;241;43m*\u001b[39;49m\u001b[38;5;241;43m*\u001b[39;49m\u001b[43mkwargs\u001b[49m\u001b[43m)\u001b[49m\n",
      "File \u001b[0;32m~/anaconda3/envs/python3/lib/python3.10/site-packages/pandas/io/feather_format.py:69\u001b[0m, in \u001b[0;36mto_feather\u001b[0;34m(df, path, storage_options, **kwargs)\u001b[0m\n\u001b[1;32m     64\u001b[0m     \u001b[38;5;28;01mraise\u001b[39;00m \u001b[38;5;167;01mValueError\u001b[39;00m(\u001b[38;5;124m\"\u001b[39m\u001b[38;5;124mfeather only support IO with DataFrames\u001b[39m\u001b[38;5;124m\"\u001b[39m)\n\u001b[1;32m     66\u001b[0m \u001b[38;5;28;01mwith\u001b[39;00m get_handle(\n\u001b[1;32m     67\u001b[0m     path, \u001b[38;5;124m\"\u001b[39m\u001b[38;5;124mwb\u001b[39m\u001b[38;5;124m\"\u001b[39m, storage_options\u001b[38;5;241m=\u001b[39mstorage_options, is_text\u001b[38;5;241m=\u001b[39m\u001b[38;5;28;01mFalse\u001b[39;00m\n\u001b[1;32m     68\u001b[0m ) \u001b[38;5;28;01mas\u001b[39;00m handles:\n\u001b[0;32m---> 69\u001b[0m     \u001b[43mfeather\u001b[49m\u001b[38;5;241;43m.\u001b[39;49m\u001b[43mwrite_feather\u001b[49m\u001b[43m(\u001b[49m\u001b[43mdf\u001b[49m\u001b[43m,\u001b[49m\u001b[43m \u001b[49m\u001b[43mhandles\u001b[49m\u001b[38;5;241;43m.\u001b[39;49m\u001b[43mhandle\u001b[49m\u001b[43m,\u001b[49m\u001b[43m \u001b[49m\u001b[38;5;241;43m*\u001b[39;49m\u001b[38;5;241;43m*\u001b[39;49m\u001b[43mkwargs\u001b[49m\u001b[43m)\u001b[49m\n",
      "File \u001b[0;32m~/anaconda3/envs/python3/lib/python3.10/site-packages/pyarrow/feather.py:156\u001b[0m, in \u001b[0;36mwrite_feather\u001b[0;34m(df, dest, compression, compression_level, chunksize, version)\u001b[0m\n\u001b[1;32m    153\u001b[0m \u001b[38;5;28;01melse\u001b[39;00m:\n\u001b[1;32m    154\u001b[0m     \u001b[38;5;28;01mraise\u001b[39;00m \u001b[38;5;167;01mValueError\u001b[39;00m(\u001b[38;5;124m\"\u001b[39m\u001b[38;5;124mVersion value should either be 1 or 2\u001b[39m\u001b[38;5;124m\"\u001b[39m)\n\u001b[0;32m--> 156\u001b[0m table \u001b[38;5;241m=\u001b[39m \u001b[43mTable\u001b[49m\u001b[38;5;241;43m.\u001b[39;49m\u001b[43mfrom_pandas\u001b[49m\u001b[43m(\u001b[49m\u001b[43mdf\u001b[49m\u001b[43m,\u001b[49m\u001b[43m \u001b[49m\u001b[43mpreserve_index\u001b[49m\u001b[38;5;241;43m=\u001b[39;49m\u001b[43mpreserve_index\u001b[49m\u001b[43m)\u001b[49m\n\u001b[1;32m    158\u001b[0m \u001b[38;5;28;01mif\u001b[39;00m version \u001b[38;5;241m==\u001b[39m \u001b[38;5;241m1\u001b[39m:\n\u001b[1;32m    159\u001b[0m     \u001b[38;5;66;03m# Version 1 does not chunking\u001b[39;00m\n\u001b[1;32m    160\u001b[0m     \u001b[38;5;28;01mfor\u001b[39;00m i, name \u001b[38;5;129;01min\u001b[39;00m \u001b[38;5;28menumerate\u001b[39m(table\u001b[38;5;241m.\u001b[39mschema\u001b[38;5;241m.\u001b[39mnames):\n",
      "File \u001b[0;32m~/anaconda3/envs/python3/lib/python3.10/site-packages/pyarrow/table.pxi:3762\u001b[0m, in \u001b[0;36mpyarrow.lib.Table.from_pandas\u001b[0;34m()\u001b[0m\n",
      "File \u001b[0;32m~/anaconda3/envs/python3/lib/python3.10/site-packages/pyarrow/pandas_compat.py:624\u001b[0m, in \u001b[0;36mdataframe_to_arrays\u001b[0;34m(df, schema, preserve_index, nthreads, columns, safe)\u001b[0m\n\u001b[1;32m    622\u001b[0m     \u001b[38;5;28;01mfor\u001b[39;00m i, maybe_fut \u001b[38;5;129;01min\u001b[39;00m \u001b[38;5;28menumerate\u001b[39m(arrays):\n\u001b[1;32m    623\u001b[0m         \u001b[38;5;28;01mif\u001b[39;00m \u001b[38;5;28misinstance\u001b[39m(maybe_fut, futures\u001b[38;5;241m.\u001b[39mFuture):\n\u001b[0;32m--> 624\u001b[0m             arrays[i] \u001b[38;5;241m=\u001b[39m \u001b[43mmaybe_fut\u001b[49m\u001b[38;5;241;43m.\u001b[39;49m\u001b[43mresult\u001b[49m\u001b[43m(\u001b[49m\u001b[43m)\u001b[49m\n\u001b[1;32m    626\u001b[0m types \u001b[38;5;241m=\u001b[39m [x\u001b[38;5;241m.\u001b[39mtype \u001b[38;5;28;01mfor\u001b[39;00m x \u001b[38;5;129;01min\u001b[39;00m arrays]\n\u001b[1;32m    628\u001b[0m \u001b[38;5;28;01mif\u001b[39;00m schema \u001b[38;5;129;01mis\u001b[39;00m \u001b[38;5;28;01mNone\u001b[39;00m:\n",
      "File \u001b[0;32m~/anaconda3/envs/python3/lib/python3.10/concurrent/futures/_base.py:451\u001b[0m, in \u001b[0;36mFuture.result\u001b[0;34m(self, timeout)\u001b[0m\n\u001b[1;32m    449\u001b[0m     \u001b[38;5;28;01mraise\u001b[39;00m CancelledError()\n\u001b[1;32m    450\u001b[0m \u001b[38;5;28;01melif\u001b[39;00m \u001b[38;5;28mself\u001b[39m\u001b[38;5;241m.\u001b[39m_state \u001b[38;5;241m==\u001b[39m FINISHED:\n\u001b[0;32m--> 451\u001b[0m     \u001b[38;5;28;01mreturn\u001b[39;00m \u001b[38;5;28;43mself\u001b[39;49m\u001b[38;5;241;43m.\u001b[39;49m\u001b[43m__get_result\u001b[49m\u001b[43m(\u001b[49m\u001b[43m)\u001b[49m\n\u001b[1;32m    453\u001b[0m \u001b[38;5;28mself\u001b[39m\u001b[38;5;241m.\u001b[39m_condition\u001b[38;5;241m.\u001b[39mwait(timeout)\n\u001b[1;32m    455\u001b[0m \u001b[38;5;28;01mif\u001b[39;00m \u001b[38;5;28mself\u001b[39m\u001b[38;5;241m.\u001b[39m_state \u001b[38;5;129;01min\u001b[39;00m [CANCELLED, CANCELLED_AND_NOTIFIED]:\n",
      "File \u001b[0;32m~/anaconda3/envs/python3/lib/python3.10/concurrent/futures/_base.py:403\u001b[0m, in \u001b[0;36mFuture.__get_result\u001b[0;34m(self)\u001b[0m\n\u001b[1;32m    401\u001b[0m \u001b[38;5;28;01mif\u001b[39;00m \u001b[38;5;28mself\u001b[39m\u001b[38;5;241m.\u001b[39m_exception:\n\u001b[1;32m    402\u001b[0m     \u001b[38;5;28;01mtry\u001b[39;00m:\n\u001b[0;32m--> 403\u001b[0m         \u001b[38;5;28;01mraise\u001b[39;00m \u001b[38;5;28mself\u001b[39m\u001b[38;5;241m.\u001b[39m_exception\n\u001b[1;32m    404\u001b[0m     \u001b[38;5;28;01mfinally\u001b[39;00m:\n\u001b[1;32m    405\u001b[0m         \u001b[38;5;66;03m# Break a reference cycle with the exception in self._exception\u001b[39;00m\n\u001b[1;32m    406\u001b[0m         \u001b[38;5;28mself\u001b[39m \u001b[38;5;241m=\u001b[39m \u001b[38;5;28;01mNone\u001b[39;00m\n",
      "File \u001b[0;32m~/anaconda3/envs/python3/lib/python3.10/concurrent/futures/thread.py:58\u001b[0m, in \u001b[0;36m_WorkItem.run\u001b[0;34m(self)\u001b[0m\n\u001b[1;32m     55\u001b[0m     \u001b[38;5;28;01mreturn\u001b[39;00m\n\u001b[1;32m     57\u001b[0m \u001b[38;5;28;01mtry\u001b[39;00m:\n\u001b[0;32m---> 58\u001b[0m     result \u001b[38;5;241m=\u001b[39m \u001b[38;5;28;43mself\u001b[39;49m\u001b[38;5;241;43m.\u001b[39;49m\u001b[43mfn\u001b[49m\u001b[43m(\u001b[49m\u001b[38;5;241;43m*\u001b[39;49m\u001b[38;5;28;43mself\u001b[39;49m\u001b[38;5;241;43m.\u001b[39;49m\u001b[43margs\u001b[49m\u001b[43m,\u001b[49m\u001b[43m \u001b[49m\u001b[38;5;241;43m*\u001b[39;49m\u001b[38;5;241;43m*\u001b[39;49m\u001b[38;5;28;43mself\u001b[39;49m\u001b[38;5;241;43m.\u001b[39;49m\u001b[43mkwargs\u001b[49m\u001b[43m)\u001b[49m\n\u001b[1;32m     59\u001b[0m \u001b[38;5;28;01mexcept\u001b[39;00m \u001b[38;5;167;01mBaseException\u001b[39;00m \u001b[38;5;28;01mas\u001b[39;00m exc:\n\u001b[1;32m     60\u001b[0m     \u001b[38;5;28mself\u001b[39m\u001b[38;5;241m.\u001b[39mfuture\u001b[38;5;241m.\u001b[39mset_exception(exc)\n",
      "File \u001b[0;32m~/anaconda3/envs/python3/lib/python3.10/site-packages/pyarrow/pandas_compat.py:598\u001b[0m, in \u001b[0;36mdataframe_to_arrays.<locals>.convert_column\u001b[0;34m(col, field)\u001b[0m\n\u001b[1;32m    593\u001b[0m \u001b[38;5;28;01mexcept\u001b[39;00m (pa\u001b[38;5;241m.\u001b[39mArrowInvalid,\n\u001b[1;32m    594\u001b[0m         pa\u001b[38;5;241m.\u001b[39mArrowNotImplementedError,\n\u001b[1;32m    595\u001b[0m         pa\u001b[38;5;241m.\u001b[39mArrowTypeError) \u001b[38;5;28;01mas\u001b[39;00m e:\n\u001b[1;32m    596\u001b[0m     e\u001b[38;5;241m.\u001b[39margs \u001b[38;5;241m+\u001b[39m\u001b[38;5;241m=\u001b[39m (\u001b[38;5;124m\"\u001b[39m\u001b[38;5;124mConversion failed for column \u001b[39m\u001b[38;5;132;01m{!s}\u001b[39;00m\u001b[38;5;124m with type \u001b[39m\u001b[38;5;132;01m{!s}\u001b[39;00m\u001b[38;5;124m\"\u001b[39m\n\u001b[1;32m    597\u001b[0m                \u001b[38;5;241m.\u001b[39mformat(col\u001b[38;5;241m.\u001b[39mname, col\u001b[38;5;241m.\u001b[39mdtype),)\n\u001b[0;32m--> 598\u001b[0m     \u001b[38;5;28;01mraise\u001b[39;00m e\n\u001b[1;32m    599\u001b[0m \u001b[38;5;28;01mif\u001b[39;00m \u001b[38;5;129;01mnot\u001b[39;00m field_nullable \u001b[38;5;129;01mand\u001b[39;00m result\u001b[38;5;241m.\u001b[39mnull_count \u001b[38;5;241m>\u001b[39m \u001b[38;5;241m0\u001b[39m:\n\u001b[1;32m    600\u001b[0m     \u001b[38;5;28;01mraise\u001b[39;00m \u001b[38;5;167;01mValueError\u001b[39;00m(\u001b[38;5;124m\"\u001b[39m\u001b[38;5;124mField \u001b[39m\u001b[38;5;132;01m{}\u001b[39;00m\u001b[38;5;124m was non-nullable but pandas column \u001b[39m\u001b[38;5;124m\"\u001b[39m\n\u001b[1;32m    601\u001b[0m                      \u001b[38;5;124m\"\u001b[39m\u001b[38;5;124mhad \u001b[39m\u001b[38;5;132;01m{}\u001b[39;00m\u001b[38;5;124m null values\u001b[39m\u001b[38;5;124m\"\u001b[39m\u001b[38;5;241m.\u001b[39mformat(\u001b[38;5;28mstr\u001b[39m(field),\n\u001b[1;32m    602\u001b[0m                                                  result\u001b[38;5;241m.\u001b[39mnull_count))\n",
      "File \u001b[0;32m~/anaconda3/envs/python3/lib/python3.10/site-packages/pyarrow/pandas_compat.py:592\u001b[0m, in \u001b[0;36mdataframe_to_arrays.<locals>.convert_column\u001b[0;34m(col, field)\u001b[0m\n\u001b[1;32m    589\u001b[0m     type_ \u001b[38;5;241m=\u001b[39m field\u001b[38;5;241m.\u001b[39mtype\n\u001b[1;32m    591\u001b[0m \u001b[38;5;28;01mtry\u001b[39;00m:\n\u001b[0;32m--> 592\u001b[0m     result \u001b[38;5;241m=\u001b[39m \u001b[43mpa\u001b[49m\u001b[38;5;241;43m.\u001b[39;49m\u001b[43marray\u001b[49m\u001b[43m(\u001b[49m\u001b[43mcol\u001b[49m\u001b[43m,\u001b[49m\u001b[43m \u001b[49m\u001b[38;5;28;43mtype\u001b[39;49m\u001b[38;5;241;43m=\u001b[39;49m\u001b[43mtype_\u001b[49m\u001b[43m,\u001b[49m\u001b[43m \u001b[49m\u001b[43mfrom_pandas\u001b[49m\u001b[38;5;241;43m=\u001b[39;49m\u001b[38;5;28;43;01mTrue\u001b[39;49;00m\u001b[43m,\u001b[49m\u001b[43m \u001b[49m\u001b[43msafe\u001b[49m\u001b[38;5;241;43m=\u001b[39;49m\u001b[43msafe\u001b[49m\u001b[43m)\u001b[49m\n\u001b[1;32m    593\u001b[0m \u001b[38;5;28;01mexcept\u001b[39;00m (pa\u001b[38;5;241m.\u001b[39mArrowInvalid,\n\u001b[1;32m    594\u001b[0m         pa\u001b[38;5;241m.\u001b[39mArrowNotImplementedError,\n\u001b[1;32m    595\u001b[0m         pa\u001b[38;5;241m.\u001b[39mArrowTypeError) \u001b[38;5;28;01mas\u001b[39;00m e:\n\u001b[1;32m    596\u001b[0m     e\u001b[38;5;241m.\u001b[39margs \u001b[38;5;241m+\u001b[39m\u001b[38;5;241m=\u001b[39m (\u001b[38;5;124m\"\u001b[39m\u001b[38;5;124mConversion failed for column \u001b[39m\u001b[38;5;132;01m{!s}\u001b[39;00m\u001b[38;5;124m with type \u001b[39m\u001b[38;5;132;01m{!s}\u001b[39;00m\u001b[38;5;124m\"\u001b[39m\n\u001b[1;32m    597\u001b[0m                \u001b[38;5;241m.\u001b[39mformat(col\u001b[38;5;241m.\u001b[39mname, col\u001b[38;5;241m.\u001b[39mdtype),)\n",
      "File \u001b[0;32m~/anaconda3/envs/python3/lib/python3.10/site-packages/pyarrow/array.pxi:323\u001b[0m, in \u001b[0;36mpyarrow.lib.array\u001b[0;34m()\u001b[0m\n",
      "File \u001b[0;32m~/anaconda3/envs/python3/lib/python3.10/site-packages/pyarrow/array.pxi:83\u001b[0m, in \u001b[0;36mpyarrow.lib._ndarray_to_array\u001b[0;34m()\u001b[0m\n",
      "File \u001b[0;32m~/anaconda3/envs/python3/lib/python3.10/site-packages/pyarrow/error.pxi:123\u001b[0m, in \u001b[0;36mpyarrow.lib.check_status\u001b[0;34m()\u001b[0m\n",
      "\u001b[0;31mArrowTypeError\u001b[0m: (\"Expected bytes, got a 'float' object\", 'Conversion failed for column TestingPlaceForAutoAntibodyOut with type object')"
     ]
    }
   ],
   "source": [
    "TN_01_merged_data['OnlineScreeningReferralSource'] = TN_01_merged_data['OnlineScreeningReferralSource'].astype(str)\n",
    "TN_01_merged_data['DPT1ParticipantIDNumber'] = TN_01_merged_data['DPT1ParticipantIDNumber'].astype(str)\n",
    "TN_01_merged_data['SelectStudyForPreventionOfT1D'] = TN_01_merged_data['SelectStudyForPreventionOfT1D'].astype(str)\n",
    "\n",
    "TN_01_merged_data.to_feather(\"TN_01_merged_data.feather\")"
   ]
  },
  {
   "cell_type": "markdown",
   "id": "45a747c0",
   "metadata": {},
   "source": [
    "#### The merged dataset is too large to be saved in the working directory. We are to turn columns with numerical values and large portion of missing values into sparse data structure."
   ]
  },
  {
   "cell_type": "code",
   "execution_count": 2,
   "id": "e8c189eb",
   "metadata": {},
   "outputs": [
    {
     "ename": "NameError",
     "evalue": "name 'pd' is not defined",
     "output_type": "error",
     "traceback": [
      "\u001b[0;31m---------------------------------------------------------------------------\u001b[0m",
      "\u001b[0;31mNameError\u001b[0m                                 Traceback (most recent call last)",
      "Cell \u001b[0;32mIn[2], line 1\u001b[0m\n\u001b[0;32m----> 1\u001b[0m summary_df_tn_01 \u001b[38;5;241m=\u001b[39m \u001b[43mpd\u001b[49m\u001b[38;5;241m.\u001b[39mread_csv(\u001b[38;5;124m'\u001b[39m\u001b[38;5;124mmerged_data_summary.csv\u001b[39m\u001b[38;5;124m'\u001b[39m)\n\u001b[1;32m      2\u001b[0m summary_df_tn_01\u001b[38;5;241m.\u001b[39minfo()\n",
      "\u001b[0;31mNameError\u001b[0m: name 'pd' is not defined"
     ]
    }
   ],
   "source": [
    "summary_df_tn_01 = pd.read_csv('merged_data_summary.csv')\n",
    "summary_df_tn_01.info()"
   ]
  },
  {
   "cell_type": "markdown",
   "id": "174884be",
   "metadata": {},
   "source": [
    "### 1.2.4 Numerical data structure transformation"
   ]
  },
  {
   "cell_type": "code",
   "execution_count": null,
   "id": "feccce57",
   "metadata": {},
   "outputs": [],
   "source": [
    "# Filter based on Missing Percentage and Value Type\n",
    "filtered_columns = summary_df_tn_01[(summary_df_tn_01['Missing Percentage'] > 85) & \n",
    "                             (summary_df_tn_01['Value Type'].isin(['float16', 'int64']))]\n",
    "\n",
    "# Get the list of headers from the filtered DataFrame\n",
    "headers_with_missing_85 = filtered_columns['header'].tolist()\n",
    "\n",
    "# Print the count of columns\n",
    "print(\"Count of columns with missing Percentage > 85% and Value Type 'float16' or 'int64':\", len(headers_with_missing_85))"
   ]
  },
  {
   "cell_type": "markdown",
   "id": "73442830",
   "metadata": {},
   "source": [
    "#### Tried many times and found that: 1) for columns with very high missing values, sparse data structure significantly save memory; 2) when missing value less than 85%, sparse data structure does have advantage over float16. "
   ]
  },
  {
   "cell_type": "code",
   "execution_count": null,
   "id": "c3b68162",
   "metadata": {},
   "outputs": [],
   "source": [
    "print(TN_01_merged_data.info())\n",
    "print()\n",
    "print(TN_01_merged_data.memory_usage(deep=True).sum())"
   ]
  },
  {
   "cell_type": "code",
   "execution_count": null,
   "id": "be8b045e",
   "metadata": {},
   "outputs": [],
   "source": [
    "error_columns = []  # List to store columns that raised errors\n",
    "\n",
    "for col in headers_with_missing_85:\n",
    "    try:\n",
    "        print(\"Before transformation of\", col, \":\", TN_01_merged_data[col].memory_usage(deep=True), \"bytes\")\n",
    "        \n",
    "        # Check data type of the column\n",
    "        col_dtype = TN_01_merged_data[col].dtype\n",
    "        print(col_dtype)\n",
    "        if col_dtype == 'float16' or col_dtype == 'int64':\n",
    "            # Convert numeric columns to default sparse type\n",
    "            TN_01_merged_data[col] = pd.to_numeric(TN_01_merged_data[col], errors='coerce').astype('Sparse[float16]')\n",
    "        # No need to replace the column in the original DataFrame\n",
    "        # Just printing out the memory usage after transformation\n",
    "        print(\"After transformation to Sparse of\", col, \":\", TN_01_merged_data[col].memory_usage(deep=True), \"bytes\")\n",
    "    except ValueError as e:\n",
    "        print(f\"Error converting column {col}: {e}\")\n",
    "        error_columns.append(col)\n",
    "\n",
    "    print()\n",
    "\n",
    "# Print out columns that had errors\n",
    "if error_columns:\n",
    "    print(\"Columns with errors:\", error_columns)"
   ]
  },
  {
   "cell_type": "code",
   "execution_count": null,
   "id": "f56fe2d4",
   "metadata": {},
   "outputs": [],
   "source": [
    "print(TN_01_merged_data.info())\n",
    "print()\n",
    "print(TN_01_merged_data.memory_usage(deep=True).sum())"
   ]
  },
  {
   "cell_type": "code",
   "execution_count": null,
   "id": "882bfa7f",
   "metadata": {},
   "outputs": [],
   "source": [
    "for column in TN_01_merged_data.columns:\n",
    "    if TN_01_merged_data[column].dtype == 'object':\n",
    "        TN_01_merged_data[column] = TN_01_merged_data[column].astype('category')"
   ]
  },
  {
   "cell_type": "code",
   "execution_count": null,
   "id": "3bb810f2",
   "metadata": {},
   "outputs": [],
   "source": [
    "#TN_01_merged_data = TN_01_merged_data.drop('Unnamed: 0', axis=1)"
   ]
  },
  {
   "cell_type": "code",
   "execution_count": null,
   "id": "20440779",
   "metadata": {},
   "outputs": [],
   "source": [
    "print(TN_01_merged_data.info())\n",
    "print()\n",
    "print(TN_01_merged_data.memory_usage(deep=True).sum())"
   ]
  },
  {
   "cell_type": "markdown",
   "id": "41798b0f",
   "metadata": {},
   "source": [
    "#### change MaskID from int64 to int32"
   ]
  },
  {
   "cell_type": "code",
   "execution_count": null,
   "id": "99751dba",
   "metadata": {},
   "outputs": [],
   "source": [
    "test_col = TN_01_merged_data['MaskID']\n",
    "print(test_col.memory_usage(deep=True))\n",
    "print(test_col.head(30))\n",
    "print()\n",
    "test_col_16 = test_col.astype('int16')\n",
    "print(test_col_16.memory_usage(deep=True))\n",
    "print(test_col_16.head(30))\n",
    "print()\n",
    "test_col_32 = test_col.astype('Int32')\n",
    "print(test_col_32.memory_usage(deep=True))\n",
    "print(test_col_32.head(30))\n",
    "print()"
   ]
  },
  {
   "cell_type": "code",
   "execution_count": null,
   "id": "e972b9ab",
   "metadata": {},
   "outputs": [],
   "source": [
    "TN_01_merged_data['MaskID'] = TN_01_merged_data['MaskID'].astype('Int32')\n",
    "\n",
    "print(TN_01_merged_data.info())\n",
    "print()\n",
    "print(TN_01_merged_data.memory_usage(deep=True).sum())"
   ]
  },
  {
   "cell_type": "code",
   "execution_count": null,
   "id": "42c9a0c4",
   "metadata": {},
   "outputs": [],
   "source": [
    "unique_values = TN_01_merged_data['D5MeterReadingResult4_1'].unique()\n",
    "print(unique_values)"
   ]
  },
  {
   "cell_type": "code",
   "execution_count": null,
   "id": "1ff1ae49",
   "metadata": {},
   "outputs": [],
   "source": []
  },
  {
   "cell_type": "markdown",
   "id": "9aa153c5",
   "metadata": {},
   "source": [
    "#### turn columns as Sparse[float64] to Sparse[float16]"
   ]
  },
  {
   "cell_type": "code",
   "execution_count": null,
   "id": "db04b55a",
   "metadata": {},
   "outputs": [],
   "source": [
    "# Iterate over each column and convert if it's of type Sparse[float64]\n",
    "for column in TN_01_merged_data.columns:\n",
    "    if pd.api.types.is_sparse(TN_01_merged_data[column].dtype):\n",
    "        if TN_01_merged_data[column].dtype.subtype == np.float64:\n",
    "            TN_01_merged_data[column] = TN_01_merged_data[column].astype('Sparse[float16]')\n",
    "\n",
    "print(TN_01_merged_data.info())\n",
    "print()\n",
    "print(TN_01_merged_data.memory_usage(deep=True).sum())"
   ]
  },
  {
   "cell_type": "markdown",
   "id": "6b61cefb",
   "metadata": {},
   "source": [
    "#### turn columns as float16 to category"
   ]
  },
  {
   "cell_type": "code",
   "execution_count": null,
   "id": "9d859264",
   "metadata": {},
   "outputs": [],
   "source": [
    "test_col = TN_01_merged_data['Race_White']\n",
    "\n",
    "print(\"memory used as float16: \",test_col.memory_usage(deep=True))\n",
    "print()\n",
    "\n",
    "# Convert to float32 or float64 before converting to category\n",
    "test_col_float32 = test_col.astype('float32')\n",
    "print(\"memory used as float32: \",test_col_float32.memory_usage(deep=True))\n",
    "print()\n",
    "\n",
    "test_col_category = test_col_float32.astype('category')\n",
    "print(\"memory used as category: \", test_col_category.memory_usage(deep=True))\n"
   ]
  },
  {
   "cell_type": "code",
   "execution_count": null,
   "id": "65ddc0c9",
   "metadata": {},
   "outputs": [],
   "source": [
    "# Iterate over each column and convert if it's of type float16\n",
    "for column in TN_01_merged_data.columns:\n",
    "    if TN_01_merged_data[column].dtype == np.float16:\n",
    "        print(\"memory used as float16: \", TN_01_merged_data[column].memory_usage(deep=True))\n",
    "        #convert to float32 first\n",
    "        TN_01_merged_data[column] = TN_01_merged_data[column].astype('float32')\n",
    "        print(\"memory used as float32: \", TN_01_merged_data[column].memory_usage(deep=True))\n",
    "        # Convert the column to 'category'\n",
    "        TN_01_merged_data[column] = TN_01_merged_data[column].astype('category')\n",
    "        print(\"memory used as category: \", TN_01_merged_data[column].memory_usage(deep=True))\n",
    "        print()\n",
    "\n",
    "# Display DataFrame info and memory usage\n",
    "print(TN_01_merged_data.info())\n",
    "print()\n",
    "print(TN_01_merged_data.memory_usage(deep=True).sum())\n"
   ]
  },
  {
   "cell_type": "markdown",
   "id": "40455755",
   "metadata": {},
   "source": [
    "#### Turn SampleMaskID into integer"
   ]
  },
  {
   "cell_type": "code",
   "execution_count": null,
   "id": "7e624a3f",
   "metadata": {},
   "outputs": [],
   "source": [
    "# SampleMaskID has the biggest memory\n",
    "# To turn it into interger, we need to check whether all values are starting with 'S', and the rest of values are integer.\n",
    "column = TN_01_merged_data['SampleMaskID']\n",
    "\n",
    "print(\"memory as category: \", column.memory_usage(deep=True))\n",
    "\n",
    "test_col_obj = test_col.astype('object')\n",
    "print(\"memory as object: \",test_col_obj.memory_usage(deep=True))\n",
    "\n",
    "# Filter out missing values\n",
    "non_missing_column = column[column.notna()]\n",
    "\n",
    "# Check if values start with 'S'\n",
    "starts_with_s = non_missing_column.str.startswith('S')\n",
    "\n",
    "# Check if the rest part of the values are integers\n",
    "rest_is_integer = non_missing_column.str.lstrip('S').apply(lambda x: x.isdigit())\n",
    "\n",
    "# Combine the conditions\n",
    "all_conditions_met = starts_with_s & rest_is_integer\n",
    "\n",
    "# Check if all non-missing values in the column meet the conditions\n",
    "all_values_meet_conditions = all_conditions_met.all()\n",
    "\n",
    "print(\"Do all non-missing values start with 'S' and the rest part are integers?\", all_values_meet_conditions)"
   ]
  },
  {
   "cell_type": "markdown",
   "id": "14a3088e",
   "metadata": {},
   "source": [
    "##### No.1 change in column values: remove 'S' for 'SampleMaskID'"
   ]
  },
  {
   "cell_type": "code",
   "execution_count": null,
   "id": "3d5ef277",
   "metadata": {},
   "outputs": [],
   "source": [
    "# Strip 's' from the start of each string in the column\n",
    "TN_01_merged_data['SampleMaskID'] = TN_01_merged_data['SampleMaskID'].str.lstrip('S')\n",
    "print(\"original memory usage: \", TN_01_merged_data['SampleMaskID'].memory_usage(deep=True))"
   ]
  },
  {
   "cell_type": "code",
   "execution_count": null,
   "id": "9b0fca8a",
   "metadata": {},
   "outputs": [],
   "source": [
    "TN_01_merged_data['SampleMaskID'].head(30)"
   ]
  },
  {
   "cell_type": "code",
   "execution_count": null,
   "id": "e3026767",
   "metadata": {},
   "outputs": [],
   "source": [
    "# SexOfRelativeWithT1D14_1 as category in the dataframe with only one value: Male.  \n",
    "test_col = TN_01_merged_data['SampleMaskID'] \n",
    "\n",
    "print(\"original memory usage: \", test_col.memory_usage(deep=True))\n",
    "test_col_32 = test_col.astype('Int32')\n",
    "print(\"memory usage as Int32: \", test_col_32.memory_usage(deep=True))\n",
    "print(test_col_32.head(30))\n",
    "\n",
    "test_col_16 = test_col.astype('Int16')\n",
    "print(\"memory usage as Int16: \", test_col_16.memory_usage(deep=True))\n",
    "print(test_col_16.head(30))"
   ]
  },
  {
   "cell_type": "code",
   "execution_count": null,
   "id": "d308a9ea",
   "metadata": {},
   "outputs": [],
   "source": [
    "# Convert the column to nullable integer type Int32\n",
    "TN_01_merged_data['SampleMaskID'] = TN_01_merged_data['SampleMaskID'].astype('Int32')\n",
    "print(\"memory as Int32: \", TN_01_merged_data['SampleMaskID'].memory_usage(deep=True))"
   ]
  },
  {
   "cell_type": "code",
   "execution_count": null,
   "id": "8c2098e7",
   "metadata": {},
   "outputs": [],
   "source": [
    "# Display DataFrame info and memory usage\n",
    "print(TN_01_merged_data.info())\n",
    "print()\n",
    "print(TN_01_merged_data.memory_usage(deep=True).sum())"
   ]
  },
  {
   "cell_type": "code",
   "execution_count": null,
   "id": "8d84a2fc",
   "metadata": {},
   "outputs": [],
   "source": [
    "top_5_values = TN_01_merged_data['SampleMaskID'].value_counts().nlargest(5)\n",
    "print(top_5_values)"
   ]
  },
  {
   "cell_type": "code",
   "execution_count": null,
   "id": "f41bd3d0",
   "metadata": {},
   "outputs": [],
   "source": []
  },
  {
   "cell_type": "markdown",
   "id": "5087568f",
   "metadata": {},
   "source": [
    "#### turn some category into Sparse[str]"
   ]
  },
  {
   "cell_type": "code",
   "execution_count": null,
   "id": "b65dfc3a",
   "metadata": {},
   "outputs": [],
   "source": [
    "# SexOfRelativeWithT1D14_1 as category in the dataframe with only one value: Male.  \n",
    "test_col = TN_01_merged_data['SexOfRelativeWithT1D14_1']\n",
    "\n",
    "print(test_col.memory_usage(deep=True))\n",
    "print()\n",
    "\n",
    "test_col_category = test_col.astype('Sparse[str]')\n",
    "print(test_col_category.memory_usage(deep=True))"
   ]
  },
  {
   "cell_type": "markdown",
   "id": "bc5bc9c5",
   "metadata": {},
   "source": [
    "#### It is an unefficient way to turn string values into sparse even when the column with nearly 100% missing values. "
   ]
  },
  {
   "cell_type": "code",
   "execution_count": null,
   "id": "c12b33ee",
   "metadata": {},
   "outputs": [],
   "source": []
  },
  {
   "cell_type": "markdown",
   "id": "10487417",
   "metadata": {},
   "source": []
  },
  {
   "cell_type": "code",
   "execution_count": null,
   "id": "00995457",
   "metadata": {},
   "outputs": [],
   "source": []
  },
  {
   "cell_type": "code",
   "execution_count": null,
   "id": "c551c9d8",
   "metadata": {},
   "outputs": [],
   "source": []
  },
  {
   "cell_type": "code",
   "execution_count": null,
   "id": "f63ec3f7",
   "metadata": {},
   "outputs": [],
   "source": []
  },
  {
   "cell_type": "code",
   "execution_count": null,
   "id": "76456c5b",
   "metadata": {},
   "outputs": [],
   "source": []
  },
  {
   "cell_type": "code",
   "execution_count": null,
   "id": "a8aa9aac",
   "metadata": {},
   "outputs": [],
   "source": []
  },
  {
   "cell_type": "code",
   "execution_count": null,
   "id": "39f1b7ef",
   "metadata": {},
   "outputs": [],
   "source": []
  },
  {
   "cell_type": "code",
   "execution_count": null,
   "id": "505731e7",
   "metadata": {},
   "outputs": [],
   "source": []
  },
  {
   "cell_type": "code",
   "execution_count": null,
   "id": "d81d17e6",
   "metadata": {},
   "outputs": [],
   "source": []
  },
  {
   "cell_type": "code",
   "execution_count": null,
   "id": "52cb2495",
   "metadata": {},
   "outputs": [],
   "source": []
  },
  {
   "cell_type": "markdown",
   "id": "ce0e3ee8",
   "metadata": {},
   "source": [
    "#### Function to check memory usage of a dataframe"
   ]
  },
  {
   "cell_type": "code",
   "execution_count": null,
   "id": "2f567b1c",
   "metadata": {},
   "outputs": [],
   "source": [
    "import pandas as pd\n",
    "\n",
    "# Assuming merged_data_all is your DataFrame\n",
    "\n",
    "def column_memory_usage(df):\n",
    "    # List to store memory usage and data types\n",
    "    memory_info = []\n",
    "\n",
    "    # Iterating through each column to get memory usage and data type\n",
    "    for col in df.columns:\n",
    "        memory = df[col].memory_usage(deep=True)\n",
    "        dtype = df[col].dtype\n",
    "        memory_info.append({'Column': col, 'Memory Usage (Bytes)': memory, 'Data Type': dtype})\n",
    "\n",
    "    # Create a DataFrame from the list\n",
    "    memory_df = pd.DataFrame(memory_info)\n",
    "\n",
    "    # Sorting by memory usage in descending order\n",
    "    memory_df = memory_df.sort_values(by='Memory Usage (Bytes)', ascending=False)\n",
    "\n",
    "    return memory_df"
   ]
  },
  {
   "cell_type": "code",
   "execution_count": null,
   "id": "dba2b395",
   "metadata": {},
   "outputs": [],
   "source": [
    "# Call the function and store the result\n",
    "column_memory_info = column_memory_usage(TN_01_merged_data)\n",
    "\n",
    "# Display the result\n",
    "print(column_memory_info.info())\n",
    "\n",
    "column_memory_info.to_csv('TN_01_memory_usage_2.csv', index = False)"
   ]
  },
  {
   "cell_type": "code",
   "execution_count": null,
   "id": "3d506305",
   "metadata": {},
   "outputs": [],
   "source": []
  },
  {
   "cell_type": "code",
   "execution_count": null,
   "id": "9a4fb035",
   "metadata": {},
   "outputs": [],
   "source": []
  },
  {
   "cell_type": "markdown",
   "id": "9d143697",
   "metadata": {},
   "source": [
    "## 1.2 TN_16"
   ]
  },
  {
   "cell_type": "code",
   "execution_count": null,
   "id": "9f011381",
   "metadata": {},
   "outputs": [],
   "source": [
    "import pandas as pd\n",
    "from pandas.core.computation.check import NUMEXPR_INSTALLED\n",
    "import numpy as np\n",
    "import warnings\n",
    "warnings.filterwarnings('ignore')"
   ]
  },
  {
   "cell_type": "code",
   "execution_count": 5,
   "id": "d539436d",
   "metadata": {},
   "outputs": [
    {
     "name": "stdout",
     "output_type": "stream",
     "text": [
      "<class 'pandas.core.frame.DataFrame'>\n",
      "RangeIndex: 2445461 entries, 0 to 2445460\n",
      "Columns: 262 entries, MaskID to LabID\n",
      "dtypes: float64(99), object(163)\n",
      "memory usage: 4.8+ GB\n",
      "None\n",
      "19758580453\n"
     ]
    }
   ],
   "source": [
    "# The following code is to load \n",
    "# load the merged data of TN_16\n",
    "file_path_16 = \"TN_16_merged_data.csv\"\n",
    "\n",
    "TN_16_merged_data = pd.read_csv(file_path_16)\n",
    "\n",
    "print(TN_16_merged_data.info())\n",
    "print(TN_16_merged_data.memory_usage(deep=True).sum())"
   ]
  },
  {
   "cell_type": "code",
   "execution_count": null,
   "id": "53689be7",
   "metadata": {},
   "outputs": [],
   "source": [
    "import pandas as pd\n",
    "\n",
    "def prepare_and_save_to_feather(df, file_name):\n",
    "    \"\"\"\n",
    "    Prepares a DataFrame for saving to a Feather file by ensuring consistent data types\n",
    "    and handling NaN values, then saves it to the specified file.\n",
    "\n",
    "    Parameters:\n",
    "    df (pd.DataFrame): The DataFrame to be saved.\n",
    "    file_name (str): The name of the Feather file to save.\n",
    "    \"\"\"\n",
    "    # Ensure all columns are of type 'str' to avoid mixed types.\n",
    "    # You can adjust this logic based on your specific data type needs.\n",
    "    for col in df.columns:\n",
    "        try:\n",
    "            df[col] = df[col].astype(str)\n",
    "        except Exception as e:\n",
    "            print(f\"Error converting column {col}: {e}\")\n",
    "            # Handle specific errors or fill NaN values if necessary\n",
    "            df[col] = df[col].fillna('Unknown').astype(str)\n",
    "\n",
    "    # Try saving the DataFrame to a Feather file\n",
    "    try:\n",
    "        df.to_feather(file_name)\n",
    "        print(f\"DataFrame successfully saved to {file_name}\")\n",
    "    except Exception as e:\n",
    "        print(f\"Error saving DataFrame to Feather: {e}\")\n",
    "\n",
    "# Example usage:\n",
    "prepare_and_save_to_feather(TN_16_merged_data, \"TN_16_merged_data.feather\")\n"
   ]
  },
  {
   "cell_type": "code",
   "execution_count": null,
   "id": "d03b729a",
   "metadata": {},
   "outputs": [],
   "source": []
  },
  {
   "cell_type": "code",
   "execution_count": null,
   "id": "a297e53a",
   "metadata": {},
   "outputs": [],
   "source": []
  },
  {
   "cell_type": "code",
   "execution_count": null,
   "id": "5a4a68f8",
   "metadata": {},
   "outputs": [],
   "source": []
  },
  {
   "cell_type": "code",
   "execution_count": null,
   "id": "207a2e64",
   "metadata": {},
   "outputs": [],
   "source": []
  },
  {
   "cell_type": "code",
   "execution_count": null,
   "id": "d75e294d",
   "metadata": {},
   "outputs": [],
   "source": [
    "dtypes={'AECausalityByReviewer': 'object',\n",
    "       'AEOccurDtDay': 'float64',\n",
    "       'AEOccurDtMonth': 'float64',\n",
    "       'AEOccurDtYear': 'float64',\n",
    "       'AEReasonForFollowup': 'object',\n",
    "       'AEReportDtDay': 'float64',\n",
    "       'AEReportDtMonth': 'float64',\n",
    "       'AEReportDtYear': 'float64',\n",
    "       'AEReporterStaffCode': 'float64',\n",
    "       'AEResolveDtDay': 'float64',\n",
    "       'AEResolveDtMonth': 'float64',\n",
    "       'AEResolveDtYear': 'float64',\n",
    "       'AEReviewPriorSimilarSAEs': 'object',\n",
    "       'AEReviewReportingTimeframe': 'object',\n",
    "       'AEReviewTreatmentUnblindedForC': 'object',\n",
    "       'AdverseEventID': 'float64',\n",
    "       'AreThere3GlucoseValuesAvailabl': 'object',\n",
    "       'AssessDateDay': 'float64',\n",
    "       'AssessDateYear': 'float64',\n",
    "       'AvgAllRecordedGlucosesMmoll': 'object',\n",
    "       'AvgRecordedFastingGlucosesmmol': 'object',\n",
    "       'ConMedsFrequencyOtherDetail': 'object',\n",
    "       'ConMedsIntervalOtherDetails': 'object',\n",
    "       'DateRecordedMM1': 'object',\n",
    "       'DateRecordedMM2': 'object',\n",
    "       'DateRecordedMM3': 'object',\n",
    "       'DateStatusChangeDay': 'float64',\n",
    "       'DateStatusChangeYear': 'float64',\n",
    "       'DoWDay': 'float64',\n",
    "       'DoWYear': 'float64',\n",
    "       'Dose': 'float64',\n",
    "       'HighestGlucosemmol': 'object',\n",
    "       'IfMiscellaneousSpecify': 'object',\n",
    "       'InsulDoseInfoAvailableFor3Days': 'object',\n",
    "       'InsulinDoseLast24Hrs': 'float64',\n",
    "       'InsulinRoutineDaily': 'object',\n",
    "       'LastHbA1cDay': 'float64',\n",
    "       'LastHbA1cYear': 'float64',\n",
    "       'LowestGlucosemmoll': 'object',\n",
    "       'MMTTCollected': 'object',\n",
    "       'OGTTCollected': 'object',\n",
    "       'PInotified': 'object',\n",
    "       'ProtcolDeviationMonth': 'object',\n",
    "       'ProtocolDeviationOtherSubcateg': 'object',\n",
    "       'ProtocolVersion': 'object',\n",
    "       'RequiredSpecimensCollected': 'object',\n",
    "       'Result': 'object',\n",
    "       'StartDateDay': 'float64',\n",
    "       'StartDateYear': 'float64',\n",
    "       'StopDateMonth': 'object',\n",
    "       'SubjectRandomizedInelgibilityA': 'object',\n",
    "       'SubjectUsingCGMS': 'object',\n",
    "       'TN16ProtocolDeviation': 'object',\n",
    "       'Visit_Dt_dup1': 'object',\n",
    "       'Visit_Dt_dup9': 'object',\n",
    "       'Visit_dup1': 'object',\n",
    "       'Visit_dup9': 'object',\n",
    "       'WeightKg': 'float64',\n",
    "       'severity': 'float64',\n",
    "       'AECategory': 'object',\n",
    "       'LabID': 'float64',\n",
    "       'Eventabateafterstoppingdrug': 'object',\n",
    "       'Date_of_Study_Start': 'object',\n",
    "        'AECausalityByReporter' : 'object',\n",
    "        'Current_Site_Number' : 'object',\n",
    "        'ReasonForWithdrawal': 'object',\n",
    "        'Eventreappearafterreintroducti' : 'object',\n",
    "        'AETerm' : 'object',\n",
    "        'AEExpected1_1' : 'object',\n",
    "        'AEPrimarySecondary1_1' : 'object',\n",
    "        'AEReportType' : 'object',\n",
    "        'AEPatientOutcome1_1': 'object',\n",
    "        'WillingToBeContacted': 'object',\n",
    "        'Old_Site_Number': 'object',\n",
    "        'Date_of_Registration': 'object',\n",
    "        'ChangeOfStatusOccuring': 'object',\n",
    "        'AETreatLocation': 'object',\n",
    "        'DateStatusChangeMonth': 'object',\n",
    "        'Reason_for_Transfer': 'object',\n",
    "        'Status': 'object',\n",
    "        'DoWMonth': 'object'    \n",
    "       }"
   ]
  },
  {
   "cell_type": "code",
   "execution_count": null,
   "id": "1a59f471",
   "metadata": {},
   "outputs": [],
   "source": [
    "dtype={'AEAdditionalInfoRequested': 'object',\n",
    "       'AESerious': 'object',\n",
    "       'AETreatLocationOther': 'object',\n",
    "       'AddisonsDiseaseWithinLast6Months': 'object',\n",
    "       'AddisonsDiseaseWithinLast6Months_dup16': 'object',\n",
    "       'AdmissionMonth': 'object',\n",
    "       'AllergiesWithinLast6Months': 'object',\n",
    "       'AllergiesWithinLast6Months_dup16': 'object',\n",
    "       'AlopeciaWithinLast6Months': 'object',\n",
    "       'AlopeciaWithinLast6Months_dup16': 'object',\n",
    "       'AlphaGlucosidaseInhibitors': 'object',\n",
    "       'AlphaGlucosidaseInhibitors_dup16': 'object',\n",
    "       'AnionGapMonth': 'object',\n",
    "       'AnionGapUnits': 'object',\n",
    "       'AntibodySampleCollected_dup15': 'object',\n",
    "       'AntibodySampleCollected_dup16': 'object',\n",
    "       'AsthmaWithinLast6Months': 'object',\n",
    "       'AsthmaWithinLast6Months_dup16': 'object',\n",
    "       'BasophilsResultsNormal': 'object',\n",
    "       'BetaBlockers_dup15': 'object',\n",
    "       'BetaBlockers_dup16': 'object',\n",
    "       'BiweeklyInjectionVisitSchedule': 'object',\n",
    "       'BllodForDNASampleCollected_dup15': 'object',\n",
    "       'BllodForDNASampleCollected_dup16': 'object',\n",
    "       'BloodForCellsSampleCollected_dup15': 'object',\n",
    "       'BloodForCellsSampleCollected_dup16': 'object',\n",
    "       'BloodForRNASampleCollected_dup15': 'object',\n",
    "       'BloodForRNASampleCollected_dup16': 'object',\n",
    "       'CancerWithinLast6Months': 'object',\n",
    "       'CancerWithinLast6Months_dup16': 'object',\n",
    "       'CeliacDiseaseWithinLast6Months': 'object',\n",
    "       'CeliacDiseaseWithinLast6Months_dup16': 'object',\n",
    "       'CentralIRBOrlocalIRB': 'object',\n",
    "       'CentralIRBOrlocalIRB_dup26': 'object',\n",
    "       'ColitisOrColonProblemsWithinLa_dup15': 'object',\n",
    "       'ColitisOrColonProblemsWithinLa_dup16': 'object',\n",
    "       'ConcernsAboutReceivingPlaceboR': 'object',\n",
    "       'ConflictingResponsibilitiesRan': 'object',\n",
    "       'CongenitalHeartDiseaseWithinLa_dup15': 'object',\n",
    "       'CongenitalHeartDiseaseWithinLa_dup16': 'object',\n",
    "       'ConsenToContinuedStorageOfBloo_dup15': 'object',\n",
    "       'ConsenToContinuedStorageOfBloo_dup16': 'object',\n",
    "       'Corticosteroids_dup15': 'object',\n",
    "       'Corticosteroids_dup16': 'object',\n",
    "       'CriteriaParticipantDiagnosewit': 'object',\n",
    "       'CurrentPhase': 'object',\n",
    "       'D1FastingPlasmaGlucMM1_1': 'object',\n",
    "       'D1FastingPlasmaGlucUnits1_1': 'object',\n",
    "       'D2b2HourGlucMM1_1': 'object',\n",
    "       'D2b2HourGlucUnits1_1': 'object',\n",
    "       'D3RandomPlasmaGlucMM1_1': 'object',\n",
    "       'D3RandomPlasmaGlucUnits1_1': 'object',\n",
    "       'D4HbA1cMM1_1': 'object',\n",
    "       'D5MeterReadingLoc1_1': 'object',\n",
    "       'D5MeterReadingMM1_1': 'object',\n",
    "       'D5MeterReadingUnit1_1': 'object',\n",
    "       'D5OtherTestResultMM1_1': 'object',\n",
    "       'D5OtherTestResultMM2_1': 'object',\n",
    "       'D6OtherTestResultUnit2_1': 'object',\n",
    "       'DateCompletionMM': 'object',\n",
    "       'DateConsentSignedMonth_dup15': 'object',\n",
    "       'DateControlBecameAutoantibodyP2': 'object',\n",
    "       'DateOfBloodDrawMonth': 'object',\n",
    "       'DateParticipantwascontacted1_2': 'object',\n",
    "       'DateReportedMonth': 'object',\n",
    "       'DateSignedNEWInformedConsentFo2_dup15': 'object',\n",
    "       'DateSignedNEWInformedConsentFo2_dup16': 'object',\n",
    "       'DateofAssessmentMM': 'object',\n",
    "       'DatestudyendpointmetMM': 'object',\n",
    "       'DiagnosisBy': 'object',\n",
    "       'DiagnosisByOthersSpecify': 'object',\n",
    "       'DiagnosisMonth': 'object',\n",
    "       'Didtheparticipantindicatetheym': 'object',\n",
    "       'Diphenylhydantoin_dup15': 'object',\n",
    "       'Diphenylhydantoin_dup16': 'object',\n",
    "       'DischargeMonth': 'object',\n",
    "       'DoRMonth': 'object',\n",
    "       'DoesNotTolerateOGTTRank': 'object',\n",
    "       'DoesTheParticipantWishToContin': 'object',\n",
    "       'E1aDKA': 'object',\n",
    "       'E1bDateOfOnsetMM': 'object',\n",
    "       'E1bPolyuria': 'object',\n",
    "       'E1cDateofOnsetMM': 'object',\n",
    "       'E1cPolydipsia': 'object',\n",
    "       'E1dPolyphagia': 'object',\n",
    "       'E1eUnexplainedWeightLoss': 'object',\n",
    "       'EosinophilsResultsNormal': 'object',\n",
    "       'EpilepsyConvulsionsSeizuresWit_dup15': 'object',\n",
    "       'EpilepsyConvulsionsSeizuresWit_dup16': 'object',\n",
    "       'F1DateStudyEndpointMetMM': 'object',\n",
    "       'F2ClinicalDiagnosisDateMM': 'object',\n",
    "       'FamilyWishesToWaitUntilOlderRa': 'object',\n",
    "       'Fatigue': 'object',\n",
    "       'FatigueMonth': 'object',\n",
    "       'FearOfStudyDrugRisksRank': 'object',\n",
    "       'FinalContactAttempt1_1': 'object',\n",
    "       'Followupstatuscode': 'object',\n",
    "       'GlucoseMonth1_1': 'object',\n",
    "       'GlucoseMonth2_1': 'object',\n",
    "       'GlucoseMonth3_1': 'object',\n",
    "       'GlucoseMonth4_1': 'object',\n",
    "       'GlucoseType1_1': 'object',\n",
    "       'GlucoseType2_1': 'object',\n",
    "       'GlucoseType3_1': 'object',\n",
    "       'GlucoseType4_1': 'object',\n",
    "       'H1OtherSymptoms': 'object',\n",
    "       'H2OvernightHospitalization': 'object',\n",
    "       'H3AdmissionToICU': 'object',\n",
    "       'H4DKA': 'object',\n",
    "       'H5StartedInsulin': 'object',\n",
    "       'Hastheparticipantbeentestedfor': 'object',\n",
    "       'Hastheparticipantbeentoahealth': 'object',\n",
    "       'Hastheparticipantexperiencedvo': 'object',\n",
    "       'Hastheparticipanthadacough': 'object',\n",
    "       'Hastheparticipanthadafever': 'object',\n",
    "       'Hastheparticipanthadalossreduc': 'object',\n",
    "       'Hastheparticipanthadanydifficu': 'object',\n",
    "       'Hastheparticipanthadanypersist': 'object',\n",
    "       'Hastheparticipanthadchillsasso': 'object',\n",
    "       'Hastheparticipanthadknownconta': 'object',\n",
    "       'Hastheparticipanthadknownconta2': 'object',\n",
    "       'Hasthesubjectexperiencedblurre': 'object',\n",
    "       'Hasthesubjectexperiencedpolydy': 'object',\n",
    "       'Hasthesubjectexperiencedpolyur': 'object',\n",
    "       'Hasthesubjectexperienceduninte': 'object',\n",
    "       'Hasthesubjectprovidedcontinued': 'object',\n",
    "       'Havetherebeenanychangesinthepa': 'object',\n",
    "       'HbA1cMonth': 'object',\n",
    "       'HbA1cSamplesCollected_dup15': 'object',\n",
    "       'HbA1cSamplesCollected_dup16': 'object',\n",
    "       'Height': 'object',\n",
    "       'Height_dup16': 'object',\n",
    "       'HematocritResultsNormal': 'object',\n",
    "       'HemoglobinResultAbormalClinica': 'object',\n",
    "       'HemoglobinResultsNormal': 'object',\n",
    "       'HepatitisOrLiverDiseaseWithinL_dup15': 'object',\n",
    "       'HepatitisOrLiverDiseaseWithinL_dup16': 'object',\n",
    "       'HighBPwithinLast6Months': 'object',\n",
    "       'HighBPwithinLast6Months_dup16': 'object',\n",
    "       'HighCholesterolWithinLast6Months': 'object',\n",
    "       'HighCholestrolWithinLast6Months': 'object',\n",
    "       'HospitalizedAtDiagnosisTime': 'object',\n",
    "       'IfYesOutcomeofCOVID19Test': 'object',\n",
    "       'IfyesDateCOVID19TestAdminister2': 'object',\n",
    "       'ImmunosuppressiveTherapies_dup15': 'object',\n",
    "       'ImmunosuppressiveTherapies_dup16': 'object',\n",
    "       'IndicateTheStudyParticipantWas': 'object',\n",
    "       'IndicateTheStudyParticipantWas_dup9': 'object',\n",
    "       'InfectiousMononucleosisWithinL_dup15': 'object',\n",
    "       'InfectiousMononucleosisWithinL_dup16': 'object',\n",
    "       'InflammatoryBowelDiseaseWithin_dup15': 'object',\n",
    "       'InflammatoryBowelDiseaseWithin_dup16': 'object',\n",
    "       'Informationgatheredfrom': 'object',\n",
    "       'InsulinTreatmentStartedMonth': 'object',\n",
    "       'IsParticipantCurrentlyEligible': 'object',\n",
    "       'IsParticipantPregnant': 'object',\n",
    "       'IsParticipantPregnant_dup16': 'object',\n",
    "       'IsTheParticipantInterested': 'object',\n",
    "       'Istheparticipantinterestedinth': 'object',\n",
    "       'Ketoacidosis': 'object',\n",
    "       'LimitedLifeExpectancyOrImmunos': 'object',\n",
    "       'LimitedLifeExpectancyOrImmunos_dup16': 'object',\n",
    "       'LymphocytesResultsNormal': 'object',\n",
    "       'MCHCResultAbormalClinicallySig': 'object',\n",
    "       'MCHCresultsNormal': 'object',\n",
    "       'MCHResultAbormalClinicallySign': 'object',\n",
    "       'MCHresultsNormal': 'object',\n",
    "       'MCVResultAbormalClinicallySign': 'object',\n",
    "       'MCVresultsNormal': 'object',\n",
    "       'MeasuredBy1_1': 'object',\n",
    "       'MeasuredBy2_1': 'object',\n",
    "       'MeasuredBy3_1': 'object',\n",
    "       'MeasuredBy4_1': 'object',\n",
    "       'MechanisticSampleCollectionMon_dup15': 'object',\n",
    "       'MechanisticSampleCollectionMon_dup16': 'object',\n",
    "       'Meglinitides': 'object',\n",
    "       'Meglitinides': 'object',\n",
    "       'Metformin': 'object',\n",
    "       'Metformin_dup16': 'object',\n",
    "       'MethodofContact': 'object',\n",
    "       'MonocytesResultAbormalClinical': 'object',\n",
    "       'MonocytesResultsNormal': 'object',\n",
    "       'MonthlyInfusionVisitScheduleRa': 'object',\n",
    "       'MultipleSclerosisWithinLast6Mo': 'object',\n",
    "       'MultipleSclerosisWithinLast6Mo_dup16': 'object',\n",
    "       'NeutrophilsResultsNormal': 'object',\n",
    "       'Niacin_dup15': 'object',\n",
    "       'Niacin_dup16': 'object',\n",
    "       'NotificationStatus': 'object',\n",
    "       'OGTTSampleCollected_dup15': 'object',\n",
    "       'OGTTSampleCollected_dup16': 'object',\n",
    "       'OtherAutoimmuneDiseasesWithinL_dup15': 'object',\n",
    "       'OtherAutoimmuneDiseasesWithinL_dup16': 'object',\n",
    "       'OtherGlucoseLoweringAgents': 'object',\n",
    "       'OtherGlucoseLoweringAgents_dup16': 'object',\n",
    "       'OtherRank': 'object',\n",
    "       'ParticipantAgreeToContinue': 'object',\n",
    "       'ParticipantContacted': 'object',\n",
    "       'ParticipantDiagnosedWithT1D_dup15': 'object',\n",
    "       'ParticipantDiagnosedWithT1D_dup16': 'object',\n",
    "       'ParticipantExpectedToContinue': 'object',\n",
    "       'ParticipantPregnant_dup15': 'object',\n",
    "       'ParticipantPregnant_dup16': 'object',\n",
    "       'ParticipantUsedInsulinOrOtherG_dup15': 'object',\n",
    "       'ParticipantUsedInsulinOrOtherG_dup16': 'object',\n",
    "       'ParticipantWasContactedByOther': 'object',\n",
    "       'ParticipantWillingToBeContacte': 'object',\n",
    "       'Participantisahotleadwarmleado': 'object',\n",
    "       'PermissionForSampleStorage_dup15': 'object',\n",
    "       'PerniciousAnemiaWithinLast6Mo': 'object',\n",
    "       'PerniciousAnemiaWithinLast6Mo_dup16': 'object',\n",
    "       'PlasmaGlucoseMonth': 'object',\n",
    "       'PlasmaGlucoseUnits': 'object',\n",
    "       'PlasmaSampleCollected_dup15': 'object',\n",
    "       'PlasmaSampleCollected_dup16': 'object',\n",
    "       'PlateletCountResultsNormal2': 'object',\n",
    "       'Pleaseselecttypeofcontactattem': 'object',\n",
    "       'Polydipsia': 'object',\n",
    "       'PolydipsiaMonth': 'object',\n",
    "       'Polyphagia': 'object',\n",
    "       'PolyphagiaMonth': 'object',\n",
    "       'Polyuria': 'object',\n",
    "       'PolyuriaMonth': 'object',\n",
    "       'PotassiumDepletingDiurectics_dup15': 'object',\n",
    "       'PotassiumDepletingDiurectics_dup16': 'object',\n",
    "       'PregnancyCompletionMonth': 'object',\n",
    "       'ProtocolDeviation': 'object',\n",
    "       'PsoriasisWithinLast6Months': 'object',\n",
    "       'PsoriasisWithinLast6Months_dup16': 'object',\n",
    "       'RBCResultAbormalClinicallySign': 'object',\n",
    "       'RBCResultsNormal': 'object',\n",
    "       'RecommendConsentChange': 'object',\n",
    "       'RecommendProtocolChange': 'object',\n",
    "       'RheumatologicWithinLast6Months': 'object',\n",
    "       'RheumatologicWithinLast6Months_dup16': 'object',\n",
    "       'SamplesCollectionMonth_dup15': 'object',\n",
    "       'SamplesCollectionMonth_dup16': 'object',\n",
    "       'SerumForProteomicsSampleCollec_dup15': 'object',\n",
    "       'SerumForProteomicsSampleCollec_dup16': 'object',\n",
    "       'SerumMechanisticSerumSampleCol': 'object',\n",
    "       'SignedMonitoringConsentProtoco': 'object',\n",
    "       'SignedMonitoringConsentProtoco_dup16': 'object',\n",
    "       'SiteInvestigatorAckStudyEndPoi': 'object',\n",
    "       'Spring2019ConsentDateMonth': 'object',\n",
    "       'TN01ParticipantStatusSectionB': 'object',\n",
    "       'TN16TN19TN20EligibilityStatus': 'object',\n",
    "       'TN18Exclusion12bDoesthiscondit': 'object',\n",
    "       'Thiazolidinediones': 'object',\n",
    "       'Thiazolidinediones_dup16': 'object',\n",
    "       'ThyroidDiseaseWithinLast6Months': 'object',\n",
    "       'ThyroidDiseaseWithinLast6Months_dup16': 'object',\n",
    "       'TimeCommitmentRank': 'object',\n",
    "       'TypeofTestAdministered': 'object',\n",
    "       'UlcerWithinLast6Months': 'object',\n",
    "       'UlcerWithinLast6Months_dup16': 'object',\n",
    "       'UnableUnwillingToTravelRank': 'object',\n",
    "       'UnexplainedWeightLoss': 'object',\n",
    "       'Units1_1': 'object',\n",
    "       'Units2_1': 'object',\n",
    "       'Units3_1': 'object',\n",
    "       'Units4_1': 'object',\n",
    "       'UnwillingToTakeInvestigational': 'object',\n",
    "       'UrineKetonesMonth': 'object',\n",
    "       'Visit_Type_dup15': 'object',\n",
    "       'VistMissed': 'object',\n",
    "       'VitiligoWithinLast6Months': 'object',\n",
    "       'VitiligoWithinLast6Months_dup16': 'object',\n",
    "       'WBCresultsNormal': 'object',\n",
    "       'WasTheParticipantNotified': 'object',\n",
    "       'WastheCOVID19diagnosissuspecte': 'object',\n",
    "       'Wastheparticipanthospitalizedd': 'object',\n",
    "       'WastheparticipantplacedintheIC': 'object',\n",
    "       'Wastheparticipantplacedonavent': 'object',\n",
    "       'Wastheparticipanttreatedwithme': 'object',\n",
    "       'Weight': 'object',\n",
    "       'Weight_dup16': 'object',\n",
    "       'Whatwastheseverity': 'object',\n",
    "       'Whendidthecoughoccur': 'object',\n",
    "       'WhendidthesesymptomsOccur': 'object',\n",
    "       'WhichProtocolVersion2': 'object',\n",
    "       'WholeBloodPBMCPlasmaSampleColl': 'object',\n",
    "       'WillingToContinueAfterPregnanc': 'object',\n",
    "       '_22Jul2009ConsentSignedMonth': 'object',\n",
    "       '_22Jul2009ScreeningInformedCon': 'object',\n",
    "       '_22Jul2009VisitType': 'object',\n",
    "       '_2WeekIfusionPeriodRank': 'object',\n",
    "       '_2aIfyes': 'object',\n",
    "       '_2dMailedLetter': 'object',\n",
    "       '_3aIfyes': 'object',\n",
    "       '_8Hastheparticipantbeendiagnos': 'object',\n",
    "       'centralIRBscriteria': 'object',\n",
    "       'centralIRBscriteria_dup26': 'object',\n",
    "       'f1availableWeightMM': 'object',\n",
    "       'f1availableWeightUnits': 'object',\n",
    "       'f2availableWeightMM': 'object',\n",
    "       'f2availableWeightUnits': 'object',\n",
    "       'hyperglycemia': 'object',\n",
    "       'hyperglycemia_dup16': 'object',\n",
    "       'immunomodulatory': 'object',\n",
    "       'immunomodulatory_dup16': 'object',\n",
    "       'participantdiagnosedT1D': 'object',\n",
    "       'participantdiagnosedT1D_dup16': 'object',\n",
    "       'systemicsteroids': 'object',\n",
    "       'systemicsteroids_dup16': 'object',\n",
    "       'testName1_1': 'object',\n",
    "       'testName2_1': 'object',\n",
    "       'willingToConsiderAtALaterTime': 'object'}"
   ]
  },
  {
   "cell_type": "code",
   "execution_count": 2,
   "id": "bb2be63f",
   "metadata": {},
   "outputs": [
    {
     "name": "stderr",
     "output_type": "stream",
     "text": [
      "/home/ec2-user/anaconda3/envs/python3/lib/python3.10/site-packages/pandas/core/computation/expressions.py:21: UserWarning: Pandas requires version '2.8.0' or newer of 'numexpr' (version '2.7.3' currently installed).\n",
      "  from pandas.core.computation.check import NUMEXPR_INSTALLED\n"
     ]
    }
   ],
   "source": [
    "import dask.dataframe as dd\n",
    "\n",
    "ddf_16 = dd.read_csv(\"TN_16_merged_data.csv\", dtype=str, assume_missing=True)\n",
    "\n",
    "# pick the first 1 million rows\n",
    "#ddf_16_1m = ddf_16.head(n=1000000, npartitions=-1)"
   ]
  },
  {
   "cell_type": "code",
   "execution_count": 5,
   "id": "e5af75f9",
   "metadata": {},
   "outputs": [
    {
     "name": "stdout",
     "output_type": "stream",
     "text": [
      "<class 'dask.dataframe.core.DataFrame'>\n",
      "Columns: 262 entries, MaskID to LabID\n",
      "dtypes: string(262)"
     ]
    }
   ],
   "source": [
    "\n",
    "ddf_16.to_"
   ]
  },
  {
   "cell_type": "code",
   "execution_count": 6,
   "id": "b84f56ce",
   "metadata": {},
   "outputs": [],
   "source": [
    "ddf_01 = dd.read_csv(\"TN_01_Merged_Data.csv\", dtype=str, assume_missing=True)\n",
    "# pick the first 1 million rows\n",
    "#ddf_01_1m = ddf_01.head(n=1000000, npartitions=-1)"
   ]
  },
  {
   "cell_type": "code",
   "execution_count": 1,
   "id": "f4381620",
   "metadata": {},
   "outputs": [
    {
     "ename": "NameError",
     "evalue": "name 'ddf_01' is not defined",
     "output_type": "error",
     "traceback": [
      "\u001b[0;31m---------------------------------------------------------------------------\u001b[0m",
      "\u001b[0;31mNameError\u001b[0m                                 Traceback (most recent call last)",
      "Cell \u001b[0;32mIn[1], line 1\u001b[0m\n\u001b[0;32m----> 1\u001b[0m \u001b[43mddf_01\u001b[49m\u001b[38;5;241m.\u001b[39minfo()\n",
      "\u001b[0;31mNameError\u001b[0m: name 'ddf_01' is not defined"
     ]
    }
   ],
   "source": [
    "ddf_01.info()"
   ]
  },
  {
   "cell_type": "code",
   "execution_count": null,
   "id": "945700c8",
   "metadata": {},
   "outputs": [],
   "source": []
  },
  {
   "cell_type": "code",
   "execution_count": null,
   "id": "1b47cbb5",
   "metadata": {},
   "outputs": [],
   "source": []
  },
  {
   "cell_type": "code",
   "execution_count": null,
   "id": "6816b90e",
   "metadata": {},
   "outputs": [],
   "source": []
  },
  {
   "cell_type": "code",
   "execution_count": null,
   "id": "0b5db19e",
   "metadata": {},
   "outputs": [],
   "source": []
  },
  {
   "cell_type": "code",
   "execution_count": 1,
   "id": "decd6094",
   "metadata": {},
   "outputs": [
    {
     "ename": "NameError",
     "evalue": "name 'merged_result' is not defined",
     "output_type": "error",
     "traceback": [
      "\u001b[0;31m---------------------------------------------------------------------------\u001b[0m",
      "\u001b[0;31mNameError\u001b[0m                                 Traceback (most recent call last)",
      "Cell \u001b[0;32mIn[1], line 1\u001b[0m\n\u001b[0;32m----> 1\u001b[0m \u001b[43mmerged_result\u001b[49m\u001b[38;5;241m.\u001b[39mhead()\n",
      "\u001b[0;31mNameError\u001b[0m: name 'merged_result' is not defined"
     ]
    }
   ],
   "source": [
    "merged_result.head()"
   ]
  },
  {
   "cell_type": "code",
   "execution_count": null,
   "id": "34833a86",
   "metadata": {},
   "outputs": [],
   "source": [
    "import dask.dataframe as dd\n",
    "\n",
    "# Assuming ddf_01 and ddf_16 are your original Dask DataFrames\n",
    "\n",
    "# Convert all columns in both DataFrames to dtype 'object'\n",
    "ddf_01_obj = ddf_01.astype(str)\n",
    "ddf_16_obj = ddf_16.astype(str)\n",
    "\n",
    "concatenated_ddf = dd.concat([ddf_01_obj, ddf_16_obj], axis=0)\n",
    "\n",
    "# Compute the concatenated DataFrame to get the result\n",
    "try:\n",
    "    concatenated_result = concatenated_ddf.compute()\n",
    "    print(\"Concatenated DataFrame computed successfully.\")\n",
    "    print(concatenated_result.head())\n",
    "except Exception as e:\n",
    "    print(f\"Error computing the concatenated DataFrame: {e}\")\n"
   ]
  },
  {
   "cell_type": "code",
   "execution_count": null,
   "id": "ce744d38",
   "metadata": {},
   "outputs": [],
   "source": []
  },
  {
   "cell_type": "code",
   "execution_count": null,
   "id": "086e9a84",
   "metadata": {},
   "outputs": [],
   "source": []
  },
  {
   "cell_type": "code",
   "execution_count": null,
   "id": "fab028ce",
   "metadata": {},
   "outputs": [],
   "source": []
  },
  {
   "cell_type": "code",
   "execution_count": null,
   "id": "3b614ac0",
   "metadata": {},
   "outputs": [],
   "source": []
  },
  {
   "cell_type": "code",
   "execution_count": null,
   "id": "e94d4bcc",
   "metadata": {},
   "outputs": [],
   "source": []
  },
  {
   "cell_type": "code",
   "execution_count": null,
   "id": "79e1cd30",
   "metadata": {},
   "outputs": [],
   "source": []
  },
  {
   "cell_type": "code",
   "execution_count": null,
   "id": "cbcaf6a7",
   "metadata": {},
   "outputs": [],
   "source": []
  },
  {
   "cell_type": "code",
   "execution_count": null,
   "id": "a0c96d6a",
   "metadata": {},
   "outputs": [],
   "source": []
  },
  {
   "cell_type": "code",
   "execution_count": null,
   "id": "88d608e4",
   "metadata": {},
   "outputs": [],
   "source": [
    "# Find common columns between the two DataFrames\n",
    "common_columns = set(ddf_01.columns).intersection(set(ddf_16.columns))\n",
    "print(len(common_columns))\n",
    "print(common_columns)"
   ]
  },
  {
   "cell_type": "code",
   "execution_count": null,
   "id": "5b757abe",
   "metadata": {},
   "outputs": [],
   "source": []
  },
  {
   "cell_type": "code",
   "execution_count": null,
   "id": "02497724",
   "metadata": {},
   "outputs": [],
   "source": [
    "common_column = list(common_columns)\n",
    "\n",
    "# Merge the datasets using an outer join on the common columns\n",
    "merged_ddf = dd.merge(ddf_01, ddf_16, on=common_column, how='outer')\n",
    "\n",
    "# Compute the merged DataFrame to get the result\n",
    "merged_result = merged_ddf.compute()\n",
    "\n",
    "# Show the first few rows of the merged DataFrame\n",
    "print(merged_result.head())\n"
   ]
  },
  {
   "cell_type": "code",
   "execution_count": null,
   "id": "a126e344",
   "metadata": {},
   "outputs": [],
   "source": []
  },
  {
   "cell_type": "code",
   "execution_count": null,
   "id": "c1f09266",
   "metadata": {},
   "outputs": [],
   "source": []
  },
  {
   "cell_type": "code",
   "execution_count": null,
   "id": "33c6b9c9",
   "metadata": {},
   "outputs": [],
   "source": []
  },
  {
   "cell_type": "code",
   "execution_count": null,
   "id": "d8450e5e",
   "metadata": {},
   "outputs": [],
   "source": []
  },
  {
   "cell_type": "code",
   "execution_count": null,
   "id": "8fc2a021",
   "metadata": {},
   "outputs": [],
   "source": []
  },
  {
   "cell_type": "code",
   "execution_count": null,
   "id": "bd6f351e",
   "metadata": {},
   "outputs": [],
   "source": []
  },
  {
   "cell_type": "code",
   "execution_count": null,
   "id": "1a297cbb",
   "metadata": {},
   "outputs": [],
   "source": []
  },
  {
   "cell_type": "code",
   "execution_count": null,
   "id": "c321ab45",
   "metadata": {},
   "outputs": [],
   "source": []
  },
  {
   "cell_type": "code",
   "execution_count": null,
   "id": "3bc4e05c",
   "metadata": {},
   "outputs": [],
   "source": []
  },
  {
   "cell_type": "markdown",
   "id": "5ab33fc9",
   "metadata": {},
   "source": [
    "#### Change some columns from object to category"
   ]
  },
  {
   "cell_type": "code",
   "execution_count": null,
   "id": "7bde15ff",
   "metadata": {},
   "outputs": [],
   "source": [
    "import pandas as pd\n",
    "import numpy as np\n",
    "\n",
    "def transform_data_types(df):\n",
    "    for column in df.columns:\n",
    "        # Check for NaN values in the column\n",
    "        has_nan = df[column].isnull().any()\n",
    "\n",
    "        if df[column].dtype == 'float64':\n",
    "            # Convert to int16 if all values are integers and there are no NaN values\n",
    "            if not has_nan and all(df[column].dropna().apply(float.is_integer)):\n",
    "                df[column] = df[column].astype('int16')\n",
    "            else:\n",
    "                # Convert to float16 otherwise\n",
    "                df[column] = df[column].astype('float16')\n",
    "\n",
    "        elif df[column].dtype == 'object':\n",
    "            # Convert string columns to category\n",
    "            if all(df[column].apply(lambda x: isinstance(x, str) or pd.isnull(x))):\n",
    "                df[column] = df[column].astype('category')\n",
    "\n",
    "    return df"
   ]
  },
  {
   "cell_type": "code",
   "execution_count": null,
   "id": "8fd26892",
   "metadata": {},
   "outputs": [],
   "source": [
    "TN_16_merged_data = transform_data_types(TN_16_merged_data)\n",
    "\n",
    "print(TN_16_merged_data.info())\n",
    "print(TN_16_merged_data.memory_usage(deep=True).sum())"
   ]
  },
  {
   "cell_type": "markdown",
   "id": "48341c9d",
   "metadata": {},
   "source": [
    "#### change some columns from float64 to sparse[float16]"
   ]
  },
  {
   "cell_type": "code",
   "execution_count": null,
   "id": "def23449",
   "metadata": {},
   "outputs": [],
   "source": [
    "summary_df_16 = pd.read_csv('TN_16_merged_data_summary.csv')\n",
    "summary_df_16.info()"
   ]
  },
  {
   "cell_type": "code",
   "execution_count": null,
   "id": "251a05f2",
   "metadata": {},
   "outputs": [],
   "source": [
    "#rename the column 'Unnamed: 0'\n",
    "summary_df_16.rename(columns={'Unnamed: 0': 'header'}, inplace=True)"
   ]
  },
  {
   "cell_type": "code",
   "execution_count": null,
   "id": "511943ee",
   "metadata": {},
   "outputs": [],
   "source": [
    "# Filter based on Missing Percentage and Value Type\n",
    "filtered_columns = summary_df_16[(summary_df_16['Missing Percentage'] > 85) & \n",
    "                             (summary_df_16['Value Type'].isin(['float64']))]\n",
    "\n",
    "# Get the list of headers from the filtered DataFrame\n",
    "tn_16_headers_with_missing_85 = filtered_columns['header'].tolist()\n",
    "\n",
    "# Print the count of columns\n",
    "print(\"Count of columns with missing Percentage > 85% and Value Type 'float64':\", len(tn_16_headers_with_missing_85))"
   ]
  },
  {
   "cell_type": "code",
   "execution_count": null,
   "id": "5d5d152f",
   "metadata": {},
   "outputs": [],
   "source": [
    "error_columns = []  # List to store columns that raised errors\n",
    "\n",
    "for col in tn_16_headers_with_missing_85:\n",
    "    try:\n",
    "        print(\"Before transformation of\", col, \":\", TN_16_merged_data[col].memory_usage(deep=True), \"bytes\")\n",
    "        \n",
    "        # Check data type of the column\n",
    "        col_dtype = TN_16_merged_data[col].dtype\n",
    "        print(col_dtype)\n",
    "        if col_dtype == 'float16' or col_dtype == 'float64':\n",
    "            # Convert numeric columns to default sparse type\n",
    "            TN_16_merged_data[col] = pd.to_numeric(TN_16_merged_data[col], errors='coerce').astype('Sparse[float16]')\n",
    "        # No need to replace the column in the original DataFrame\n",
    "        # Just printing out the memory usage after transformation\n",
    "        print(\"After transformation to Sparse of\", col, \":\", TN_16_merged_data[col].memory_usage(deep=True), \"bytes\")\n",
    "    except ValueError as e:\n",
    "        print(f\"Error converting column {col}: {e}\")\n",
    "        error_columns.append(col)\n",
    "\n",
    "    print()\n",
    "\n",
    "# Print out columns that had errors\n",
    "if error_columns:\n",
    "    print(\"Columns with errors:\", error_columns)"
   ]
  },
  {
   "cell_type": "code",
   "execution_count": null,
   "id": "ca03495a",
   "metadata": {},
   "outputs": [],
   "source": [
    "#  \n",
    "test_col = TN_16_merged_data['LowestGlucosemgdl'] \n",
    "\n",
    "print(\"original memory usage: \", test_col.memory_usage(deep=True))\n",
    "test_col_32 = test_col.astype('Sparse[float16]')\n",
    "print(\"memory usage as Int32: \", test_col_32.memory_usage(deep=True))"
   ]
  },
  {
   "cell_type": "code",
   "execution_count": null,
   "id": "3cf70aaf",
   "metadata": {},
   "outputs": [],
   "source": [
    "print(TN_16_merged_data.info())\n",
    "print(TN_16_merged_data.memory_usage(deep=True).sum())"
   ]
  },
  {
   "cell_type": "code",
   "execution_count": null,
   "id": "3d7217c1",
   "metadata": {},
   "outputs": [],
   "source": [
    "# Call the function and store the result\n",
    "column_memory_tn_16= column_memory_usage(TN_16_merged_data)\n",
    "\n",
    "# Display the result\n",
    "print(column_memory_tn_16.info())\n",
    "\n",
    "column_memory_tn_16.to_csv('TN_16_memory_usage_1.csv', index = False)"
   ]
  },
  {
   "cell_type": "code",
   "execution_count": null,
   "id": "73468af0",
   "metadata": {},
   "outputs": [],
   "source": []
  },
  {
   "cell_type": "markdown",
   "id": "574483fe",
   "metadata": {},
   "source": [
    "#### change MaskID into int32"
   ]
  },
  {
   "cell_type": "markdown",
   "id": "6e021909",
   "metadata": {},
   "source": [
    "##### There are some misfilled values in MaskID columns"
   ]
  },
  {
   "cell_type": "code",
   "execution_count": null,
   "id": "92dc7770",
   "metadata": {},
   "outputs": [],
   "source": [
    "# Function to check if a value can be converted to a numeric type\n",
    "def is_not_numeric(val):\n",
    "    try:\n",
    "        float(val)  # Try converting to float\n",
    "        return False\n",
    "    except ValueError:\n",
    "        return True\n",
    "\n",
    "# Apply the function to filter out non-numeric values\n",
    "MaskID_non_numeric_values = TN_16_merged_data['MaskID'][TN_16_merged_data['MaskID'].apply(is_not_numeric)]\n",
    "print(MaskID_non_numeric_values)"
   ]
  },
  {
   "cell_type": "code",
   "execution_count": null,
   "id": "be25480c",
   "metadata": {},
   "outputs": [],
   "source": [
    "# Function to check if a value is not an integer\n",
    "def is_not_integer(val):\n",
    "    try:\n",
    "        float_val = float(val)  # Convert to float first\n",
    "        int_val = int(float_val)\n",
    "        return float_val != int_val  # Check if float value is not equal to its integer conversion\n",
    "    except ValueError:\n",
    "        return True  # Non-numeric values are also considered as not integer\n",
    "\n",
    "# Apply the function to filter out non-integer values\n",
    "MaskID_non_integer_values = TN_16_merged_data['MaskID'][TN_16_merged_data['MaskID'].apply(is_not_integer)]\n",
    "print(MaskID_non_integer_values)"
   ]
  },
  {
   "cell_type": "code",
   "execution_count": null,
   "id": "9cc80d04",
   "metadata": {},
   "outputs": [],
   "source": [
    "print(TN_16_merged_data.info())\n",
    "TN_16_merged_data = TN_16_merged_data.drop(MaskID_non_integer_values.index)\n",
    "print(TN_16_merged_data.info())"
   ]
  },
  {
   "cell_type": "code",
   "execution_count": null,
   "id": "2172d0e8",
   "metadata": {},
   "outputs": [],
   "source": [
    "import pandas as pd\n",
    "\n",
    "# Assuming TN_16_merged_data is your DataFrame and 'MaskID' is the column you're working with\n",
    "test_col = TN_16_merged_data['MaskID']\n",
    "\n",
    "print(test_col.memory_usage(deep=True))\n",
    "print(test_col.head(30))\n",
    "\n",
    "# Convert to numeric, coercing errors to NaN\n",
    "test_col_numeric = pd.to_numeric(test_col, errors='coerce')\n",
    "test_col_32 = test_col_numeric.astype('Int32')\n",
    "\n",
    "print(test_col_32.memory_usage(deep=True))\n",
    "print(test_col_32.head(30))\n",
    "print()\n"
   ]
  },
  {
   "cell_type": "code",
   "execution_count": null,
   "id": "1184263a",
   "metadata": {},
   "outputs": [],
   "source": [
    "print(TN_16_merged_data.memory_usage(deep=True).sum())\n",
    "\n",
    "test_col_numeric = pd.to_numeric(TN_16_merged_data['MaskID'], errors='coerce')\n",
    "TN_16_merged_data['MaskID'] = test_col_numeric.astype('Int32')\n",
    "\n",
    "print(TN_16_merged_data.memory_usage(deep=True).sum())"
   ]
  },
  {
   "cell_type": "code",
   "execution_count": null,
   "id": "53d827d7",
   "metadata": {},
   "outputs": [],
   "source": [
    "TN_16_merged_data.info()"
   ]
  },
  {
   "cell_type": "markdown",
   "id": "85326a8d",
   "metadata": {},
   "source": [
    "#### Change columns as object into category"
   ]
  },
  {
   "cell_type": "code",
   "execution_count": null,
   "id": "48900265",
   "metadata": {},
   "outputs": [],
   "source": [
    "#  \n",
    "test_col = TN_16_merged_data['AssessDateYear'] \n",
    "\n",
    "print(\"original memory usage as object: \", test_col.memory_usage(deep=True))\n",
    "test_col_category = test_col.astype('category')\n",
    "print(\"memory usage as category: \", test_col_category.memory_usage(deep=True))\n",
    "\n",
    "test_col_numeric = pd.to_numeric(test_col, errors='coerce')\n",
    "test_col_16 = test_col_numeric.astype('Int16')\n",
    "print(\"memory usage as int16: \", test_col_16.memory_usage(deep=True))"
   ]
  },
  {
   "cell_type": "code",
   "execution_count": null,
   "id": "0d4e9451",
   "metadata": {},
   "outputs": [],
   "source": [
    "for column in TN_16_merged_data.columns:\n",
    "    if TN_16_merged_data[column].dtype == 'object':\n",
    "        print(\"original memory usage as object: \", TN_16_merged_data[column].memory_usage(deep=True))\n",
    "        TN_16_merged_data[column] = TN_16_merged_data[column].astype('category')\n",
    "        print(\"memory usage as category: \", TN_16_merged_data[column].memory_usage(deep=True))"
   ]
  },
  {
   "cell_type": "code",
   "execution_count": null,
   "id": "2ba83392",
   "metadata": {},
   "outputs": [],
   "source": [
    "print(TN_16_merged_data.memory_usage(deep=True).sum())\n",
    "TN_16_merged_data.info()"
   ]
  },
  {
   "cell_type": "markdown",
   "id": "56b829d2",
   "metadata": {},
   "source": [
    "#### Turn Sparse[float64] into Sparse[float16]"
   ]
  },
  {
   "cell_type": "code",
   "execution_count": null,
   "id": "15226621",
   "metadata": {},
   "outputs": [],
   "source": [
    "# Iterate over each column and convert if it's of type Sparse[float64]\n",
    "for column in TN_16_merged_data.columns:\n",
    "    if pd.api.types.is_sparse(TN_16_merged_data[column].dtype):\n",
    "        if TN_16_merged_data[column].dtype.subtype == np.float64:\n",
    "            TN_16_merged_data[column] = TN_16_merged_data[column].astype('Sparse[float16]')\n",
    "\n",
    "print(TN_16_merged_data.info())\n",
    "print()\n",
    "print(TN_16_merged_data.memory_usage(deep=True).sum())"
   ]
  },
  {
   "cell_type": "code",
   "execution_count": null,
   "id": "a71c3212",
   "metadata": {},
   "outputs": [],
   "source": []
  },
  {
   "cell_type": "markdown",
   "id": "193c3af6",
   "metadata": {},
   "source": [
    "#### Turn SampleMaskID into int32"
   ]
  },
  {
   "cell_type": "code",
   "execution_count": null,
   "id": "ad1874f7",
   "metadata": {},
   "outputs": [],
   "source": [
    "# SampleMaskID has the biggest memory\n",
    "# To turn it into interger, we need to check whether all values are starting with 'S', and the rest of values are integer.\n",
    "column = TN_16_merged_data['SampleMaskID']\n",
    "\n",
    "print(\"memory as category: \", column.memory_usage(deep=True))\n",
    "\n",
    "test_col_obj = test_col.astype('object')\n",
    "print(\"memory as object: \",test_col_obj.memory_usage(deep=True))\n",
    "\n",
    "# Filter out missing values\n",
    "non_missing_column = column[column.notna()]\n",
    "\n",
    "# Check if values start with 'S'\n",
    "starts_with_s = non_missing_column.str.startswith('S')\n",
    "\n",
    "# Check if the rest part of the values are integers\n",
    "rest_is_integer = non_missing_column.str.lstrip('S').apply(lambda x: x.isdigit())\n",
    "\n",
    "# Combine the conditions\n",
    "all_conditions_met = starts_with_s & rest_is_integer\n",
    "\n",
    "# Check if all non-missing values in the column meet the conditions\n",
    "all_values_meet_conditions = all_conditions_met.all()\n",
    "\n",
    "print(\"Do all non-missing values start with 'S' and the rest part are integers?\", all_values_meet_conditions)"
   ]
  },
  {
   "cell_type": "markdown",
   "id": "74a64529",
   "metadata": {},
   "source": [
    "##### No.1 change in column values: remove 'S' for 'SampleMaskID'"
   ]
  },
  {
   "cell_type": "code",
   "execution_count": null,
   "id": "baf01fcd",
   "metadata": {},
   "outputs": [],
   "source": [
    "# Strip 's' from the start of each string in the column\n",
    "TN_16_merged_data['SampleMaskID'] = TN_16_merged_data['SampleMaskID'].str.lstrip('S')\n",
    "print(\"original memory usage: \", TN_16_merged_data['SampleMaskID'].memory_usage(deep=True))"
   ]
  },
  {
   "cell_type": "code",
   "execution_count": null,
   "id": "f94de8f9",
   "metadata": {},
   "outputs": [],
   "source": [
    "# Convert the column to nullable integer type Int32\n",
    "TN_16_merged_data['SampleMaskID'] = TN_16_merged_data['SampleMaskID'].astype('Int32')\n",
    "print(\"memory as Int32: \", TN_16_merged_data['SampleMaskID'].memory_usage(deep=True))"
   ]
  },
  {
   "cell_type": "code",
   "execution_count": null,
   "id": "6df0edb4",
   "metadata": {},
   "outputs": [],
   "source": []
  },
  {
   "cell_type": "markdown",
   "id": "fe073ef4",
   "metadata": {},
   "source": [
    "#### turn float16 into category"
   ]
  },
  {
   "cell_type": "code",
   "execution_count": null,
   "id": "10578e34",
   "metadata": {},
   "outputs": [],
   "source": [
    "# Iterate over each column and convert if it's of type float16\n",
    "for column in TN_16_merged_data.columns:\n",
    "    if TN_16_merged_data[column].dtype == np.float16:\n",
    "        print(\"memory used as float16: \", TN_16_merged_data[column].memory_usage(deep=True))\n",
    "        #convert to float32 first\n",
    "        TN_16_merged_data[column] = TN_16_merged_data[column].astype('float32')\n",
    "        print(\"memory used as float32: \", TN_16_merged_data[column].memory_usage(deep=True))\n",
    "        # Convert the column to 'category'\n",
    "        TN_16_merged_data[column] = TN_16_merged_data[column].astype('category')\n",
    "        print(\"memory used as category: \", TN_16_merged_data[column].memory_usage(deep=True))\n",
    "        print()"
   ]
  },
  {
   "cell_type": "code",
   "execution_count": null,
   "id": "1a97a248",
   "metadata": {},
   "outputs": [],
   "source": [
    "# Display DataFrame info and memory usage\n",
    "print(TN_16_merged_data.info())\n",
    "print()\n",
    "print(TN_16_merged_data.memory_usage(deep=True).sum())"
   ]
  },
  {
   "cell_type": "code",
   "execution_count": null,
   "id": "586b6048",
   "metadata": {},
   "outputs": [],
   "source": []
  },
  {
   "cell_type": "code",
   "execution_count": null,
   "id": "95428169",
   "metadata": {},
   "outputs": [],
   "source": []
  },
  {
   "cell_type": "code",
   "execution_count": null,
   "id": "a1694d27",
   "metadata": {},
   "outputs": [],
   "source": []
  },
  {
   "cell_type": "code",
   "execution_count": null,
   "id": "1704aac5",
   "metadata": {},
   "outputs": [],
   "source": []
  },
  {
   "cell_type": "code",
   "execution_count": null,
   "id": "23f2deeb",
   "metadata": {},
   "outputs": [],
   "source": []
  },
  {
   "cell_type": "code",
   "execution_count": null,
   "id": "92dff54f",
   "metadata": {},
   "outputs": [],
   "source": []
  },
  {
   "cell_type": "code",
   "execution_count": null,
   "id": "81981bbc",
   "metadata": {},
   "outputs": [],
   "source": [
    "shared_columns = TN_16_merged_data.columns.intersection(TN_01_merged_data.columns)\n",
    "print(len(shared_columns))\n",
    "print(shared_columns)"
   ]
  },
  {
   "cell_type": "code",
   "execution_count": null,
   "id": "84cfe5ed",
   "metadata": {},
   "outputs": [],
   "source": [
    "# Check for inconsistencies in data types and only report those\n",
    "inconsistencies = {}\n",
    "for col in shared_columns:\n",
    "    dtype_df1 = TN_01_merged_data[col].dtype\n",
    "    dtype_df2 = TN_16_merged_data[col].dtype\n",
    "\n",
    "    if dtype_df1 != dtype_df2:\n",
    "        print(f\"Column '{col}' has inconsistent data types: {dtype_df1} (DataFrame 1) != {dtype_df2} (DataFrame 2)\")\n",
    "    else:\n",
    "        print(f\"Column '{col}' has consistent data type: {dtype_df1}\")\n",
    "\n",
    "# Print only the columns with inconsistent data types\n",
    "for col, dtypes in inconsistencies.items():\n",
    "    print(f\"Column '{col}' has inconsistent data types: {dtypes[0]} (DataFrame 1) vs {dtypes[1]} (DataFrame 2)\")"
   ]
  },
  {
   "cell_type": "code",
   "execution_count": null,
   "id": "c941c0cc",
   "metadata": {},
   "outputs": [],
   "source": []
  },
  {
   "cell_type": "code",
   "execution_count": null,
   "id": "13989b2b",
   "metadata": {},
   "outputs": [],
   "source": []
  },
  {
   "cell_type": "code",
   "execution_count": null,
   "id": "09ab1749",
   "metadata": {},
   "outputs": [],
   "source": [
    "shared_columns = TN_16_merged_data.columns.intersection(TN_01_merged_data.columns)\n",
    "print(len(shared_columns))\n",
    "print(shared_columns)"
   ]
  },
  {
   "cell_type": "code",
   "execution_count": null,
   "id": "919c6341",
   "metadata": {},
   "outputs": [],
   "source": []
  },
  {
   "cell_type": "code",
   "execution_count": null,
   "id": "fd1698a1",
   "metadata": {},
   "outputs": [],
   "source": [
    "import pandas as pd\n",
    "\n",
    "# Function to convert float16 columns to float32\n",
    "def convert_float16_to_float32(df):\n",
    "    float16_cols = df.select_dtypes(include=['float16']).columns\n",
    "    for col in float16_cols:\n",
    "        df[col] = df[col].astype('float32')\n",
    "    return df\n",
    "\n",
    "# Convert float16 columns to float32 for both DataFrames\n",
    "TN_01_merged_data_float32 = convert_float16_to_float32(TN_01_merged_data)\n",
    "TN_16_merged_data_float32 = convert_float16_to_float32(TN_16_merged_data)\n",
    "\n",
    "# Find common headers\n",
    "common_headers_01_16 = set.intersection(set(TN_01_merged_data_float32.columns), set(TN_16_merged_data_float32.columns))\n",
    "\n",
    "# Merge the DataFrames on common headers using outer join\n",
    "merged_data_01_16 = pd.merge(TN_01_merged_data_float32, TN_16_merged_data_float32, on=list(common_headers_01_16), how='outer', \n",
    "                            suffixes=('_dup_01', '_dup_16'))\n",
    "\n",
    "print(merged_data_01_16.info())\n",
    "merged_data_01_16.head()\n"
   ]
  },
  {
   "cell_type": "code",
   "execution_count": null,
   "id": "5458c136",
   "metadata": {},
   "outputs": [],
   "source": [
    "TN_01_merged_data.info()"
   ]
  },
  {
   "cell_type": "code",
   "execution_count": null,
   "id": "f682e1f6",
   "metadata": {},
   "outputs": [],
   "source": [
    "common_headers_01_16 = set.intersection(set(TN_01_merged_data.columns), set(TN_16_merged_data.columns))\n",
    "\n",
    "# Merge the first two DataFrames on common headers using outer join\n",
    "merged_data_01_16 = pd.merge(TN_01_merged_data, TN_16_merged_data, on=list(common_headers_01_16), how='outer', \n",
    "                            suffixes=('_duplication_x', '_duplication_y'))\n",
    "\n",
    "print(merged_data_01_16.info())\n",
    "merged_data_01_16.head()"
   ]
  },
  {
   "cell_type": "code",
   "execution_count": null,
   "id": "57a95bf0",
   "metadata": {},
   "outputs": [],
   "source": []
  },
  {
   "cell_type": "code",
   "execution_count": null,
   "id": "d77f00c8",
   "metadata": {},
   "outputs": [],
   "source": []
  },
  {
   "cell_type": "code",
   "execution_count": null,
   "id": "ac66d00d",
   "metadata": {},
   "outputs": [],
   "source": []
  },
  {
   "cell_type": "code",
   "execution_count": null,
   "id": "7f7cb92b",
   "metadata": {},
   "outputs": [],
   "source": []
  },
  {
   "cell_type": "code",
   "execution_count": null,
   "id": "81603d10",
   "metadata": {},
   "outputs": [],
   "source": []
  },
  {
   "cell_type": "code",
   "execution_count": null,
   "id": "217a9231",
   "metadata": {},
   "outputs": [],
   "source": []
  },
  {
   "cell_type": "code",
   "execution_count": null,
   "id": "37d0da38",
   "metadata": {},
   "outputs": [],
   "source": []
  },
  {
   "cell_type": "code",
   "execution_count": null,
   "id": "eee82675",
   "metadata": {},
   "outputs": [],
   "source": []
  },
  {
   "cell_type": "code",
   "execution_count": null,
   "id": "bddc7f6c",
   "metadata": {},
   "outputs": [],
   "source": []
  },
  {
   "cell_type": "code",
   "execution_count": null,
   "id": "b8204f3e",
   "metadata": {},
   "outputs": [],
   "source": []
  },
  {
   "cell_type": "code",
   "execution_count": null,
   "id": "96697c54",
   "metadata": {},
   "outputs": [],
   "source": []
  },
  {
   "cell_type": "code",
   "execution_count": null,
   "id": "7fd29384",
   "metadata": {},
   "outputs": [],
   "source": []
  },
  {
   "cell_type": "code",
   "execution_count": null,
   "id": "040cabff",
   "metadata": {},
   "outputs": [],
   "source": []
  },
  {
   "cell_type": "code",
   "execution_count": null,
   "id": "6e9c9b8b",
   "metadata": {},
   "outputs": [],
   "source": []
  },
  {
   "cell_type": "code",
   "execution_count": null,
   "id": "ac1f554d",
   "metadata": {},
   "outputs": [],
   "source": []
  },
  {
   "cell_type": "code",
   "execution_count": null,
   "id": "26d5149a",
   "metadata": {},
   "outputs": [],
   "source": []
  },
  {
   "cell_type": "code",
   "execution_count": null,
   "id": "c5656a4a",
   "metadata": {},
   "outputs": [],
   "source": []
  },
  {
   "cell_type": "code",
   "execution_count": null,
   "id": "784c02d8",
   "metadata": {},
   "outputs": [],
   "source": []
  },
  {
   "cell_type": "code",
   "execution_count": null,
   "id": "266af8a0",
   "metadata": {},
   "outputs": [],
   "source": []
  },
  {
   "cell_type": "code",
   "execution_count": null,
   "id": "8b6d1a90",
   "metadata": {},
   "outputs": [],
   "source": []
  },
  {
   "cell_type": "code",
   "execution_count": null,
   "id": "46f0b775",
   "metadata": {},
   "outputs": [],
   "source": []
  },
  {
   "cell_type": "code",
   "execution_count": null,
   "id": "b71f46f8",
   "metadata": {},
   "outputs": [],
   "source": []
  },
  {
   "cell_type": "code",
   "execution_count": null,
   "id": "36df61e8",
   "metadata": {},
   "outputs": [],
   "source": []
  },
  {
   "cell_type": "code",
   "execution_count": null,
   "id": "52ce2f34",
   "metadata": {},
   "outputs": [],
   "source": []
  },
  {
   "cell_type": "code",
   "execution_count": null,
   "id": "d0bb61ba",
   "metadata": {},
   "outputs": [],
   "source": []
  },
  {
   "cell_type": "code",
   "execution_count": null,
   "id": "c6498f8e",
   "metadata": {},
   "outputs": [],
   "source": []
  },
  {
   "cell_type": "code",
   "execution_count": null,
   "id": "7cf9d116",
   "metadata": {},
   "outputs": [],
   "source": []
  },
  {
   "cell_type": "code",
   "execution_count": null,
   "id": "892e164e",
   "metadata": {},
   "outputs": [],
   "source": []
  },
  {
   "cell_type": "code",
   "execution_count": null,
   "id": "744e4fc2",
   "metadata": {},
   "outputs": [],
   "source": []
  },
  {
   "cell_type": "code",
   "execution_count": null,
   "id": "9903ebd5",
   "metadata": {},
   "outputs": [],
   "source": []
  },
  {
   "cell_type": "code",
   "execution_count": null,
   "id": "1ed16c90",
   "metadata": {},
   "outputs": [],
   "source": []
  },
  {
   "cell_type": "code",
   "execution_count": null,
   "id": "282f6325",
   "metadata": {},
   "outputs": [],
   "source": []
  },
  {
   "cell_type": "code",
   "execution_count": null,
   "id": "c974e568",
   "metadata": {},
   "outputs": [],
   "source": []
  },
  {
   "cell_type": "code",
   "execution_count": null,
   "id": "d920d33d",
   "metadata": {},
   "outputs": [],
   "source": []
  },
  {
   "cell_type": "markdown",
   "id": "aa8fb853",
   "metadata": {},
   "source": [
    "## 1.3 TN_19"
   ]
  },
  {
   "cell_type": "code",
   "execution_count": null,
   "id": "7c69181d",
   "metadata": {},
   "outputs": [],
   "source": []
  },
  {
   "cell_type": "code",
   "execution_count": null,
   "id": "c470ea97",
   "metadata": {},
   "outputs": [],
   "source": []
  },
  {
   "cell_type": "code",
   "execution_count": null,
   "id": "89fde99e",
   "metadata": {},
   "outputs": [],
   "source": []
  },
  {
   "cell_type": "code",
   "execution_count": null,
   "id": "62cd9e2a",
   "metadata": {},
   "outputs": [],
   "source": []
  },
  {
   "cell_type": "code",
   "execution_count": null,
   "id": "af34bb7e",
   "metadata": {},
   "outputs": [],
   "source": []
  },
  {
   "cell_type": "code",
   "execution_count": null,
   "id": "bc72829b",
   "metadata": {},
   "outputs": [],
   "source": []
  },
  {
   "cell_type": "code",
   "execution_count": null,
   "id": "00529f5f",
   "metadata": {},
   "outputs": [],
   "source": []
  },
  {
   "cell_type": "code",
   "execution_count": null,
   "id": "ebc0e8cc",
   "metadata": {},
   "outputs": [],
   "source": []
  },
  {
   "cell_type": "code",
   "execution_count": null,
   "id": "b838a3f3",
   "metadata": {},
   "outputs": [],
   "source": []
  },
  {
   "cell_type": "code",
   "execution_count": null,
   "id": "c6d7531e",
   "metadata": {},
   "outputs": [],
   "source": []
  },
  {
   "cell_type": "code",
   "execution_count": null,
   "id": "0cadee00",
   "metadata": {},
   "outputs": [],
   "source": []
  },
  {
   "cell_type": "code",
   "execution_count": null,
   "id": "523cec0b",
   "metadata": {},
   "outputs": [],
   "source": []
  },
  {
   "cell_type": "code",
   "execution_count": null,
   "id": "5c5f7cc9",
   "metadata": {},
   "outputs": [],
   "source": []
  },
  {
   "cell_type": "code",
   "execution_count": null,
   "id": "2bb341da",
   "metadata": {},
   "outputs": [],
   "source": []
  },
  {
   "cell_type": "code",
   "execution_count": null,
   "id": "b3a1dca2",
   "metadata": {},
   "outputs": [],
   "source": []
  },
  {
   "cell_type": "code",
   "execution_count": null,
   "id": "4a5eac7f",
   "metadata": {},
   "outputs": [],
   "source": []
  },
  {
   "cell_type": "code",
   "execution_count": null,
   "id": "b52d0fff",
   "metadata": {},
   "outputs": [],
   "source": []
  },
  {
   "cell_type": "code",
   "execution_count": null,
   "id": "ed754954",
   "metadata": {},
   "outputs": [],
   "source": []
  },
  {
   "cell_type": "code",
   "execution_count": null,
   "id": "8f6c898f",
   "metadata": {},
   "outputs": [],
   "source": []
  },
  {
   "cell_type": "code",
   "execution_count": null,
   "id": "5ee0a1b4",
   "metadata": {},
   "outputs": [],
   "source": []
  },
  {
   "cell_type": "code",
   "execution_count": null,
   "id": "7947672b",
   "metadata": {},
   "outputs": [],
   "source": []
  },
  {
   "cell_type": "code",
   "execution_count": null,
   "id": "d26f5b63",
   "metadata": {},
   "outputs": [],
   "source": []
  },
  {
   "cell_type": "code",
   "execution_count": null,
   "id": "3182bb97",
   "metadata": {},
   "outputs": [],
   "source": []
  },
  {
   "cell_type": "code",
   "execution_count": null,
   "id": "4452aaa8",
   "metadata": {},
   "outputs": [],
   "source": []
  },
  {
   "cell_type": "code",
   "execution_count": null,
   "id": "8cc78339",
   "metadata": {},
   "outputs": [],
   "source": []
  },
  {
   "cell_type": "code",
   "execution_count": null,
   "id": "d51f715a",
   "metadata": {},
   "outputs": [],
   "source": []
  },
  {
   "cell_type": "code",
   "execution_count": null,
   "id": "1b7e5a86",
   "metadata": {},
   "outputs": [],
   "source": []
  },
  {
   "cell_type": "code",
   "execution_count": null,
   "id": "e552abb1",
   "metadata": {},
   "outputs": [],
   "source": []
  },
  {
   "cell_type": "code",
   "execution_count": null,
   "id": "ccb66ef8",
   "metadata": {},
   "outputs": [],
   "source": []
  },
  {
   "cell_type": "code",
   "execution_count": null,
   "id": "f8ca98a3",
   "metadata": {},
   "outputs": [],
   "source": []
  },
  {
   "cell_type": "code",
   "execution_count": null,
   "id": "80281b32",
   "metadata": {},
   "outputs": [],
   "source": []
  },
  {
   "cell_type": "code",
   "execution_count": null,
   "id": "3b256726",
   "metadata": {},
   "outputs": [],
   "source": []
  },
  {
   "cell_type": "code",
   "execution_count": null,
   "id": "7f8bd861",
   "metadata": {},
   "outputs": [],
   "source": []
  },
  {
   "cell_type": "code",
   "execution_count": null,
   "id": "f5f7148b",
   "metadata": {},
   "outputs": [],
   "source": []
  },
  {
   "cell_type": "code",
   "execution_count": null,
   "id": "b95b59a3",
   "metadata": {},
   "outputs": [],
   "source": []
  },
  {
   "cell_type": "code",
   "execution_count": null,
   "id": "7e4afd9f",
   "metadata": {},
   "outputs": [],
   "source": []
  },
  {
   "cell_type": "code",
   "execution_count": null,
   "id": "4243055a",
   "metadata": {},
   "outputs": [],
   "source": []
  },
  {
   "cell_type": "code",
   "execution_count": null,
   "id": "5656ed39",
   "metadata": {},
   "outputs": [],
   "source": []
  },
  {
   "cell_type": "code",
   "execution_count": null,
   "id": "769f2cf3",
   "metadata": {},
   "outputs": [],
   "source": []
  },
  {
   "cell_type": "code",
   "execution_count": null,
   "id": "d7a2b645",
   "metadata": {},
   "outputs": [],
   "source": []
  },
  {
   "cell_type": "markdown",
   "id": "e0553edd",
   "metadata": {},
   "source": [
    "## 1.4 TN_20"
   ]
  },
  {
   "cell_type": "code",
   "execution_count": null,
   "id": "c6db9c20",
   "metadata": {},
   "outputs": [],
   "source": []
  },
  {
   "cell_type": "code",
   "execution_count": null,
   "id": "bc8be38a",
   "metadata": {},
   "outputs": [],
   "source": []
  },
  {
   "cell_type": "code",
   "execution_count": null,
   "id": "c932acd2",
   "metadata": {},
   "outputs": [],
   "source": []
  },
  {
   "cell_type": "code",
   "execution_count": null,
   "id": "d0d90192",
   "metadata": {},
   "outputs": [],
   "source": []
  },
  {
   "cell_type": "code",
   "execution_count": null,
   "id": "97e48f3e",
   "metadata": {},
   "outputs": [],
   "source": []
  },
  {
   "cell_type": "code",
   "execution_count": null,
   "id": "9c11a2a2",
   "metadata": {},
   "outputs": [],
   "source": []
  },
  {
   "cell_type": "code",
   "execution_count": null,
   "id": "74946351",
   "metadata": {},
   "outputs": [],
   "source": []
  },
  {
   "cell_type": "code",
   "execution_count": null,
   "id": "b4a22e77",
   "metadata": {},
   "outputs": [],
   "source": []
  },
  {
   "cell_type": "code",
   "execution_count": null,
   "id": "bf546531",
   "metadata": {},
   "outputs": [],
   "source": []
  },
  {
   "cell_type": "code",
   "execution_count": null,
   "id": "bbdc4a45",
   "metadata": {},
   "outputs": [],
   "source": []
  },
  {
   "cell_type": "code",
   "execution_count": null,
   "id": "b519ee48",
   "metadata": {},
   "outputs": [],
   "source": []
  },
  {
   "cell_type": "code",
   "execution_count": null,
   "id": "ae10317b",
   "metadata": {},
   "outputs": [],
   "source": []
  },
  {
   "cell_type": "code",
   "execution_count": null,
   "id": "68bed7ea",
   "metadata": {},
   "outputs": [],
   "source": []
  },
  {
   "cell_type": "code",
   "execution_count": null,
   "id": "1147ba7a",
   "metadata": {},
   "outputs": [],
   "source": []
  },
  {
   "cell_type": "code",
   "execution_count": null,
   "id": "0da8a7f1",
   "metadata": {},
   "outputs": [],
   "source": []
  },
  {
   "cell_type": "code",
   "execution_count": null,
   "id": "76677ade",
   "metadata": {},
   "outputs": [],
   "source": []
  },
  {
   "cell_type": "code",
   "execution_count": null,
   "id": "bde2a498",
   "metadata": {},
   "outputs": [],
   "source": []
  },
  {
   "cell_type": "code",
   "execution_count": null,
   "id": "8a6903b3",
   "metadata": {},
   "outputs": [],
   "source": []
  },
  {
   "cell_type": "code",
   "execution_count": null,
   "id": "99ca058e",
   "metadata": {},
   "outputs": [],
   "source": []
  },
  {
   "cell_type": "code",
   "execution_count": null,
   "id": "7872c43f",
   "metadata": {},
   "outputs": [],
   "source": []
  },
  {
   "cell_type": "code",
   "execution_count": null,
   "id": "64d5713a",
   "metadata": {},
   "outputs": [],
   "source": []
  },
  {
   "cell_type": "code",
   "execution_count": null,
   "id": "7991e2d6",
   "metadata": {},
   "outputs": [],
   "source": []
  },
  {
   "cell_type": "code",
   "execution_count": null,
   "id": "76fdf447",
   "metadata": {},
   "outputs": [],
   "source": []
  },
  {
   "cell_type": "code",
   "execution_count": null,
   "id": "82cfe6a1",
   "metadata": {},
   "outputs": [],
   "source": []
  },
  {
   "cell_type": "code",
   "execution_count": null,
   "id": "f4008de9",
   "metadata": {},
   "outputs": [],
   "source": []
  },
  {
   "cell_type": "code",
   "execution_count": null,
   "id": "d7c4b011",
   "metadata": {},
   "outputs": [],
   "source": []
  },
  {
   "cell_type": "code",
   "execution_count": null,
   "id": "43982c7a",
   "metadata": {},
   "outputs": [],
   "source": []
  },
  {
   "cell_type": "code",
   "execution_count": null,
   "id": "7cde0c22",
   "metadata": {},
   "outputs": [],
   "source": []
  },
  {
   "cell_type": "code",
   "execution_count": null,
   "id": "484be863",
   "metadata": {},
   "outputs": [],
   "source": []
  },
  {
   "cell_type": "code",
   "execution_count": null,
   "id": "0ac7e811",
   "metadata": {},
   "outputs": [],
   "source": []
  },
  {
   "cell_type": "code",
   "execution_count": null,
   "id": "35b4a443",
   "metadata": {},
   "outputs": [],
   "source": []
  },
  {
   "cell_type": "code",
   "execution_count": null,
   "id": "b44653b9",
   "metadata": {},
   "outputs": [],
   "source": []
  },
  {
   "cell_type": "code",
   "execution_count": null,
   "id": "4cfe12c4",
   "metadata": {},
   "outputs": [],
   "source": []
  },
  {
   "cell_type": "code",
   "execution_count": null,
   "id": "8811e006",
   "metadata": {},
   "outputs": [],
   "source": []
  },
  {
   "cell_type": "code",
   "execution_count": null,
   "id": "50b3e425",
   "metadata": {},
   "outputs": [],
   "source": []
  },
  {
   "cell_type": "code",
   "execution_count": null,
   "id": "a665df2d",
   "metadata": {},
   "outputs": [],
   "source": []
  },
  {
   "cell_type": "code",
   "execution_count": null,
   "id": "13444a0f",
   "metadata": {},
   "outputs": [],
   "source": []
  },
  {
   "cell_type": "code",
   "execution_count": null,
   "id": "f538219d",
   "metadata": {},
   "outputs": [],
   "source": []
  },
  {
   "cell_type": "markdown",
   "id": "9f0e19d7",
   "metadata": {},
   "source": [
    "#### test of merged dataset"
   ]
  },
  {
   "cell_type": "code",
   "execution_count": null,
   "id": "a55b52fb",
   "metadata": {},
   "outputs": [],
   "source": [
    "string = \"D5OtherTestResultDD\"  # change this to the string you're searching for\n",
    "# Convert the search string to lower case (or upper case)\n",
    "search_string_lower = string.lower()\n",
    "\n",
    "# Find columns that contain the search string, case-insensitive\n",
    "matching_columns = [col for col in transformed_merged_data.columns if search_string_lower in col.lower()]\n",
    "print(\"Found \", len(matching_columns), \"columns: \", matching_columns)\n",
    "\n",
    "# Create a DataFrame with the filtered columns and drop rows with only missing values\n",
    "filtered_df = transformed_merged_data[matching_columns].dropna(how='all')\n",
    "print(\"DataFrame with filtered columns (rows with all missing values dropped):\")\n",
    "print()\n",
    "print(filtered_df.info())\n",
    "#print(filtered_df.head(30))\n",
    "\n",
    "# Print top 20 values for each matching column\n",
    "for col in matching_columns:\n",
    "    print(f\"Top 20 values for column {col}:\")\n",
    "    print(transformed_merged_data[col].value_counts().nlargest(30))\n",
    "    print()"
   ]
  },
  {
   "cell_type": "code",
   "execution_count": null,
   "id": "6671b664",
   "metadata": {},
   "outputs": [],
   "source": []
  },
  {
   "cell_type": "code",
   "execution_count": null,
   "id": "66d50de7",
   "metadata": {},
   "outputs": [],
   "source": [
    "summary_df = pd.read_csv('merged_first_part_summary.csv')"
   ]
  },
  {
   "cell_type": "code",
   "execution_count": null,
   "id": "22184f1c",
   "metadata": {},
   "outputs": [],
   "source": []
  },
  {
   "cell_type": "code",
   "execution_count": null,
   "id": "909be08d",
   "metadata": {},
   "outputs": [],
   "source": []
  },
  {
   "cell_type": "code",
   "execution_count": null,
   "id": "385a330f",
   "metadata": {},
   "outputs": [],
   "source": []
  },
  {
   "cell_type": "code",
   "execution_count": null,
   "id": "dcc5d424",
   "metadata": {},
   "outputs": [],
   "source": []
  },
  {
   "cell_type": "code",
   "execution_count": null,
   "id": "4c2423b5",
   "metadata": {},
   "outputs": [],
   "source": []
  },
  {
   "cell_type": "code",
   "execution_count": null,
   "id": "f9023ada",
   "metadata": {},
   "outputs": [],
   "source": []
  },
  {
   "cell_type": "code",
   "execution_count": null,
   "id": "ee346be5",
   "metadata": {},
   "outputs": [],
   "source": []
  },
  {
   "cell_type": "code",
   "execution_count": null,
   "id": "69e4ec58",
   "metadata": {},
   "outputs": [],
   "source": [
    "merged_data_23.memory_usage(deep=True)"
   ]
  },
  {
   "cell_type": "code",
   "execution_count": null,
   "id": "544a1463",
   "metadata": {},
   "outputs": [],
   "source": [
    "merged_data_23['Date_of_Registration'] = pd.to_datetime(merged_data_23['Date_of_Registration'], format='%m/%d/%Y')"
   ]
  },
  {
   "cell_type": "code",
   "execution_count": null,
   "id": "83b7a722",
   "metadata": {},
   "outputs": [],
   "source": [
    "merged_data_23.memory_usage(deep=True)"
   ]
  },
  {
   "cell_type": "code",
   "execution_count": null,
   "id": "31e845d6",
   "metadata": {},
   "outputs": [],
   "source": [
    "merged_data_23.info()"
   ]
  },
  {
   "cell_type": "code",
   "execution_count": null,
   "id": "5cfbd6c5",
   "metadata": {},
   "outputs": [],
   "source": []
  },
  {
   "cell_type": "code",
   "execution_count": null,
   "id": "9678d0f8",
   "metadata": {},
   "outputs": [],
   "source": [
    "# Check unique value counts. \n",
    "unique_counts = merged_data_23.nunique()\n",
    "unique_counts"
   ]
  },
  {
   "cell_type": "code",
   "execution_count": null,
   "id": "073f8539",
   "metadata": {},
   "outputs": [],
   "source": []
  },
  {
   "cell_type": "code",
   "execution_count": null,
   "id": "e55d7e7a",
   "metadata": {},
   "outputs": [],
   "source": []
  },
  {
   "cell_type": "code",
   "execution_count": null,
   "id": "be6ba2b4",
   "metadata": {},
   "outputs": [],
   "source": []
  },
  {
   "cell_type": "code",
   "execution_count": null,
   "id": "2ec52f75",
   "metadata": {},
   "outputs": [],
   "source": []
  },
  {
   "cell_type": "code",
   "execution_count": null,
   "id": "bededb37",
   "metadata": {},
   "outputs": [],
   "source": []
  },
  {
   "cell_type": "code",
   "execution_count": null,
   "id": "1c340270",
   "metadata": {},
   "outputs": [],
   "source": []
  },
  {
   "cell_type": "code",
   "execution_count": null,
   "id": "985fc18f",
   "metadata": {},
   "outputs": [],
   "source": []
  },
  {
   "cell_type": "code",
   "execution_count": null,
   "id": "217ae1c4",
   "metadata": {},
   "outputs": [],
   "source": []
  },
  {
   "cell_type": "code",
   "execution_count": null,
   "id": "e94909bd",
   "metadata": {},
   "outputs": [],
   "source": []
  },
  {
   "cell_type": "code",
   "execution_count": null,
   "id": "d864e240",
   "metadata": {},
   "outputs": [],
   "source": []
  },
  {
   "cell_type": "code",
   "execution_count": null,
   "id": "e759d748",
   "metadata": {},
   "outputs": [],
   "source": []
  },
  {
   "cell_type": "code",
   "execution_count": null,
   "id": "7e94eb35",
   "metadata": {},
   "outputs": [],
   "source": []
  },
  {
   "cell_type": "code",
   "execution_count": null,
   "id": "812c4f77",
   "metadata": {},
   "outputs": [],
   "source": []
  },
  {
   "cell_type": "code",
   "execution_count": null,
   "id": "2df75285",
   "metadata": {},
   "outputs": [],
   "source": []
  },
  {
   "cell_type": "code",
   "execution_count": null,
   "id": "ca32b61d",
   "metadata": {},
   "outputs": [],
   "source": []
  },
  {
   "cell_type": "code",
   "execution_count": null,
   "id": "5c7523b7",
   "metadata": {},
   "outputs": [],
   "source": []
  },
  {
   "cell_type": "code",
   "execution_count": null,
   "id": "ec5f0df0",
   "metadata": {},
   "outputs": [],
   "source": []
  },
  {
   "cell_type": "markdown",
   "id": "6e02ef7c",
   "metadata": {},
   "source": [
    "# 1.4 Data query"
   ]
  },
  {
   "cell_type": "markdown",
   "id": "0d4e8a42",
   "metadata": {},
   "source": [
    "## 1.4.1 check column names and their values containing a string"
   ]
  },
  {
   "cell_type": "code",
   "execution_count": null,
   "id": "541426b8",
   "metadata": {},
   "outputs": [],
   "source": [
    "# The following code is to load the first part of merged dataset\n",
    "import pandas as pd\n",
    "from pandas.core.computation.check import NUMEXPR_INSTALLED\n",
    "import warnings\n",
    "warnings.filterwarnings('ignore')\n",
    "\n",
    "merged_first_part = pd.read_csv('TN_01_merged_data_1.csv')"
   ]
  },
  {
   "cell_type": "code",
   "execution_count": null,
   "id": "6cfc3a44",
   "metadata": {},
   "outputs": [],
   "source": []
  },
  {
   "cell_type": "markdown",
   "id": "1d8f2ea6",
   "metadata": {},
   "source": [
    "Strings in columns that could be merged:\n",
    "1. testName: 23\n",
    "2. \n",
    "3. D5OtherTestResultDD, D5OtherTestResultMM, D5OtherTestResultYYYY: 3*23\n",
    "4. \n",
    "5. \n",
    "6. \n",
    "7. \n",
    "8. Heightcm, heightin\n",
    "9. Weightkg, Weightlbs\n",
    "10.'TimeOfCollectionHH', 'TimeOfCollectionMM'\n",
    "11.\n",
    "12.\n",
    "13. "
   ]
  },
  {
   "cell_type": "code",
   "execution_count": null,
   "id": "a23b4227",
   "metadata": {},
   "outputs": [],
   "source": [
    "merged_first_part.info()"
   ]
  },
  {
   "cell_type": "code",
   "execution_count": null,
   "id": "e2953343",
   "metadata": {},
   "outputs": [],
   "source": []
  },
  {
   "cell_type": "code",
   "execution_count": null,
   "id": "15b4c1e6",
   "metadata": {},
   "outputs": [],
   "source": [
    "merged_first_part.info()"
   ]
  },
  {
   "cell_type": "markdown",
   "id": "6c5b708f",
   "metadata": {},
   "source": [
    "#### 1) Case insensitive"
   ]
  },
  {
   "cell_type": "code",
   "execution_count": null,
   "id": "b229c630",
   "metadata": {},
   "outputs": [],
   "source": [
    "string = \"D6OtherTestResultUnit\"  # change this to the string you're searching for\n",
    "# Convert the search string to lower case (or upper case)\n",
    "search_string_lower = string.lower()\n",
    "\n",
    "# Find columns that contain the search string, case-insensitive\n",
    "matching_columns = [col for col in merged_first_part.columns if search_string_lower in col.lower()]\n",
    "print(\"Found \", len(matching_columns), \"columns: \", matching_columns)\n",
    "\n",
    "# Create a DataFrame with the filtered columns and drop rows with only missing values\n",
    "filtered_df = merged_first_part[matching_columns].dropna(how='all')\n",
    "print(\"DataFrame with filtered columns (rows with all missing values dropped):\")\n",
    "print()\n",
    "print(filtered_df.info())\n",
    "#print(filtered_df.head(30))\n",
    "\n",
    "# Print top 20 values for each matching column\n",
    "for col in matching_columns:\n",
    "    print(f\"Top 20 values for column {col}:\")\n",
    "    print(merged_first_part[col].value_counts().nlargest(30))\n",
    "    print()\n",
    "    "
   ]
  },
  {
   "cell_type": "markdown",
   "id": "65808e01",
   "metadata": {},
   "source": [
    "#### 2) Case sensitive"
   ]
  },
  {
   "cell_type": "code",
   "execution_count": null,
   "id": "2608ad9e",
   "metadata": {},
   "outputs": [],
   "source": [
    "string = \"D5OtherTestResult\"  # Change this to the string you're searching for\n",
    "\n",
    "# Find columns that contain the search string, case-sensitive\n",
    "matching_columns = [col for col in merged_first_part.columns if string in col]\n",
    "print(\"Found \", len(matching_columns), \"columns: \", matching_columns)\n",
    "\n",
    "# Create a DataFrame with the filtered columns and drop rows with only missing values\n",
    "filtered_df = merged_first_part[matching_columns].dropna(how='all')\n",
    "print(\"DataFrame with filtered columns (rows with all missing values dropped):\")\n",
    "print(filtered_df.info())\n",
    "#print(filtered_df.head(30))\n",
    "\n",
    "# Print top 20 values for each matching column\n",
    "for col in matching_columns:\n",
    "    print(f\"Top 20 values for column {col}:\")\n",
    "    print(merged_first_part[col].value_counts().nlargest(20))\n",
    "    print()\n"
   ]
  },
  {
   "cell_type": "code",
   "execution_count": null,
   "id": "2f75a292",
   "metadata": {},
   "outputs": [],
   "source": []
  },
  {
   "cell_type": "markdown",
   "id": "3e807664",
   "metadata": {},
   "source": [
    "## 1.4.2 check column names and their values containing two strings"
   ]
  },
  {
   "cell_type": "markdown",
   "id": "eb51984f",
   "metadata": {},
   "source": [
    "Filtered columns:\n",
    "1. "
   ]
  },
  {
   "cell_type": "code",
   "execution_count": null,
   "id": "42f8f079",
   "metadata": {},
   "outputs": [],
   "source": [
    "# Strings to search for: AND\n",
    "string1 = \"\"  # First string\n",
    "string2 = \"heightin\"  # Second string, change this to your second string\n",
    "\n",
    "# Convert the search strings to lower case\n",
    "search_string1_lower = string1.lower()\n",
    "search_string2_lower = string2.lower()\n",
    "\n",
    "# Find columns that contain both search strings, case-insensitive\n",
    "matching_columns = [col for col in merged_first_part.columns \n",
    "                    if search_string1_lower in col.lower() and search_string2_lower in col.lower()]\n",
    "\n",
    "print(\"Found \", len(matching_columns), \"columns: \", matching_columns)\n",
    "\n",
    "# Print top 20 values for each matching column\n",
    "for col in matching_columns:\n",
    "    print(f\"Top 20 values for column {col}:\")\n",
    "    print(merged_first_part[col].value_counts().nlargest(20))\n",
    "    print()\n"
   ]
  },
  {
   "cell_type": "code",
   "execution_count": null,
   "id": "4cd3f4f2",
   "metadata": {},
   "outputs": [],
   "source": []
  },
  {
   "cell_type": "code",
   "execution_count": null,
   "id": "775dff9c",
   "metadata": {},
   "outputs": [],
   "source": [
    "# Strings to search for: OR\n",
    "string1 = \"heightcm\"  # First string\n",
    "string2 = \"heightin\"  # Second string, change this to your second string\n",
    "\n",
    "# Convert the search strings to lower case\n",
    "search_string1_lower = string1.lower()\n",
    "search_string2_lower = string2.lower()\n",
    "\n",
    "# Find columns that contain both search strings, case-insensitive\n",
    "matching_columns = [col for col in merged_first_part.columns \n",
    "                    if search_string1_lower in col.lower() or search_string2_lower in col.lower()]\n",
    "\n",
    "print(\"Found \", len(matching_columns), \"columns: \", matching_columns)\n",
    "\n",
    "# Create a DataFrame with the filtered columns and drop rows with only missing values\n",
    "filtered_df = merged_first_part[matching_columns].dropna(how='all')\n",
    "\n",
    "# Print top 20 values for each matching column\n",
    "for col in matching_columns:\n",
    "    print(f\"Top 20 values for column {col}:\")\n",
    "    print(merged_first_part[col].value_counts().nlargest(20))\n",
    "    print()"
   ]
  },
  {
   "cell_type": "code",
   "execution_count": null,
   "id": "2cf8f2a4",
   "metadata": {},
   "outputs": [],
   "source": [
    "filtered_df.describe()"
   ]
  },
  {
   "cell_type": "code",
   "execution_count": null,
   "id": "061096a4",
   "metadata": {},
   "outputs": [],
   "source": []
  },
  {
   "cell_type": "markdown",
   "id": "6df35852",
   "metadata": {},
   "source": [
    "## 1.4.3 check column headers in one shared CSV file"
   ]
  },
  {
   "cell_type": "code",
   "execution_count": null,
   "id": "845b113a",
   "metadata": {},
   "outputs": [],
   "source": [
    "import pandas as pd\n",
    "from pandas.core.computation.check import NUMEXPR_INSTALLED\n",
    "\n",
    "#file_path = \".././studies/TN_01/TrialNet_01_Data/TN01_ADVERSEEVENTS.CSV\"\n",
    "file_path = \"/home/ec2-user/SageMaker/studies/TN_01/TrialNet_01_Data/TN01_nh08_diabonset_current.csv\"\n",
    "\n",
    "df1 = pd.read_csv(file_path)\n",
    "df1.head()"
   ]
  },
  {
   "cell_type": "code",
   "execution_count": null,
   "id": "222c825a",
   "metadata": {},
   "outputs": [],
   "source": [
    "string = \"MM\"  # change this to the string you're searching for\n",
    "# Convert the search string to lower case (or upper case)\n",
    "search_string_lower = string.lower()\n",
    "\n",
    "# Find columns that contain the search string, case-insensitive\n",
    "matching_columns = [col for col in df1.columns if search_string_lower in col.lower()]\n",
    "print(\"Found \", len(matching_columns), \"columns: \", matching_columns)\n",
    "\n",
    "\n",
    "matching_columns2 = ['MaskID', 'Visit_Dt'] + matching_columns\n",
    "# Create a DataFrame with the filtered columns and drop rows with only missing values\n",
    "filtered_df = df1[matching_columns2].dropna(how='all', subset=matching_columns)\n",
    "print(\"DataFrame with filtered columns (rows with all missing values dropped):\")\n",
    "#print(filtered_df.info())\n",
    "#print(filtered_df.head(30))\n",
    "\n",
    "# Print top 20 values for each matching column\n",
    "for col in matching_columns:\n",
    "    print(f\"Top 20 values for column {col}:\")\n",
    "    print(df1[col].value_counts().nlargest(20))\n",
    "    print()\n"
   ]
  },
  {
   "cell_type": "code",
   "execution_count": null,
   "id": "002cfc44",
   "metadata": {},
   "outputs": [],
   "source": [
    "# Display the selected rows\n",
    "filtered_df.head(20)"
   ]
  },
  {
   "cell_type": "code",
   "execution_count": null,
   "id": "7c12a048",
   "metadata": {},
   "outputs": [],
   "source": [
    "# Save the DataFrame to a CSV file\n",
    "#filtered_df.to_csv('D5MeterReading_TN01_nh08_diabonset_current.csv')"
   ]
  },
  {
   "cell_type": "code",
   "execution_count": null,
   "id": "7b9b5024",
   "metadata": {},
   "outputs": [],
   "source": [
    "# Filter the dataframe based on the condition\n",
    "filtered_rows = filtered_df[filtered_df['D5MeterReadingLoc1_1'] == 'Unknown']\n",
    "\n",
    "# Display the first 20 rows of the filtered dataframe\n",
    "filtered_rows.head(20)\n"
   ]
  },
  {
   "cell_type": "code",
   "execution_count": null,
   "id": "fc034cb6",
   "metadata": {},
   "outputs": [],
   "source": []
  },
  {
   "cell_type": "code",
   "execution_count": null,
   "id": "ad206cf8",
   "metadata": {},
   "outputs": [],
   "source": []
  },
  {
   "cell_type": "code",
   "execution_count": null,
   "id": "f8542f0f",
   "metadata": {},
   "outputs": [],
   "source": []
  }
 ],
 "metadata": {
  "kernelspec": {
   "display_name": "conda_python3",
   "language": "python",
   "name": "conda_python3"
  },
  "language_info": {
   "codemirror_mode": {
    "name": "ipython",
    "version": 3
   },
   "file_extension": ".py",
   "mimetype": "text/x-python",
   "name": "python",
   "nbconvert_exporter": "python",
   "pygments_lexer": "ipython3",
   "version": "3.10.13"
  }
 },
 "nbformat": 4,
 "nbformat_minor": 5
}
