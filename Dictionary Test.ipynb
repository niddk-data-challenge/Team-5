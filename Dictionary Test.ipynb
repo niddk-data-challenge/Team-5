{
 "cells": [
  {
   "cell_type": "code",
   "execution_count": 16,
   "id": "1364f06a",
   "metadata": {},
   "outputs": [],
   "source": [
    "import pandas as pd"
   ]
  },
  {
   "cell_type": "code",
   "execution_count": 17,
   "id": "c2eddfa3",
   "metadata": {},
   "outputs": [
    {
     "name": "stderr",
     "output_type": "stream",
     "text": [
      "/tmp/ipykernel_11487/2699864545.py:2: DtypeWarning: Columns (3,4,5,6,10,15,17,21,22,24,25,27,28,30,31,33,35,36,38,40,41,44,45,48,49,52,53,56,57,60,61,62,63,64,65,66,67,68,69,70,71,72,73,75,78,81,82,83,85,86,94,107,108,109,110,111,112,113,114,115,117,119,122,126,128,129,130,132,133,137,138,142,143,147,148,152,153,157,158,162,163,167,168,169,170,171,172,173,175,177,178,179,180,181,182,183,184,185,186,187,188,189,190,191,192,193,194,195,196,197,198,205,206,207,208,209,210,211,212,213,214,215,216,217,218,219,220,221,222,223,224,225,226,227,228,229,230,231,232,233,234,235,236,237,238,239,240,241,242,243,244,245,246,247,248,249,253,256,260,261,262,263,264,265,266,267,268,269,270,271,272,273,274,275,276,277,278,279,280,281,284,285,286,287,288,289,290,291,292,293,294,295,296,297,298,300,302,303,304,305,307,310,313,317,319,322,324,325,328,330,332,334,335,336,338,343,348,349,351,352,353,354,355,356,364,365,366,367,368,369,370,371,372,373,374,375,376,377,378,379,380,381,382,383,384,385,386,387,388,389,390,391,393,395,396,397,399,400,401,404,405,407,409,410,413,416,417,418,512,513,514,515,516,517,518,519,520,521,522,523,524,525,529,536,540,541,542,545,546,547,548,549,550,551,552,553,554,555,556,557,558,561,562,563,566,567,568,569,570,571,572,573,574,575,576,577,578,579,580,582,583,584,585,587,588,589,590,591,593,594,596,598,599,601,603,604,606,607,608,609,611,612,613,614,616,617,619,620,621,622,623,624,625,626) have mixed types. Specify dtype option on import or set low_memory=False.\n",
      "  df = pd.read_csv(raw_file)\n"
     ]
    }
   ],
   "source": [
    "raw_file = \"/home/ec2-user/SageMaker/Team-5/Fiona/TN_allinone0112.csv\"\n",
    "df = pd.read_csv(raw_file)"
   ]
  },
  {
   "cell_type": "code",
   "execution_count": 18,
   "id": "417afc16",
   "metadata": {},
   "outputs": [],
   "source": [
    "class create_data_dictionary:\n",
    "\n",
    "    def __init__(self):\n",
    "        '''This class provides functions to quickly develop a data dictionary for your data set'''\n",
    "        return None\n",
    "\n",
    "    def make_my_data_dictionary(self, dataFrame):\n",
    "        '''Create an initial data dictionary excluding definitions for meaning of features'''\n",
    "\n",
    "        col_ = dataFrame.columns\n",
    "        df_DataDict = {}\n",
    "\n",
    "        for col in col_:\n",
    "                df_DataDict[col] = {\n",
    "                               'Type': str(df.dtypes[col]),\n",
    "                               'Definition': str('')\n",
    "                                }\n",
    "\n",
    "        df_DD = pd.DataFrame(df_DataDict)\n",
    "\n",
    "        return df_DD\n",
    "\n",
    "    def define_data_meaning(self, df_data_dictionary):\n",
    "        '''Quickly provide input regarding each columns meaning and transpose into a usable dictionary'''\n",
    "\n",
    "        col_ = df_data_dictionary.columns\n",
    "        d = 'Definition'\n",
    "\n",
    "        for col in col_:\n",
    "            df_data_dictionary[col][d] = input('Provide a data definition for {}'.format(col))\n",
    "\n",
    "        df_data_dictionary = df_data_dictionary.transpose()\n",
    "\n",
    "        return df_data_dictionary\n",
    "\n",
    "    def update_dd_definition(self, df_data_dictionary, attribute):\n",
    "        try:\n",
    "            df_dd = df_data_dictionary.transpose()\n",
    "            df_dd[attribute]['Definition'] = input('Provide a data definition for {}'.format(attribute))\n",
    "            df_dd = df_dd.transpose()\n",
    "            return df_dd\n",
    "        except:\n",
    "            print('Sorry, there was an error.  Check attribute name and try again')"
   ]
  },
  {
   "cell_type": "code",
   "execution_count": 19,
   "id": "25e7b794",
   "metadata": {},
   "outputs": [],
   "source": [
    "## Use to trim to smaller df to test function\n",
    "\n",
    "# df = df.iloc[:, :5]"
   ]
  },
  {
   "cell_type": "code",
   "execution_count": 20,
   "id": "c2d6a4d7",
   "metadata": {},
   "outputs": [],
   "source": [
    "dd = create_data_dictionary()\n",
    "df_dd = dd.make_my_data_dictionary(df)\n",
    "df_dd = dd.define_data_meaning(df_dd)\n",
    "\n",
    "print(df_dd)"
   ]
  }
 ],
 "metadata": {
  "kernelspec": {
   "display_name": "conda_python3",
   "language": "python",
   "name": "conda_python3"
  },
  "language_info": {
   "codemirror_mode": {
    "name": "ipython",
    "version": 3
   },
   "file_extension": ".py",
   "mimetype": "text/x-python",
   "name": "python",
   "nbconvert_exporter": "python",
   "pygments_lexer": "ipython3",
   "version": "3.10.13"
  }
 },
 "nbformat": 4,
 "nbformat_minor": 5
}
